{
  "cells": [
    {
      "cell_type": "markdown",
      "metadata": {
        "id": "view-in-github",
        "colab_type": "text"
      },
      "source": [
        "<a href=\"https://colab.research.google.com/github/aenoboa1/Draft_ML_EmotionAPP/blob/main/testing_daisee.ipynb\" target=\"_parent\"><img src=\"https://colab.research.google.com/assets/colab-badge.svg\" alt=\"Open In Colab\"/></a>"
      ]
    },
    {
      "cell_type": "code",
      "execution_count": 1,
      "metadata": {
        "colab": {
          "base_uri": "https://localhost:8080/"
        },
        "id": "xpD86UFloVPl",
        "outputId": "2d94dbf4-187a-4557-f1d8-1f6cb92d6fa4"
      },
      "outputs": [
        {
          "output_type": "stream",
          "name": "stdout",
          "text": [
            "Cloning into 'Engagement-recognition-using-DAISEE-dataset'...\n",
            "remote: Enumerating objects: 73, done.\u001b[K\n",
            "remote: Counting objects: 100% (73/73), done.\u001b[K\n",
            "remote: Compressing objects: 100% (53/53), done.\u001b[K\n",
            "remote: Total 73 (delta 29), reused 49 (delta 16), pack-reused 0\u001b[K\n",
            "Unpacking objects: 100% (73/73), done.\n"
          ]
        }
      ],
      "source": [
        "!git clone https://github.com/federicovergallo/Engagement-recognition-using-DAISEE-dataset\n"
      ]
    },
    {
      "cell_type": "code",
      "source": [
        "\n",
        "from google.colab import drive\n",
        "drive._mount('/content/drive')\n"
      ],
      "metadata": {
        "colab": {
          "base_uri": "https://localhost:8080/"
        },
        "id": "gLR5Gtwmolp4",
        "outputId": "4edf8b48-8d36-4001-9ba1-d09c25235077"
      },
      "execution_count": 2,
      "outputs": [
        {
          "output_type": "stream",
          "name": "stdout",
          "text": [
            "Mounted at /content/drive\n"
          ]
        }
      ]
    },
    {
      "cell_type": "code",
      "source": [
        "!mkdir /content/DAiSEE ; unzip  -qq /content/drive/MyDrive/DATA/datasets/DAiSEE.zip -d /content/DAiSEE\n"
      ],
      "metadata": {
        "id": "eOoRrem0pI9w"
      },
      "execution_count": 3,
      "outputs": []
    },
    {
      "cell_type": "code",
      "source": [
        "!python /content/Engagement-recognition-using-DAISEE-dataset/daisee_data_preprocessing.py"
      ],
      "metadata": {
        "id": "oudxztXe189q"
      },
      "execution_count": null,
      "outputs": []
    },
    {
      "cell_type": "code",
      "source": [
        "! zip -r tfrecords.zip /content/tfrecords\n",
        " "
      ],
      "metadata": {
        "colab": {
          "base_uri": "https://localhost:8080/"
        },
        "id": "FXauJtuMzjRC",
        "outputId": "b50cf48b-d85a-4e4f-c408-8d497f9f1b15"
      },
      "execution_count": 102,
      "outputs": [
        {
          "output_type": "stream",
          "name": "stdout",
          "text": [
            "updating: content/tfrecords/ (stored 0%)\n",
            "updating: content/tfrecords/test.tfrecords (deflated 73%)\n",
            "updating: content/tfrecords/train.tfrecords (deflated 63%)\n",
            "updating: content/tfrecords/val.tfrecords (deflated 78%)\n"
          ]
        }
      ]
    },
    {
      "cell_type": "code",
      "source": [
        "!python /content/Engagement-recognition-using-DAISEE-dataset/train.py"
      ],
      "metadata": {
        "colab": {
          "base_uri": "https://localhost:8080/"
        },
        "id": "QehEx7mPABCx",
        "outputId": "abfd9717-5cde-4920-b893-41eda9c963cc"
      },
      "execution_count": 13,
      "outputs": [
        {
          "output_type": "stream",
          "name": "stdout",
          "text": [
            "  0% 0/501 [00:00<?, ?it/s]WARNING:tensorflow:Compiled the loaded model, but the compiled metrics have yet to be built. `model.compile_metrics` will be empty until you train or evaluate the model.\n",
            " 10% 50/501 [45:15<6:39:42, 53.18s/it]WARNING:tensorflow:Compiled the loaded model, but the compiled metrics have yet to be built. `model.compile_metrics` will be empty until you train or evaluate the model.\n",
            " 20% 100/501 [1:29:36<5:55:13, 53.15s/it]WARNING:tensorflow:Compiled the loaded model, but the compiled metrics have yet to be built. `model.compile_metrics` will be empty until you train or evaluate the model.\n",
            " 30% 150/501 [2:13:49<5:10:12, 53.03s/it]WARNING:tensorflow:Compiled the loaded model, but the compiled metrics have yet to be built. `model.compile_metrics` will be empty until you train or evaluate the model.\n",
            " 40% 200/501 [2:58:02<4:25:46, 52.98s/it]WARNING:tensorflow:Compiled the loaded model, but the compiled metrics have yet to be built. `model.compile_metrics` will be empty until you train or evaluate the model.\n",
            " 50% 250/501 [3:41:51<3:37:58, 52.11s/it]WARNING:tensorflow:Compiled the loaded model, but the compiled metrics have yet to be built. `model.compile_metrics` will be empty until you train or evaluate the model.\n",
            " 60% 300/501 [4:25:11<2:54:13, 52.01s/it]WARNING:tensorflow:Compiled the loaded model, but the compiled metrics have yet to be built. `model.compile_metrics` will be empty until you train or evaluate the model.\n",
            " 70% 350/501 [5:08:31<2:10:54, 52.02s/it]WARNING:tensorflow:Compiled the loaded model, but the compiled metrics have yet to be built. `model.compile_metrics` will be empty until you train or evaluate the model.\n",
            " 80% 400/501 [5:51:53<1:27:53, 52.21s/it]WARNING:tensorflow:Compiled the loaded model, but the compiled metrics have yet to be built. `model.compile_metrics` will be empty until you train or evaluate the model.\n",
            " 90% 450/501 [6:35:17<44:10, 51.97s/it]WARNING:tensorflow:Compiled the loaded model, but the compiled metrics have yet to be built. `model.compile_metrics` will be empty until you train or evaluate the model.\n",
            "100% 500/501 [7:18:48<00:52, 52.10s/it]WARNING:tensorflow:Compiled the loaded model, but the compiled metrics have yet to be built. `model.compile_metrics` will be empty until you train or evaluate the model.\n",
            "100% 501/501 [7:19:40<00:00, 52.66s/it]\n",
            "Accuracy on test set is 0.6450806\n"
          ]
        }
      ]
    },
    {
      "cell_type": "code",
      "source": [
        "!zip -r scratch_models.zip /content/checkpoints/scratch_aug"
      ],
      "metadata": {
        "colab": {
          "base_uri": "https://localhost:8080/"
        },
        "id": "xKRrtP8CeDDe",
        "outputId": "3b4cab63-9c7f-415a-8201-4282a8da0857"
      },
      "execution_count": 14,
      "outputs": [
        {
          "output_type": "stream",
          "name": "stdout",
          "text": [
            "  adding: content/checkpoints/scratch_aug/ (stored 0%)\n",
            "  adding: content/checkpoints/scratch_aug/Epoch_250_model.hp5 (deflated 7%)\n",
            "  adding: content/checkpoints/scratch_aug/Epoch_0_model.hp5 (deflated 7%)\n",
            "  adding: content/checkpoints/scratch_aug/Epoch_350_model.hp5 (deflated 7%)\n",
            "  adding: content/checkpoints/scratch_aug/Epoch_450_model.hp5 (deflated 7%)\n",
            "  adding: content/checkpoints/scratch_aug/Epoch_100_model.hp5 (deflated 7%)\n",
            "  adding: content/checkpoints/scratch_aug/Epoch_200_model.hp5 (deflated 7%)\n",
            "  adding: content/checkpoints/scratch_aug/Epoch_50_model.hp5 (deflated 7%)\n",
            "  adding: content/checkpoints/scratch_aug/Epoch_400_model.hp5 (deflated 7%)\n",
            "  adding: content/checkpoints/scratch_aug/Epoch_150_model.hp5 (deflated 7%)\n",
            "  adding: content/checkpoints/scratch_aug/Epoch_300_model.hp5 (deflated 7%)\n",
            "  adding: content/checkpoints/scratch_aug/Epoch_500_model.hp5 (deflated 7%)\n"
          ]
        }
      ]
    },
    {
      "cell_type": "code",
      "source": [
        "import tensorflow as tf \n",
        "raw_dataset = tf.data.TFRecordDataset(\"/content/tfrecords/train.tfrecords\")\n",
        "\n",
        "for raw_record in raw_dataset.take(1):\n",
        "    example = tf.train.Example()\n",
        "    example.ParseFromString(raw_record.numpy())\n",
        "    print(example)"
      ],
      "metadata": {
        "id": "pz0kTxW9fO9e"
      },
      "execution_count": null,
      "outputs": []
    },
    {
      "cell_type": "code",
      "source": [
        "example\n"
      ],
      "metadata": {
        "colab": {
          "base_uri": "https://localhost:8080/"
        },
        "id": "o1Aeiv11gAre",
        "outputId": "67ac3f2d-16c9-42c4-e090-7319f107e188"
      },
      "execution_count": 32,
      "outputs": [
        {
          "output_type": "execute_result",
          "data": {
            "text/plain": [
              ""
            ]
          },
          "metadata": {},
          "execution_count": 32
        }
      ]
    },
    {
      "cell_type": "markdown",
      "source": [
        "## Testing predictions"
      ],
      "metadata": {
        "id": "Lu7sbSzJkSfL"
      }
    },
    {
      "cell_type": "code",
      "source": [
        "AUTOTUNE = tf.data.AUTOTUNE\n",
        "GCS_PATH = \"/\"\n",
        "BATCH_SIZE = 64\n",
        "IMAGE_SIZE = [1024, 1024]"
      ],
      "metadata": {
        "id": "Bis5KG1OkWcr"
      },
      "execution_count": 47,
      "outputs": []
    },
    {
      "cell_type": "code",
      "source": [
        "model.compile()"
      ],
      "metadata": {
        "id": "n8HW9m1sk0ZW"
      },
      "execution_count": 53,
      "outputs": []
    },
    {
      "cell_type": "code",
      "source": [
        "from keras.models import load_model\n",
        "\n",
        "model =load_model('/content/checkpoints/scratch_aug/Epoch_400_model.hp5')\n"
      ],
      "metadata": {
        "id": "cYOtJwOdjve_",
        "outputId": "b27c0b2f-b522-460f-e52e-bd7a7a7aa1c5",
        "colab": {
          "base_uri": "https://localhost:8080/"
        }
      },
      "execution_count": 87,
      "outputs": [
        {
          "output_type": "stream",
          "name": "stdout",
          "text": [
            "WARNING:tensorflow:No training configuration found in the save file, so the model was *not* compiled. Compile it manually.\n"
          ]
        }
      ]
    },
    {
      "cell_type": "code",
      "source": [
        "model.summary()"
      ],
      "metadata": {
        "id": "9WAZDuaEj99w",
        "outputId": "aaf7ed4b-33d6-49e7-92c8-b80813fa5128",
        "colab": {
          "base_uri": "https://localhost:8080/"
        }
      },
      "execution_count": 88,
      "outputs": [
        {
          "output_type": "stream",
          "name": "stdout",
          "text": [
            "Model: \"sequential_1\"\n",
            "_________________________________________________________________\n",
            " Layer (type)                Output Shape              Param #   \n",
            "=================================================================\n",
            " conv2d_3 (Conv2D)           (None, 112, 112, 128)     3584      \n",
            "                                                                 \n",
            " re_lu_3 (ReLU)              (None, 112, 112, 128)     0         \n",
            "                                                                 \n",
            " max_pooling2d_3 (MaxPooling  (None, 56, 56, 128)      0         \n",
            " 2D)                                                             \n",
            "                                                                 \n",
            " conv2d_4 (Conv2D)           (None, 28, 28, 256)       295168    \n",
            "                                                                 \n",
            " re_lu_4 (ReLU)              (None, 28, 28, 256)       0         \n",
            "                                                                 \n",
            " max_pooling2d_4 (MaxPooling  (None, 14, 14, 256)      0         \n",
            " 2D)                                                             \n",
            "                                                                 \n",
            " conv2d_5 (Conv2D)           (None, 7, 7, 512)         1180160   \n",
            "                                                                 \n",
            " re_lu_5 (ReLU)              (None, 7, 7, 512)         0         \n",
            "                                                                 \n",
            " max_pooling2d_5 (MaxPooling  (None, 3, 3, 512)        0         \n",
            " 2D)                                                             \n",
            "                                                                 \n",
            " flatten_1 (Flatten)         (None, 4608)              0         \n",
            "                                                                 \n",
            " dense_2 (Dense)             (None, 1024)              4719616   \n",
            "                                                                 \n",
            " dense_3 (Dense)             (None, 256)               262400    \n",
            "                                                                 \n",
            " prediction (Dense)          (None, 4)                 1028      \n",
            "                                                                 \n",
            "=================================================================\n",
            "Total params: 6,461,956\n",
            "Trainable params: 6,461,956\n",
            "Non-trainable params: 0\n",
            "_________________________________________________________________\n"
          ]
        }
      ]
    },
    {
      "cell_type": "code",
      "source": [
        "from PIL import Image\n",
        "import numpy as np\n",
        "from skimage import transform\n",
        "def load(filename):\n",
        "   np_image = Image.open(filename)\n",
        "   np_image = np.array(np_image).astype('float32')/255\n",
        "   np_image = transform.resize(np_image, (224, 224, 3))\n",
        "   np_image = np.expand_dims(np_image, axis=0)\n",
        "   return np_image\n",
        "\n",
        "image = load('/content/DAiSEE/DAiSEE/DataSet/Data/Train/310082/3100821015/310082101534.jpg')"
      ],
      "metadata": {
        "id": "0hm1oWI-lXrj"
      },
      "execution_count": 99,
      "outputs": []
    },
    {
      "cell_type": "code",
      "source": [
        "image"
      ],
      "metadata": {
        "id": "Dp4-LwfZlcVx",
        "outputId": "b9ec571f-57ed-44d0-fc7c-64fa696516c6",
        "colab": {
          "base_uri": "https://localhost:8080/"
        }
      },
      "execution_count": 100,
      "outputs": [
        {
          "output_type": "execute_result",
          "data": {
            "text/plain": [
              "array([[[[0.7294118 , 0.6862745 , 0.7176471 ],\n",
              "         [0.7294118 , 0.6862745 , 0.7176471 ],\n",
              "         [0.7294118 , 0.6862745 , 0.7176471 ],\n",
              "         ...,\n",
              "         [0.7890167 , 0.72235006, 0.7537226 ],\n",
              "         [0.7882354 , 0.72156876, 0.7529413 ],\n",
              "         [0.7882353 , 0.72156864, 0.7529412 ]],\n",
              "\n",
              "        [[0.7294118 , 0.6862745 , 0.7176471 ],\n",
              "         [0.7294118 , 0.6862745 , 0.7176471 ],\n",
              "         [0.7294118 , 0.6862745 , 0.7176471 ],\n",
              "         ...,\n",
              "         [0.7890167 , 0.72235006, 0.7537226 ],\n",
              "         [0.7882354 , 0.72156876, 0.7529413 ],\n",
              "         [0.7882353 , 0.72156864, 0.7529412 ]],\n",
              "\n",
              "        [[0.7294118 , 0.6862745 , 0.7176471 ],\n",
              "         [0.7294118 , 0.6862745 , 0.7176471 ],\n",
              "         [0.7294118 , 0.6862745 , 0.7176471 ],\n",
              "         ...,\n",
              "         [0.7890167 , 0.72235006, 0.7537226 ],\n",
              "         [0.7882354 , 0.72156876, 0.7529413 ],\n",
              "         [0.7882353 , 0.72156864, 0.7529412 ]],\n",
              "\n",
              "        ...,\n",
              "\n",
              "        [[0.19215687, 0.26666668, 0.39607844],\n",
              "         [0.19215798, 0.2666678 , 0.39607957],\n",
              "         [0.19918972, 0.27369952, 0.40311128],\n",
              "         ...,\n",
              "         [0.21469529, 0.21469529, 0.22253843],\n",
              "         [0.19197722, 0.19197722, 0.19982035],\n",
              "         [0.16146226, 0.16146226, 0.1693054 ]],\n",
              "\n",
              "        [[0.19215687, 0.26666668, 0.39607844],\n",
              "         [0.19215798, 0.2666678 , 0.39607957],\n",
              "         [0.19918972, 0.27369952, 0.40311128],\n",
              "         ...,\n",
              "         [0.21469529, 0.21469529, 0.22253843],\n",
              "         [0.19197722, 0.19197722, 0.19982035],\n",
              "         [0.16146226, 0.16146226, 0.1693054 ]],\n",
              "\n",
              "        [[0.19215687, 0.26666668, 0.39607844],\n",
              "         [0.19215798, 0.2666678 , 0.39607957],\n",
              "         [0.19918972, 0.27369952, 0.40311128],\n",
              "         ...,\n",
              "         [0.21469529, 0.21469529, 0.22253843],\n",
              "         [0.19197722, 0.19197722, 0.19982035],\n",
              "         [0.16146226, 0.16146226, 0.1693054 ]]]], dtype=float32)"
            ]
          },
          "metadata": {},
          "execution_count": 100
        }
      ]
    },
    {
      "cell_type": "code",
      "source": [
        "model.predict(image)"
      ],
      "metadata": {
        "id": "9qeR8ZNQkAai",
        "outputId": "dde59caa-f5b2-4327-e94d-688a3b457150",
        "colab": {
          "base_uri": "https://localhost:8080/"
        }
      },
      "execution_count": 101,
      "outputs": [
        {
          "output_type": "execute_result",
          "data": {
            "text/plain": [
              "array([[0.22633769, 0.99989736, 0.5748068 , 0.2610716 ]], dtype=float32)"
            ]
          },
          "metadata": {},
          "execution_count": 101
        }
      ]
    },
    {
      "cell_type": "code",
      "source": [
        "!pip install cStringIO\n"
      ],
      "metadata": {
        "colab": {
          "base_uri": "https://localhost:8080/"
        },
        "id": "dppmR-T-f3Hi",
        "outputId": "63270b9c-4757-482d-e685-1f0e52adf78b"
      },
      "execution_count": 78,
      "outputs": [
        {
          "output_type": "stream",
          "name": "stdout",
          "text": [
            "\u001b[31mERROR: Could not find a version that satisfies the requirement cStringIO (from versions: none)\u001b[0m\n",
            "\u001b[31mERROR: No matching distribution found for cStringIO\u001b[0m\n"
          ]
        }
      ]
    },
    {
      "cell_type": "code",
      "source": [
        "import PIL.Image\n",
        "import io\n",
        "import IPython.display\n",
        "import numpy as np\n",
        "def showarray(a, fmt='png'):\n",
        "    a = np.uint8(a)\n",
        "    f = StringIO()\n",
        "    PIL.Image.fromarray(example).save(f, fmt)\n",
        "    IPython.display.display(IPython.display.Image(data=f.getvalue()))"
      ],
      "metadata": {
        "id": "FnOX_2YlfZvD"
      },
      "execution_count": 28,
      "outputs": []
    },
    {
      "cell_type": "code",
      "source": [
        "showarray(example)"
      ],
      "metadata": {
        "colab": {
          "base_uri": "https://localhost:8080/",
          "height": 286
        },
        "id": "LnVzbTzpgFdJ",
        "outputId": "7108436d-46cf-4a4c-dd4b-6f4d246a8569"
      },
      "execution_count": 33,
      "outputs": [
        {
          "output_type": "error",
          "ename": "TypeError",
          "evalue": "ignored",
          "traceback": [
            "\u001b[0;31m---------------------------------------------------------------------------\u001b[0m",
            "\u001b[0;31mTypeError\u001b[0m                                 Traceback (most recent call last)",
            "\u001b[0;32m<ipython-input-33-0e10a88df514>\u001b[0m in \u001b[0;36m<module>\u001b[0;34m()\u001b[0m\n\u001b[0;32m----> 1\u001b[0;31m \u001b[0mshowarray\u001b[0m\u001b[0;34m(\u001b[0m\u001b[0mexample\u001b[0m\u001b[0;34m)\u001b[0m\u001b[0;34m\u001b[0m\u001b[0;34m\u001b[0m\u001b[0m\n\u001b[0m",
            "\u001b[0;32m<ipython-input-28-13eb0134764e>\u001b[0m in \u001b[0;36mshowarray\u001b[0;34m(a, fmt)\u001b[0m\n\u001b[1;32m      4\u001b[0m \u001b[0;32mimport\u001b[0m \u001b[0mnumpy\u001b[0m \u001b[0;32mas\u001b[0m \u001b[0mnp\u001b[0m\u001b[0;34m\u001b[0m\u001b[0;34m\u001b[0m\u001b[0m\n\u001b[1;32m      5\u001b[0m \u001b[0;32mdef\u001b[0m \u001b[0mshowarray\u001b[0m\u001b[0;34m(\u001b[0m\u001b[0ma\u001b[0m\u001b[0;34m,\u001b[0m \u001b[0mfmt\u001b[0m\u001b[0;34m=\u001b[0m\u001b[0;34m'png'\u001b[0m\u001b[0;34m)\u001b[0m\u001b[0;34m:\u001b[0m\u001b[0;34m\u001b[0m\u001b[0;34m\u001b[0m\u001b[0m\n\u001b[0;32m----> 6\u001b[0;31m     \u001b[0ma\u001b[0m \u001b[0;34m=\u001b[0m \u001b[0mnp\u001b[0m\u001b[0;34m.\u001b[0m\u001b[0muint8\u001b[0m\u001b[0;34m(\u001b[0m\u001b[0ma\u001b[0m\u001b[0;34m)\u001b[0m\u001b[0;34m\u001b[0m\u001b[0;34m\u001b[0m\u001b[0m\n\u001b[0m\u001b[1;32m      7\u001b[0m     \u001b[0mf\u001b[0m \u001b[0;34m=\u001b[0m \u001b[0mStringIO\u001b[0m\u001b[0;34m(\u001b[0m\u001b[0;34m)\u001b[0m\u001b[0;34m\u001b[0m\u001b[0;34m\u001b[0m\u001b[0m\n\u001b[1;32m      8\u001b[0m     \u001b[0mPIL\u001b[0m\u001b[0;34m.\u001b[0m\u001b[0mImage\u001b[0m\u001b[0;34m.\u001b[0m\u001b[0mfromarray\u001b[0m\u001b[0;34m(\u001b[0m\u001b[0mexample\u001b[0m\u001b[0;34m)\u001b[0m\u001b[0;34m.\u001b[0m\u001b[0msave\u001b[0m\u001b[0;34m(\u001b[0m\u001b[0mf\u001b[0m\u001b[0;34m,\u001b[0m \u001b[0mfmt\u001b[0m\u001b[0;34m)\u001b[0m\u001b[0;34m\u001b[0m\u001b[0;34m\u001b[0m\u001b[0m\n",
            "\u001b[0;31mTypeError\u001b[0m: int() argument must be a string, a bytes-like object or a number, not 'Example'"
          ]
        }
      ]
    }
  ],
  "metadata": {
    "accelerator": "GPU",
    "colab": {
      "machine_shape": "hm",
      "name": "testing_daisee.ipynb",
      "provenance": [],
      "collapsed_sections": [],
      "authorship_tag": "ABX9TyN58ZcSV6wgsso1Tmry7q5/",
      "include_colab_link": true
    },
    "kernelspec": {
      "display_name": "Python 3",
      "name": "python3"
    },
    "language_info": {
      "name": "python"
    }
  },
  "nbformat": 4,
  "nbformat_minor": 0
}