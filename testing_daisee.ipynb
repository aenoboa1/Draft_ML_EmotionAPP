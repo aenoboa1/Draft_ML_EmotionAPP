{
  "cells": [
    {
      "cell_type": "markdown",
      "metadata": {
        "id": "view-in-github",
        "colab_type": "text"
      },
      "source": [
        "<a href=\"https://colab.research.google.com/github/aenoboa1/Draft_ML_EmotionAPP/blob/main/testing_daisee.ipynb\" target=\"_parent\"><img src=\"https://colab.research.google.com/assets/colab-badge.svg\" alt=\"Open In Colab\"/></a>"
      ]
    },
    {
      "cell_type": "code",
      "source": [
        "import pandas as pd\n",
        "import numpy as np\n",
        "import os\n",
        "import PIL\n",
        "import seaborn as sns\n",
        "import pickle\n",
        "from PIL import *\n",
        "import cv2\n",
        "import tensorflow as tf\n",
        "from tensorflow import keras\n",
        "from tensorflow.keras.applications import DenseNet121\n",
        "from tensorflow.keras.models import Model, load_model\n",
        "from tensorflow.keras.initializers import glorot_uniform\n",
        "from tensorflow.keras.utils import plot_model\n",
        "from tensorflow.keras.callbacks import ReduceLROnPlateau, EarlyStopping, ModelCheckpoint, LearningRateScheduler\n",
        "from IPython.display import display\n",
        "from tensorflow.python.keras import *\n",
        "from tensorflow.keras.preprocessing.image import ImageDataGenerator\n",
        "from tensorflow.keras import layers, optimizers\n",
        "from tensorflow.keras.applications.resnet50 import ResNet50\n",
        "from tensorflow.keras.layers import *\n",
        "from tensorflow.keras import backend as K\n",
        "from keras import optimizers\n",
        "import matplotlib.pyplot as plt\n",
        "from sklearn.model_selection import train_test_split\n",
        "from google.colab.patches import cv2_imshow\n",
        "from google.colab import drive\n",
        "import visualkeras\n",
        "drive._mount('/content/drive')\n",
        "\n",
        "\n",
        "#matplotlib styles\n",
        "plt.style.use(['ggplot'])\n",
        "sns.set(rc={'figure.figsize':(10,10)})"
      ],
      "metadata": {
        "id": "7iUZg4Ro7e8a"
      },
      "execution_count": 52,
      "outputs": []
    },
    {
      "cell_type": "code",
      "execution_count": null,
      "metadata": {
        "colab": {
          "base_uri": "https://localhost:8080/"
        },
        "id": "xpD86UFloVPl",
        "outputId": "2d94dbf4-187a-4557-f1d8-1f6cb92d6fa4"
      },
      "outputs": [
        {
          "output_type": "stream",
          "name": "stdout",
          "text": [
            "Cloning into 'Engagement-recognition-using-DAISEE-dataset'...\n",
            "remote: Enumerating objects: 73, done.\u001b[K\n",
            "remote: Counting objects: 100% (73/73), done.\u001b[K\n",
            "remote: Compressing objects: 100% (53/53), done.\u001b[K\n",
            "remote: Total 73 (delta 29), reused 49 (delta 16), pack-reused 0\u001b[K\n",
            "Unpacking objects: 100% (73/73), done.\n"
          ]
        }
      ],
      "source": [
        "!git clone https://github.com/federicovergallo/Engagement-recognition-using-DAISEE-dataset\n"
      ]
    },
    {
      "cell_type": "code",
      "source": [
        "!mkdir /content/DAiSEE ; unzip  -qq /content/drive/MyDrive/DATA/datasets/DAiSEE.zip -d /content/DAiSEE\n"
      ],
      "metadata": {
        "id": "eOoRrem0pI9w"
      },
      "execution_count": null,
      "outputs": []
    },
    {
      "cell_type": "code",
      "source": [
        "!python /content/Engagement-recognition-using-DAISEE-dataset/daisee_data_preprocessing.py"
      ],
      "metadata": {
        "id": "oudxztXe189q"
      },
      "execution_count": null,
      "outputs": []
    },
    {
      "cell_type": "code",
      "source": [
        "! zip -r tfrecords.zip /content/tfrecords\n",
        " "
      ],
      "metadata": {
        "colab": {
          "base_uri": "https://localhost:8080/"
        },
        "id": "FXauJtuMzjRC",
        "outputId": "b50cf48b-d85a-4e4f-c408-8d497f9f1b15"
      },
      "execution_count": null,
      "outputs": [
        {
          "output_type": "stream",
          "name": "stdout",
          "text": [
            "updating: content/tfrecords/ (stored 0%)\n",
            "updating: content/tfrecords/test.tfrecords (deflated 73%)\n",
            "updating: content/tfrecords/train.tfrecords (deflated 63%)\n",
            "updating: content/tfrecords/val.tfrecords (deflated 78%)\n"
          ]
        }
      ]
    },
    {
      "cell_type": "code",
      "source": [
        "!python /content/Engagement-recognition-using-DAISEE-dataset/train.py"
      ],
      "metadata": {
        "id": "QehEx7mPABCx"
      },
      "execution_count": null,
      "outputs": []
    },
    {
      "cell_type": "markdown",
      "source": [
        "### Train Code"
      ],
      "metadata": {
        "id": "n6fWGa8-7imA"
      }
    },
    {
      "cell_type": "code",
      "source": [
        "import numpy as np\n",
        "import tensorflow as tf\n",
        "import tensorflow.keras.layers as kl\n",
        "import tensorflow.keras.losses\n",
        "from tensorflow.keras.applications.resnet50 import ResNet50\n"
      ],
      "metadata": {
        "id": "1jLOOoYu7kng"
      },
      "execution_count": 15,
      "outputs": []
    },
    {
      "cell_type": "code",
      "source": [
        "!wget https://raw.githubusercontent.com/aenoboa1/Engagement-recognition-using-DAISEE-dataset/master/daisee_data_preprocessing.py"
      ],
      "metadata": {
        "id": "LigVvoqs93Zi",
        "outputId": "4429d7e1-d5d3-44e1-ccce-0317b1ef2261",
        "colab": {
          "base_uri": "https://localhost:8080/"
        }
      },
      "execution_count": 33,
      "outputs": [
        {
          "output_type": "stream",
          "name": "stdout",
          "text": [
            "--2021-12-27 17:42:05--  https://raw.githubusercontent.com/aenoboa1/Engagement-recognition-using-DAISEE-dataset/master/daisee_data_preprocessing.py\n",
            "Resolving raw.githubusercontent.com (raw.githubusercontent.com)... 185.199.108.133, 185.199.109.133, 185.199.110.133, ...\n",
            "Connecting to raw.githubusercontent.com (raw.githubusercontent.com)|185.199.108.133|:443... connected.\n",
            "HTTP request sent, awaiting response... 200 OK\n",
            "Length: 8681 (8.5K) [text/plain]\n",
            "Saving to: ‘daisee_data_preprocessing.py’\n",
            "\n",
            "\r          daisee_da   0%[                    ]       0  --.-KB/s               \rdaisee_data_preproc 100%[===================>]   8.48K  --.-KB/s    in 0s      \n",
            "\n",
            "2021-12-27 17:42:05 (71.4 MB/s) - ‘daisee_data_preprocessing.py’ saved [8681/8681]\n",
            "\n"
          ]
        }
      ]
    },
    {
      "cell_type": "code",
      "source": [
        "from daisee_data_preprocessing import DataPreprocessing\n",
        "import datetime\n",
        "import os\n",
        "from tqdm import tqdm"
      ],
      "metadata": {
        "id": "z5fhuSPF9z1h"
      },
      "execution_count": 34,
      "outputs": []
    },
    {
      "cell_type": "code",
      "source": [
        "BATCH_SIZE = 32\n",
        "LR = 0.005\n",
        "EPOCHS = 100"
      ],
      "metadata": {
        "id": "LjXlBA2K_EOe"
      },
      "execution_count": 35,
      "outputs": []
    },
    {
      "cell_type": "code",
      "source": [
        "current_time = datetime.datetime.now().strftime(\"%Y%m%d-%H%M%S\")\n",
        "checkpoint_dir = 'checkpoints/'\n",
        "log_dir = 'logs/'\n"
      ],
      "metadata": {
        "id": "IY_Vfesl_T3C"
      },
      "execution_count": 36,
      "outputs": []
    },
    {
      "cell_type": "code",
      "source": [
        "preprocessing_class = DataPreprocessing()\n"
      ],
      "metadata": {
        "id": "hIvMzsIs_e8J"
      },
      "execution_count": 38,
      "outputs": []
    },
    {
      "cell_type": "code",
      "source": [
        "# Open train set\n",
        "tfrecord_path = '/content/tfrecords/test.tfrecords'\n",
        "train_set = tf.data.TFRecordDataset(tfrecord_path)\n",
        "# Parse the record into tensors with map.\n",
        "train_set = train_set.map(preprocessing_class.decode)\n",
        "train_set = train_set.shuffle(1)\n",
        "train_set = train_set.batch(BATCH_SIZE)"
      ],
      "metadata": {
        "id": "Z5ua2zTq_i7t"
      },
      "execution_count": 44,
      "outputs": []
    },
    {
      "cell_type": "code",
      "source": [
        "# Open test set\n",
        "tfrecord_path = '/content/tfrecords/train.tfrecords'\n",
        "test_set = tf.data.TFRecordDataset(tfrecord_path)\n",
        "# Parse the record into tensors with map.\n",
        "test_set = test_set.map(preprocessing_class.decode)\n",
        "test_set = test_set.shuffle(1)\n",
        "test_set = test_set.batch(BATCH_SIZE)"
      ],
      "metadata": {
        "id": "kJLv34y-_jZQ"
      },
      "execution_count": 43,
      "outputs": []
    },
    {
      "cell_type": "code",
      "source": [
        "# Open val set\n",
        "tfrecord_path = '/content/tfrecords/val.tfrecords'\n",
        "val_set = tf.data.TFRecordDataset(tfrecord_path)\n",
        "# Parse the record into tensors with map.\n",
        "val_set = val_set.map(preprocessing_class.decode)\n",
        "val_set = val_set.shuffle(1)\n",
        "val_set = val_set.batch(BATCH_SIZE)"
      ],
      "metadata": {
        "id": "QQM8s8Aa_lyV"
      },
      "execution_count": 42,
      "outputs": []
    },
    {
      "cell_type": "code",
      "source": [
        "def create_log_dir(log_dir, checkpoint_dir):\n",
        "    if not os.path.exists(log_dir):\n",
        "        os.mkdir(log_dir)\n",
        "    if not os.path.exists(checkpoint_dir):\n",
        "        os.mkdir(checkpoint_dir)"
      ],
      "metadata": {
        "id": "zNVgWRnZ_mu3"
      },
      "execution_count": 45,
      "outputs": []
    },
    {
      "cell_type": "code",
      "source": [
        "def network():\n",
        "    model = tf.keras.Sequential()\n",
        "    model.add(kl.InputLayer(input_shape=(224, 224, 3)))\n",
        "    # First conv block\n",
        "    model.add(kl.Conv2D(filters = 96, kernel_size=7, padding='same', strides=2))\n",
        "    model.add(tf.keras.layers.ReLU())\n",
        "    model.add(kl.MaxPooling2D(pool_size=(3, 3)))\n",
        "    # Second conv block\n",
        "    model.add(kl.Conv2D(filters = 256, kernel_size=5, padding='same', strides=1))\n",
        "    model.add(tf.keras.layers.ReLU())\n",
        "    model.add(kl.MaxPooling2D(pool_size=(2, 2)))\n",
        "    # Third-Fourth-Fifth conv block\n",
        "    for i in range(3):\n",
        "        model.add(kl.Conv2D(filters = 512, kernel_size=3, padding='same', strides=1))\n",
        "        model.add(tf.keras.layers.ReLU())\n",
        "    model.add(kl.MaxPooling2D(pool_size=(3, 3)))\n",
        "    # Flatten\n",
        "    model.add(kl.Flatten())\n",
        "    # First FC \n",
        "    model.add(kl.Dense(4048))\n",
        "    # Second Fc\n",
        "    model.add(kl.Dense(4048))\n",
        "    # Third FC\n",
        "    model.add(kl.Dense(4))\n",
        "    # Softmax at the end\n",
        "    model.add(kl.Softmax())\n",
        "    \n",
        "    return model"
      ],
      "metadata": {
        "id": "T6UXpH4K_uaw"
      },
      "execution_count": 46,
      "outputs": []
    },
    {
      "cell_type": "code",
      "source": [
        "model = network()"
      ],
      "metadata": {
        "id": "QgRv9HTU_u96"
      },
      "execution_count": 47,
      "outputs": []
    },
    {
      "cell_type": "code",
      "source": [
        "!pip install visualkeras ; ! pip install ThreadedFileLoader # module for CNN visualization\n"
      ],
      "metadata": {
        "id": "RdAJdoSX_3jg",
        "outputId": "5a702f2d-1347-4d86-e4af-39c2f3fac96c",
        "colab": {
          "base_uri": "https://localhost:8080/"
        }
      },
      "execution_count": 49,
      "outputs": [
        {
          "output_type": "stream",
          "name": "stdout",
          "text": [
            "Requirement already satisfied: visualkeras in /usr/local/lib/python3.7/dist-packages (0.0.2)\n",
            "Requirement already satisfied: pillow>=6.2.0 in /usr/local/lib/python3.7/dist-packages (from visualkeras) (7.1.2)\n",
            "Requirement already satisfied: aggdraw>=1.3.11 in /usr/local/lib/python3.7/dist-packages (from visualkeras) (1.3.12)\n",
            "Requirement already satisfied: numpy>=1.18.1 in /usr/local/lib/python3.7/dist-packages (from visualkeras) (1.19.5)\n",
            "Collecting ThreadedFileLoader\n",
            "  Downloading ThreadedFileLoader-1.0.0.11-py3-none-any.whl (3.0 kB)\n",
            "Requirement already satisfied: imageio in /usr/local/lib/python3.7/dist-packages (from ThreadedFileLoader) (2.4.1)\n",
            "Requirement already satisfied: wheel in /usr/local/lib/python3.7/dist-packages (from ThreadedFileLoader) (0.37.0)\n",
            "Requirement already satisfied: pillow in /usr/local/lib/python3.7/dist-packages (from imageio->ThreadedFileLoader) (7.1.2)\n",
            "Requirement already satisfied: numpy in /usr/local/lib/python3.7/dist-packages (from imageio->ThreadedFileLoader) (1.19.5)\n",
            "Installing collected packages: ThreadedFileLoader\n",
            "Successfully installed ThreadedFileLoader-1.0.0.11\n"
          ]
        }
      ]
    },
    {
      "cell_type": "code",
      "source": [
        "visualkeras.layered_view(model).show()\n",
        "visualkeras.layered_view(model,legend=True)"
      ],
      "metadata": {
        "id": "45v0kh9t_w6Q",
        "outputId": "96377f47-8120-4403-e33e-1c2f5b643481",
        "colab": {
          "base_uri": "https://localhost:8080/",
          "height": 465
        }
      },
      "execution_count": 53,
      "outputs": [
        {
          "output_type": "execute_result",
          "data": {
            "image/png": "[encoded data removed]",
            "text/plain": [
              "<PIL.Image.Image image mode=RGBA size=2004x634 at 0x7F3DACF12F90>"
            ]
          },
          "metadata": {},
          "execution_count": 53
        }
      ]
    },
    {
      "cell_type": "code",
      "source": [
        "@tf.function\n",
        "def train_step(x, y):\n",
        "    with tf.GradientTape() as tape:\n",
        "        logits = model(x)\n",
        "        loss_value = tf.nn.sigmoid_cross_entropy_with_logits(labels=y, logits=logits)\n",
        "    grads = tape.gradient(loss_value, model.trainable_weights)\n",
        "    optimizer.apply_gradients(zip(grads, model.trainable_weights))\n",
        "    # Track progress\n",
        "    train_loss_avg.update_state(loss_value)\n",
        "    train_accuracy.update_state(y, logits)\n",
        "    return loss_value"
      ],
      "metadata": {
        "id": "YB0e6EkFAHM9"
      },
      "execution_count": 54,
      "outputs": []
    },
    {
      "cell_type": "code",
      "source": [
        "@tf.function\n",
        "def test_step(x, y, set_name):\n",
        "    logits = model(x)\n",
        "    if set_name == 'val':\n",
        "        val_accuracy.update_state(y, logits)\n",
        "    else:\n",
        "        test_accuracy.update_state(y, logits)"
      ],
      "metadata": {
        "id": "76Nn6dZmAXoK"
      },
      "execution_count": 55,
      "outputs": []
    },
    {
      "cell_type": "code",
      "source": [
        "optimizer = tf.keras.optimizers.Adam(learning_rate=LR)\n",
        "create_log_dir(log_dir, checkpoint_dir)\n",
        "train_summary_writer = tf.summary.create_file_writer(log_dir)"
      ],
      "metadata": {
        "id": "GN68-47IAcTH"
      },
      "execution_count": 57,
      "outputs": []
    },
    {
      "cell_type": "code",
      "source": [
        "train_loss_avg = tf.keras.metrics.Mean()\n",
        "train_accuracy = tf.keras.metrics.MeanAbsoluteError()\n",
        "val_accuracy = tf.keras.metrics.MeanAbsoluteError()\n",
        "test_accuracy = tf.keras.metrics.MeanAbsoluteError()"
      ],
      "metadata": {
        "id": "5Wa7uX1SAeix"
      },
      "execution_count": 58,
      "outputs": []
    },
    {
      "cell_type": "code",
      "source": [
        "for epoch in range(EPOCHS):\n",
        "    # Training loop\n",
        "    for x_batch_train, y_batch_train in tqdm(train_set, total=1517):\n",
        "        # Do step\n",
        "        loss_value = train_step(x_batch_train, y_batch_train)\n",
        "        \n",
        "    # Test on validation set\n",
        "    for x_batch_val, y_batch_val in val_set:\n",
        "        test_step(x_batch_val, y_batch_val, 'val')\n",
        "    \n",
        "    # Reset training metrics at the end of each epoch\n",
        "    train_acc = train_accuracy.result()\n",
        "    train_accuracy.reset_states()\n",
        "    val_acc = val_accuracy.result()\n",
        "    val_accuracy.reset_states()\n",
        "    \n",
        "    with train_summary_writer.as_default():\n",
        "        tf.summary.scalar('Train loss', train_loss_avg.result(), step=epoch)\n",
        "        tf.summary.scalar('Train MAE', train_acc, step=epoch)\n",
        "        tf.summary.scalar('Val MAE', val_acc, step=epoch)\n",
        "        \n",
        "    if epoch % 10 == 0:\n",
        "        tf.keras.models.save_model(model, '{}/Epoch_{}_model.hp5'.format(checkpoint_dir, str(epoch)), save_format=\"h5\")"
      ],
      "metadata": {
        "id": "c5Jf2xVkAgu5",
        "outputId": "458b769b-e7a2-4903-8f58-be0c1a47c720",
        "colab": {
          "base_uri": "https://localhost:8080/"
        }
      },
      "execution_count": null,
      "outputs": [
        {
          "output_type": "stream",
          "name": "stderr",
          "text": [
            " 55%|█████▍    | 833/1517 [00:50<00:41, 16.63it/s]\n"
          ]
        },
        {
          "output_type": "stream",
          "name": "stdout",
          "text": [
            "WARNING:tensorflow:Compiled the loaded model, but the compiled metrics have yet to be built. `model.compile_metrics` will be empty until you train or evaluate the model.\n"
          ]
        },
        {
          "output_type": "stream",
          "name": "stderr",
          "text": [
            "  2%|▏         | 29/1517 [00:01<01:11, 20.85it/s]"
          ]
        }
      ]
    },
    {
      "cell_type": "code",
      "source": [
        "# Test on validation set\n",
        "for x_batch_test, y_batch_test in test_set:\n",
        "    test_step(x_batch_test, y_batch_test, 'test')\n",
        "test_set_acc = test_accuracy.result()"
      ],
      "metadata": {
        "id": "J2Be92DbAnG_"
      },
      "execution_count": null,
      "outputs": []
    },
    {
      "cell_type": "markdown",
      "source": [
        "### Saving Models"
      ],
      "metadata": {
        "id": "U-lvnZHv7pjd"
      }
    },
    {
      "cell_type": "code",
      "source": [
        "!zip -r scratch_models.zip /content/checkpoints/scratch_aug"
      ],
      "metadata": {
        "colab": {
          "base_uri": "https://localhost:8080/"
        },
        "id": "xKRrtP8CeDDe",
        "outputId": "3b4cab63-9c7f-415a-8201-4282a8da0857"
      },
      "execution_count": null,
      "outputs": [
        {
          "output_type": "stream",
          "name": "stdout",
          "text": [
            "  adding: content/checkpoints/scratch_aug/ (stored 0%)\n",
            "  adding: content/checkpoints/scratch_aug/Epoch_250_model.hp5 (deflated 7%)\n",
            "  adding: content/checkpoints/scratch_aug/Epoch_0_model.hp5 (deflated 7%)\n",
            "  adding: content/checkpoints/scratch_aug/Epoch_350_model.hp5 (deflated 7%)\n",
            "  adding: content/checkpoints/scratch_aug/Epoch_450_model.hp5 (deflated 7%)\n",
            "  adding: content/checkpoints/scratch_aug/Epoch_100_model.hp5 (deflated 7%)\n",
            "  adding: content/checkpoints/scratch_aug/Epoch_200_model.hp5 (deflated 7%)\n",
            "  adding: content/checkpoints/scratch_aug/Epoch_50_model.hp5 (deflated 7%)\n",
            "  adding: content/checkpoints/scratch_aug/Epoch_400_model.hp5 (deflated 7%)\n",
            "  adding: content/checkpoints/scratch_aug/Epoch_150_model.hp5 (deflated 7%)\n",
            "  adding: content/checkpoints/scratch_aug/Epoch_300_model.hp5 (deflated 7%)\n",
            "  adding: content/checkpoints/scratch_aug/Epoch_500_model.hp5 (deflated 7%)\n"
          ]
        }
      ]
    },
    {
      "cell_type": "code",
      "source": [
        "import tensorflow as tf \n",
        "raw_dataset = tf.data.TFRecordDataset(\"/content/tfrecords/train.tfrecords\")\n",
        "\n",
        "for raw_record in raw_dataset.take(1):\n",
        "    example = tf.train.Example()\n",
        "    example.ParseFromString(raw_record.numpy())\n",
        "    print(example)"
      ],
      "metadata": {
        "id": "pz0kTxW9fO9e"
      },
      "execution_count": null,
      "outputs": []
    },
    {
      "cell_type": "code",
      "source": [
        "example\n"
      ],
      "metadata": {
        "colab": {
          "base_uri": "https://localhost:8080/"
        },
        "id": "o1Aeiv11gAre",
        "outputId": "67ac3f2d-16c9-42c4-e090-7319f107e188"
      },
      "execution_count": null,
      "outputs": [
        {
          "output_type": "execute_result",
          "data": {
            "text/plain": [
              ""
            ]
          },
          "metadata": {},
          "execution_count": 32
        }
      ]
    },
    {
      "cell_type": "markdown",
      "source": [
        "## Testing predictions"
      ],
      "metadata": {
        "id": "Lu7sbSzJkSfL"
      }
    },
    {
      "cell_type": "code",
      "source": [
        "AUTOTUNE = tf.data.AUTOTUNE\n",
        "GCS_PATH = \"/\"\n",
        "BATCH_SIZE = 64\n",
        "IMAGE_SIZE = [1024, 1024]"
      ],
      "metadata": {
        "id": "Bis5KG1OkWcr"
      },
      "execution_count": null,
      "outputs": []
    },
    {
      "cell_type": "code",
      "source": [
        "model.compile()"
      ],
      "metadata": {
        "id": "n8HW9m1sk0ZW"
      },
      "execution_count": null,
      "outputs": []
    },
    {
      "cell_type": "code",
      "source": [
        "from keras.models import load_model\n",
        "\n",
        "model =load_model('/content/checkpoints/scratch_aug/Epoch_400_model.hp5')\n"
      ],
      "metadata": {
        "id": "cYOtJwOdjve_",
        "outputId": "b27c0b2f-b522-460f-e52e-bd7a7a7aa1c5",
        "colab": {
          "base_uri": "https://localhost:8080/"
        }
      },
      "execution_count": null,
      "outputs": [
        {
          "output_type": "stream",
          "name": "stdout",
          "text": [
            "WARNING:tensorflow:No training configuration found in the save file, so the model was *not* compiled. Compile it manually.\n"
          ]
        }
      ]
    },
    {
      "cell_type": "code",
      "source": [
        "model.summary()"
      ],
      "metadata": {
        "id": "9WAZDuaEj99w",
        "outputId": "aaf7ed4b-33d6-49e7-92c8-b80813fa5128",
        "colab": {
          "base_uri": "https://localhost:8080/"
        }
      },
      "execution_count": null,
      "outputs": [
        {
          "output_type": "stream",
          "name": "stdout",
          "text": [
            "Model: \"sequential_1\"\n",
            "_________________________________________________________________\n",
            " Layer (type)                Output Shape              Param #   \n",
            "=================================================================\n",
            " conv2d_3 (Conv2D)           (None, 112, 112, 128)     3584      \n",
            "                                                                 \n",
            " re_lu_3 (ReLU)              (None, 112, 112, 128)     0         \n",
            "                                                                 \n",
            " max_pooling2d_3 (MaxPooling  (None, 56, 56, 128)      0         \n",
            " 2D)                                                             \n",
            "                                                                 \n",
            " conv2d_4 (Conv2D)           (None, 28, 28, 256)       295168    \n",
            "                                                                 \n",
            " re_lu_4 (ReLU)              (None, 28, 28, 256)       0         \n",
            "                                                                 \n",
            " max_pooling2d_4 (MaxPooling  (None, 14, 14, 256)      0         \n",
            " 2D)                                                             \n",
            "                                                                 \n",
            " conv2d_5 (Conv2D)           (None, 7, 7, 512)         1180160   \n",
            "                                                                 \n",
            " re_lu_5 (ReLU)              (None, 7, 7, 512)         0         \n",
            "                                                                 \n",
            " max_pooling2d_5 (MaxPooling  (None, 3, 3, 512)        0         \n",
            " 2D)                                                             \n",
            "                                                                 \n",
            " flatten_1 (Flatten)         (None, 4608)              0         \n",
            "                                                                 \n",
            " dense_2 (Dense)             (None, 1024)              4719616   \n",
            "                                                                 \n",
            " dense_3 (Dense)             (None, 256)               262400    \n",
            "                                                                 \n",
            " prediction (Dense)          (None, 4)                 1028      \n",
            "                                                                 \n",
            "=================================================================\n",
            "Total params: 6,461,956\n",
            "Trainable params: 6,461,956\n",
            "Non-trainable params: 0\n",
            "_________________________________________________________________\n"
          ]
        }
      ]
    },
    {
      "cell_type": "code",
      "source": [
        "from PIL import Image\n",
        "import numpy as np\n",
        "from skimage import transform\n",
        "def load(filename):\n",
        "   np_image = Image.open(filename)\n",
        "   np_image = np.array(np_image).astype('float32')/255\n",
        "   np_image = transform.resize(np_image, (224, 224, 3))\n",
        "   np_image = np.expand_dims(np_image, axis=0)\n",
        "   return np_image\n",
        "\n",
        "image = load('/content/DAiSEE/DAiSEE/DataSet/Data/Train/310082/3100821015/310082101534.jpg')"
      ],
      "metadata": {
        "id": "0hm1oWI-lXrj"
      },
      "execution_count": null,
      "outputs": []
    },
    {
      "cell_type": "code",
      "source": [
        "image"
      ],
      "metadata": {
        "id": "Dp4-LwfZlcVx",
        "outputId": "b9ec571f-57ed-44d0-fc7c-64fa696516c6",
        "colab": {
          "base_uri": "https://localhost:8080/"
        }
      },
      "execution_count": null,
      "outputs": [
        {
          "output_type": "execute_result",
          "data": {
            "text/plain": [
              "array([[[[0.7294118 , 0.6862745 , 0.7176471 ],\n",
              "         [0.7294118 , 0.6862745 , 0.7176471 ],\n",
              "         [0.7294118 , 0.6862745 , 0.7176471 ],\n",
              "         ...,\n",
              "         [0.7890167 , 0.72235006, 0.7537226 ],\n",
              "         [0.7882354 , 0.72156876, 0.7529413 ],\n",
              "         [0.7882353 , 0.72156864, 0.7529412 ]],\n",
              "\n",
              "        [[0.7294118 , 0.6862745 , 0.7176471 ],\n",
              "         [0.7294118 , 0.6862745 , 0.7176471 ],\n",
              "         [0.7294118 , 0.6862745 , 0.7176471 ],\n",
              "         ...,\n",
              "         [0.7890167 , 0.72235006, 0.7537226 ],\n",
              "         [0.7882354 , 0.72156876, 0.7529413 ],\n",
              "         [0.7882353 , 0.72156864, 0.7529412 ]],\n",
              "\n",
              "        [[0.7294118 , 0.6862745 , 0.7176471 ],\n",
              "         [0.7294118 , 0.6862745 , 0.7176471 ],\n",
              "         [0.7294118 , 0.6862745 , 0.7176471 ],\n",
              "         ...,\n",
              "         [0.7890167 , 0.72235006, 0.7537226 ],\n",
              "         [0.7882354 , 0.72156876, 0.7529413 ],\n",
              "         [0.7882353 , 0.72156864, 0.7529412 ]],\n",
              "\n",
              "        ...,\n",
              "\n",
              "        [[0.19215687, 0.26666668, 0.39607844],\n",
              "         [0.19215798, 0.2666678 , 0.39607957],\n",
              "         [0.19918972, 0.27369952, 0.40311128],\n",
              "         ...,\n",
              "         [0.21469529, 0.21469529, 0.22253843],\n",
              "         [0.19197722, 0.19197722, 0.19982035],\n",
              "         [0.16146226, 0.16146226, 0.1693054 ]],\n",
              "\n",
              "        [[0.19215687, 0.26666668, 0.39607844],\n",
              "         [0.19215798, 0.2666678 , 0.39607957],\n",
              "         [0.19918972, 0.27369952, 0.40311128],\n",
              "         ...,\n",
              "         [0.21469529, 0.21469529, 0.22253843],\n",
              "         [0.19197722, 0.19197722, 0.19982035],\n",
              "         [0.16146226, 0.16146226, 0.1693054 ]],\n",
              "\n",
              "        [[0.19215687, 0.26666668, 0.39607844],\n",
              "         [0.19215798, 0.2666678 , 0.39607957],\n",
              "         [0.19918972, 0.27369952, 0.40311128],\n",
              "         ...,\n",
              "         [0.21469529, 0.21469529, 0.22253843],\n",
              "         [0.19197722, 0.19197722, 0.19982035],\n",
              "         [0.16146226, 0.16146226, 0.1693054 ]]]], dtype=float32)"
            ]
          },
          "metadata": {},
          "execution_count": 100
        }
      ]
    },
    {
      "cell_type": "code",
      "source": [
        "model.predict(image)"
      ],
      "metadata": {
        "id": "9qeR8ZNQkAai",
        "outputId": "dde59caa-f5b2-4327-e94d-688a3b457150",
        "colab": {
          "base_uri": "https://localhost:8080/"
        }
      },
      "execution_count": null,
      "outputs": [
        {
          "output_type": "execute_result",
          "data": {
            "text/plain": [
              "array([[0.22633769, 0.99989736, 0.5748068 , 0.2610716 ]], dtype=float32)"
            ]
          },
          "metadata": {},
          "execution_count": 101
        }
      ]
    }
  ],
  "metadata": {
    "accelerator": "GPU",
    "colab": {
      "machine_shape": "hm",
      "name": "testing_daisee.ipynb",
      "provenance": [],
      "collapsed_sections": [],
      "authorship_tag": "ABX9TyMPVFB2zpxw3MJVKM5GlErs",
      "include_colab_link": true
    },
    "kernelspec": {
      "display_name": "Python 3",
      "name": "python3"
    },
    "language_info": {
      "name": "python"
    }
  },
  "nbformat": 4,
  "nbformat_minor": 0
}