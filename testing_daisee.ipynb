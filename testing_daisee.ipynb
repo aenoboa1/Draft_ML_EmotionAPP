{
  "cells": [
    {
      "cell_type": "markdown",
      "metadata": {
        "id": "view-in-github",
        "colab_type": "text"
      },
      "source": [
        "<a href=\"https://colab.research.google.com/github/aenoboa1/Draft_ML_EmotionAPP/blob/main/testing_daisee.ipynb\" target=\"_parent\"><img src=\"https://colab.research.google.com/assets/colab-badge.svg\" alt=\"Open In Colab\"/></a>"
      ]
    },
    {
      "cell_type": "code",
      "source": [
        "!pip install visualkeras"
      ],
      "metadata": {
        "id": "hqW9yN3IgOL7",
        "outputId": "1963fb84-0498-4b35-e42a-96b68c59a371",
        "colab": {
          "base_uri": "https://localhost:8080/"
        }
      },
      "execution_count": null,
      "outputs": [
        {
          "output_type": "stream",
          "name": "stdout",
          "text": [
            "Collecting visualkeras\n",
            "  Downloading visualkeras-0.0.2-py3-none-any.whl (12 kB)\n",
            "Requirement already satisfied: numpy>=1.18.1 in /usr/local/lib/python3.7/dist-packages (from visualkeras) (1.19.5)\n",
            "Requirement already satisfied: pillow>=6.2.0 in /usr/local/lib/python3.7/dist-packages (from visualkeras) (7.1.2)\n",
            "Collecting aggdraw>=1.3.11\n",
            "  Downloading aggdraw-1.3.12-cp37-cp37m-manylinux2010_x86_64.whl (795 kB)\n",
            "\u001b[K     |████████████████████████████████| 795 kB 9.1 MB/s \n",
            "\u001b[?25hInstalling collected packages: aggdraw, visualkeras\n",
            "Successfully installed aggdraw-1.3.12 visualkeras-0.0.2\n"
          ]
        }
      ]
    },
    {
      "cell_type": "code",
      "source": [
        "import pandas as pd\n",
        "import numpy as np\n",
        "import os\n",
        "import PIL\n",
        "import seaborn as sns\n",
        "import pickle\n",
        "from PIL import *\n",
        "import cv2\n",
        "import tensorflow as tf\n",
        "from tensorflow import keras\n",
        "from tensorflow.keras.applications import DenseNet121\n",
        "from tensorflow.keras.models import Model, load_model\n",
        "from tensorflow.keras.initializers import glorot_uniform\n",
        "from tensorflow.keras.utils import plot_model\n",
        "from tensorflow.keras.callbacks import ReduceLROnPlateau, EarlyStopping, ModelCheckpoint, LearningRateScheduler\n",
        "from IPython.display import display\n",
        "from tensorflow.python.keras import *\n",
        "from tensorflow.keras.preprocessing.image import ImageDataGenerator\n",
        "from tensorflow.keras import layers, optimizers\n",
        "from tensorflow.keras.applications.resnet50 import ResNet50\n",
        "from tensorflow.keras.layers import *\n",
        "from tensorflow.keras import backend as K\n",
        "from keras import optimizers\n",
        "import matplotlib.pyplot as plt\n",
        "from sklearn.model_selection import train_test_split\n",
        "from google.colab.patches import cv2_imshow\n",
        "from google.colab import drive\n",
        "import visualkeras\n",
        "drive._mount('/content/drive')\n",
        "\n",
        "\n",
        "#matplotlib styles\n",
        "plt.style.use(['ggplot'])\n",
        "sns.set(rc={'figure.figsize':(11.7,8.27)})"
      ],
      "metadata": {
        "colab": {
          "base_uri": "https://localhost:8080/"
        },
        "id": "7iUZg4Ro7e8a",
        "outputId": "5eb130b1-5363-4589-8f9a-ac82e6bb429b"
      },
      "execution_count": null,
      "outputs": [
        {
          "output_type": "stream",
          "name": "stdout",
          "text": [
            "Mounted at /content/drive\n"
          ]
        }
      ]
    },
    {
      "cell_type": "code",
      "source": [
        "!mkdir /content/DAiSEE ; unzip  -qq /content/drive/MyDrive/DATA/datasets/DAiSEE.zip -d /content/DAiSEE\n"
      ],
      "metadata": {
        "id": "eOoRrem0pI9w"
      },
      "execution_count": null,
      "outputs": []
    },
    {
      "cell_type": "code",
      "source": [
        "# SSH Tunnel para abrir en VS Code\n",
        "!pip install colab_ssh --upgrade\n",
        "\n",
        "from colab_ssh import launch_ssh\n",
        "launch_ssh('21v23nE9rkUZAwWwJZ1zAxGLuwK_7v2uhNRStUAsGmaEtCm5D', 'ml')"
      ],
      "metadata": {
        "colab": {
          "base_uri": "https://localhost:8080/"
        },
        "id": "rSUGJbhWCS3L",
        "outputId": "34070a3c-e80b-42ac-88ea-71df7fe86738"
      },
      "execution_count": null,
      "outputs": [
        {
          "output_type": "stream",
          "name": "stdout",
          "text": [
            "Collecting colab_ssh\n",
            "  Downloading colab_ssh-0.3.27-py3-none-any.whl (26 kB)\n",
            "Installing collected packages: colab-ssh\n",
            "Successfully installed colab-ssh-0.3.27\n",
            "Warning: Due to some issues with ngrok on Google Colab, reported in the issue https://github.com/WassimBenzarti/colab-ssh/issues/45, \n",
            "we highly recommend that update your code by following this documentation https://github.com/WassimBenzarti/colab-ssh#getting-started\n",
            "Successfully running 6.tcp.ngrok.io:10394\n",
            "[Optional] You can also connect with VSCode SSH Remote extension using this configuration:\n",
            "\n",
            "  Host google_colab_ssh\n",
            "    HostName 6.tcp.ngrok.io\n",
            "    User root\n",
            "    Port 10394\n",
            "    \n"
          ]
        }
      ]
    },
    {
      "cell_type": "code",
      "source": [
        "class_names = ['Boredom',\n",
        "               'Engagement',\n",
        "              'Confusion',\n",
        "               'Frustration'\n",
        "               ]\n"
      ],
      "metadata": {
        "id": "ofjApbsUFxqo"
      },
      "execution_count": null,
      "outputs": []
    },
    {
      "cell_type": "code",
      "source": [
        "df_train = pd.read_csv('/content/DAiSEE/DAiSEE/Labels/TrainLabels.csv')\n"
      ],
      "metadata": {
        "id": "xUZ7IhTNE5ZT"
      },
      "execution_count": null,
      "outputs": []
    },
    {
      "cell_type": "code",
      "source": [
        "df_train"
      ],
      "metadata": {
        "colab": {
          "base_uri": "https://localhost:8080/",
          "height": 423
        },
        "id": "-HNWrxdYF0YC",
        "outputId": "1a08ebb5-a177-4aab-9461-af87610968fe"
      },
      "execution_count": null,
      "outputs": [
        {
          "output_type": "execute_result",
          "data": {
            "text/html": [
              "\n",
              "  <div id=\"df-80ef4cf3-e469-43da-a323-4f00e88502b4\">\n",
              "    <div class=\"colab-df-container\">\n",
              "      <div>\n",
              "<style scoped>\n",
              "    .dataframe tbody tr th:only-of-type {\n",
              "        vertical-align: middle;\n",
              "    }\n",
              "\n",
              "    .dataframe tbody tr th {\n",
              "        vertical-align: top;\n",
              "    }\n",
              "\n",
              "    .dataframe thead th {\n",
              "        text-align: right;\n",
              "    }\n",
              "</style>\n",
              "<table border=\"1\" class=\"dataframe\">\n",
              "  <thead>\n",
              "    <tr style=\"text-align: right;\">\n",
              "      <th></th>\n",
              "      <th>ClipID</th>\n",
              "      <th>Boredom</th>\n",
              "      <th>Engagement</th>\n",
              "      <th>Confusion</th>\n",
              "      <th>Frustration</th>\n",
              "    </tr>\n",
              "  </thead>\n",
              "  <tbody>\n",
              "    <tr>\n",
              "      <th>0</th>\n",
              "      <td>1100011002.avi</td>\n",
              "      <td>0</td>\n",
              "      <td>2</td>\n",
              "      <td>0</td>\n",
              "      <td>0</td>\n",
              "    </tr>\n",
              "    <tr>\n",
              "      <th>1</th>\n",
              "      <td>1100011003.avi</td>\n",
              "      <td>0</td>\n",
              "      <td>2</td>\n",
              "      <td>0</td>\n",
              "      <td>0</td>\n",
              "    </tr>\n",
              "    <tr>\n",
              "      <th>2</th>\n",
              "      <td>1100011004.avi</td>\n",
              "      <td>0</td>\n",
              "      <td>3</td>\n",
              "      <td>0</td>\n",
              "      <td>0</td>\n",
              "    </tr>\n",
              "    <tr>\n",
              "      <th>3</th>\n",
              "      <td>1100011005.avi</td>\n",
              "      <td>0</td>\n",
              "      <td>3</td>\n",
              "      <td>0</td>\n",
              "      <td>0</td>\n",
              "    </tr>\n",
              "    <tr>\n",
              "      <th>4</th>\n",
              "      <td>1100011006.avi</td>\n",
              "      <td>0</td>\n",
              "      <td>3</td>\n",
              "      <td>0</td>\n",
              "      <td>0</td>\n",
              "    </tr>\n",
              "    <tr>\n",
              "      <th>...</th>\n",
              "      <td>...</td>\n",
              "      <td>...</td>\n",
              "      <td>...</td>\n",
              "      <td>...</td>\n",
              "      <td>...</td>\n",
              "    </tr>\n",
              "    <tr>\n",
              "      <th>5353</th>\n",
              "      <td>4599990246.avi</td>\n",
              "      <td>0</td>\n",
              "      <td>3</td>\n",
              "      <td>0</td>\n",
              "      <td>0</td>\n",
              "    </tr>\n",
              "    <tr>\n",
              "      <th>5354</th>\n",
              "      <td>4599990247.avi</td>\n",
              "      <td>0</td>\n",
              "      <td>3</td>\n",
              "      <td>0</td>\n",
              "      <td>0</td>\n",
              "    </tr>\n",
              "    <tr>\n",
              "      <th>5355</th>\n",
              "      <td>4599990248.avi</td>\n",
              "      <td>1</td>\n",
              "      <td>2</td>\n",
              "      <td>1</td>\n",
              "      <td>1</td>\n",
              "    </tr>\n",
              "    <tr>\n",
              "      <th>5356</th>\n",
              "      <td>4599990249.avi</td>\n",
              "      <td>0</td>\n",
              "      <td>3</td>\n",
              "      <td>0</td>\n",
              "      <td>0</td>\n",
              "    </tr>\n",
              "    <tr>\n",
              "      <th>5357</th>\n",
              "      <td>459999025.avi</td>\n",
              "      <td>1</td>\n",
              "      <td>3</td>\n",
              "      <td>0</td>\n",
              "      <td>0</td>\n",
              "    </tr>\n",
              "  </tbody>\n",
              "</table>\n",
              "<p>5358 rows × 5 columns</p>\n",
              "</div>\n",
              "      <button class=\"colab-df-convert\" onclick=\"convertToInteractive('df-80ef4cf3-e469-43da-a323-4f00e88502b4')\"\n",
              "              title=\"Convert this dataframe to an interactive table.\"\n",
              "              style=\"display:none;\">\n",
              "        \n",
              "  <svg xmlns=\"http://www.w3.org/2000/svg\" height=\"24px\"viewBox=\"0 0 24 24\"\n",
              "       width=\"24px\">\n",
              "    <path d=\"M0 0h24v24H0V0z\" fill=\"none\"/>\n",
              "    <path d=\"M18.56 5.44l.94 2.06.94-2.06 2.06-.94-2.06-.94-.94-2.06-.94 2.06-2.06.94zm-11 1L8.5 8.5l.94-2.06 2.06-.94-2.06-.94L8.5 2.5l-.94 2.06-2.06.94zm10 10l.94 2.06.94-2.06 2.06-.94-2.06-.94-.94-2.06-.94 2.06-2.06.94z\"/><path d=\"M17.41 7.96l-1.37-1.37c-.4-.4-.92-.59-1.43-.59-.52 0-1.04.2-1.43.59L10.3 9.45l-7.72 7.72c-.78.78-.78 2.05 0 2.83L4 21.41c.39.39.9.59 1.41.59.51 0 1.02-.2 1.41-.59l7.78-7.78 2.81-2.81c.8-.78.8-2.07 0-2.86zM5.41 20L4 18.59l7.72-7.72 1.47 1.35L5.41 20z\"/>\n",
              "  </svg>\n",
              "      </button>\n",
              "      \n",
              "  <style>\n",
              "    .colab-df-container {\n",
              "      display:flex;\n",
              "      flex-wrap:wrap;\n",
              "      gap: 12px;\n",
              "    }\n",
              "\n",
              "    .colab-df-convert {\n",
              "      background-color: #E8F0FE;\n",
              "      border: none;\n",
              "      border-radius: 50%;\n",
              "      cursor: pointer;\n",
              "      display: none;\n",
              "      fill: #1967D2;\n",
              "      height: 32px;\n",
              "      padding: 0 0 0 0;\n",
              "      width: 32px;\n",
              "    }\n",
              "\n",
              "    .colab-df-convert:hover {\n",
              "      background-color: #E2EBFA;\n",
              "      box-shadow: 0px 1px 2px rgba(60, 64, 67, 0.3), 0px 1px 3px 1px rgba(60, 64, 67, 0.15);\n",
              "      fill: #174EA6;\n",
              "    }\n",
              "\n",
              "    [theme=dark] .colab-df-convert {\n",
              "      background-color: #3B4455;\n",
              "      fill: #D2E3FC;\n",
              "    }\n",
              "\n",
              "    [theme=dark] .colab-df-convert:hover {\n",
              "      background-color: #434B5C;\n",
              "      box-shadow: 0px 1px 3px 1px rgba(0, 0, 0, 0.15);\n",
              "      filter: drop-shadow(0px 1px 2px rgba(0, 0, 0, 0.3));\n",
              "      fill: #FFFFFF;\n",
              "    }\n",
              "  </style>\n",
              "\n",
              "      <script>\n",
              "        const buttonEl =\n",
              "          document.querySelector('#df-80ef4cf3-e469-43da-a323-4f00e88502b4 button.colab-df-convert');\n",
              "        buttonEl.style.display =\n",
              "          google.colab.kernel.accessAllowed ? 'block' : 'none';\n",
              "\n",
              "        async function convertToInteractive(key) {\n",
              "          const element = document.querySelector('#df-80ef4cf3-e469-43da-a323-4f00e88502b4');\n",
              "          const dataTable =\n",
              "            await google.colab.kernel.invokeFunction('convertToInteractive',\n",
              "                                                     [key], {});\n",
              "          if (!dataTable) return;\n",
              "\n",
              "          const docLinkHtml = 'Like what you see? Visit the ' +\n",
              "            '<a target=\"_blank\" href=https://colab.research.google.com/notebooks/data_table.ipynb>data table notebook</a>'\n",
              "            + ' to learn more about interactive tables.';\n",
              "          element.innerHTML = '';\n",
              "          dataTable['output_type'] = 'display_data';\n",
              "          await google.colab.output.renderOutput(dataTable, element);\n",
              "          const docLink = document.createElement('div');\n",
              "          docLink.innerHTML = docLinkHtml;\n",
              "          element.appendChild(docLink);\n",
              "        }\n",
              "      </script>\n",
              "    </div>\n",
              "  </div>\n",
              "  "
            ],
            "text/plain": [
              "              ClipID  Boredom  Engagement  Confusion  Frustration \n",
              "0     1100011002.avi        0           2          0             0\n",
              "1     1100011003.avi        0           2          0             0\n",
              "2     1100011004.avi        0           3          0             0\n",
              "3     1100011005.avi        0           3          0             0\n",
              "4     1100011006.avi        0           3          0             0\n",
              "...              ...      ...         ...        ...           ...\n",
              "5353  4599990246.avi        0           3          0             0\n",
              "5354  4599990247.avi        0           3          0             0\n",
              "5355  4599990248.avi        1           2          1             1\n",
              "5356  4599990249.avi        0           3          0             0\n",
              "5357   459999025.avi        1           3          0             0\n",
              "\n",
              "[5358 rows x 5 columns]"
            ]
          },
          "metadata": {},
          "execution_count": 15
        }
      ]
    },
    {
      "cell_type": "code",
      "source": [
        "df_train['Engagement'].hist()\n"
      ],
      "metadata": {
        "colab": {
          "base_uri": "https://localhost:8080/",
          "height": 518
        },
        "id": "CQhf0XW-HyXu",
        "outputId": "5ec64ad5-6c4b-4cfa-e227-ccddef34f741"
      },
      "execution_count": null,
      "outputs": [
        {
          "output_type": "execute_result",
          "data": {
            "text/plain": [
              "<matplotlib.axes._subplots.AxesSubplot at 0x7fcaeebb7cd0>"
            ]
          },
          "metadata": {},
          "execution_count": 16
        },
        {
          "output_type": "display_data",
          "data": {
            "image/png": "[encoded data removed]",
            "text/plain": [
              "<Figure size 842.4x595.44 with 1 Axes>"
            ]
          },
          "metadata": {}
        }
      ]
    },
    {
      "cell_type": "code",
      "source": [
        "df_train['Engagement'].value_counts().sort_values().plot.pie(wedgeprops={'alpha':0.7}, autopct='%1.1f%%')\n"
      ],
      "metadata": {
        "colab": {
          "base_uri": "https://localhost:8080/",
          "height": 498
        },
        "id": "cK1Qa_7tJyzS",
        "outputId": "f45160a6-7c44-4b8f-9b7b-79a19c8fc176"
      },
      "execution_count": null,
      "outputs": [
        {
          "output_type": "execute_result",
          "data": {
            "text/plain": [
              "<matplotlib.axes._subplots.AxesSubplot at 0x7fcaeeb155d0>"
            ]
          },
          "metadata": {},
          "execution_count": 17
        },
        {
          "output_type": "display_data",
          "data": {
            "image/png": "[encoded data removed]",
            "text/plain": [
              "<Figure size 842.4x595.44 with 1 Axes>"
            ]
          },
          "metadata": {}
        }
      ]
    },
    {
      "cell_type": "code",
      "source": [
        "\n",
        "\n",
        "fig, ax = plt.subplots()\n",
        "\n",
        "d_heights, d_bins = np.histogram(df_train['Boredom'],bins=[-0.5,0.5,1.5])\n",
        "m_heights, m_bins = np.histogram(df_train['Frustration '], bins=d_bins)\n",
        "s_heights, s_bins = np.histogram(df_train['Engagement'], bins=m_bins)\n",
        "ss_heights, ss_bins = np.histogram(df_train['Confusion'], bins=s_bins)\n",
        "\n",
        "\n",
        "width = (d_bins[1] - d_bins[0])/6.0\n",
        "\n",
        "ax.bar(d_bins[:-1]+width, d_heights, width=width, facecolor='cornflowerblue')\n",
        "ax.bar(m_bins[:-1]+width*2, m_heights, width=width, facecolor='seagreen')\n",
        "ax.bar(s_bins[:-1]+width*3, s_heights, width=width, facecolor='red')\n",
        "ax.bar(ss_bins[:-1]+width*4, ss_heights, width=width, facecolor='blue')\n",
        "ax.legend(class_names)\n"
      ],
      "metadata": {
        "colab": {
          "base_uri": "https://localhost:8080/",
          "height": 518
        },
        "id": "tRoxS-Z0EoRx",
        "outputId": "2f15587e-1e5c-460f-bc61-a936af813184"
      },
      "execution_count": null,
      "outputs": [
        {
          "output_type": "execute_result",
          "data": {
            "text/plain": [
              "<matplotlib.legend.Legend at 0x7fcaeea32a50>"
            ]
          },
          "metadata": {},
          "execution_count": 18
        },
        {
          "output_type": "display_data",
          "data": {
            "image/png": "[encoded data removed]",
            "text/plain": [
              "<Figure size 842.4x595.44 with 1 Axes>"
            ]
          },
          "metadata": {}
        }
      ]
    },
    {
      "cell_type": "markdown",
      "source": [
        "#### Aplicando la tecnica SMOTE al dataset"
      ],
      "metadata": {
        "id": "ZEKFk2mdHBTX"
      }
    },
    {
      "cell_type": "code",
      "source": [
        "df_train[\"Engagement\"].value_counts()"
      ],
      "metadata": {
        "colab": {
          "base_uri": "https://localhost:8080/"
        },
        "id": "SBG0lR-hn6wx",
        "outputId": "a3f962ed-06a4-430d-da24-7f1098f580b8"
      },
      "execution_count": null,
      "outputs": [
        {
          "output_type": "execute_result",
          "data": {
            "text/plain": [
              "2    2617\n",
              "3    2494\n",
              "1     213\n",
              "0      34\n",
              "Name: Engagement, dtype: int64"
            ]
          },
          "metadata": {},
          "execution_count": 25
        }
      ]
    },
    {
      "cell_type": "code",
      "source": [
        "count_class_2, count_class_3,count_class_1,count_class_0 = df_train[\"Engagement\"].value_counts()"
      ],
      "metadata": {
        "id": "l3VawXmcr-f_"
      },
      "execution_count": null,
      "outputs": []
    },
    {
      "cell_type": "code",
      "source": [
        "count_class_2"
      ],
      "metadata": {
        "colab": {
          "base_uri": "https://localhost:8080/"
        },
        "id": "slVdNMn1nplO",
        "outputId": "7cbc77dc-8813-48cf-fef2-b811234a38e3"
      },
      "execution_count": null,
      "outputs": [
        {
          "output_type": "execute_result",
          "data": {
            "text/plain": [
              "2617"
            ]
          },
          "metadata": {},
          "execution_count": 23
        }
      ]
    },
    {
      "cell_type": "code",
      "source": [
        "count_class1"
      ],
      "metadata": {
        "colab": {
          "base_uri": "https://localhost:8080/"
        },
        "id": "qQgH2R1un6F7",
        "outputId": "b6149374-e5ef-4b35-c5b1-d501eb335788"
      },
      "execution_count": null,
      "outputs": [
        {
          "output_type": "execute_result",
          "data": {
            "text/plain": [
              "213"
            ]
          },
          "metadata": {},
          "execution_count": 27
        }
      ]
    },
    {
      "cell_type": "markdown",
      "source": [
        "To install imbalanced-learn library use pip install imbalanced-learn command\n",
        "\n"
      ],
      "metadata": {
        "id": "KooezFNZpKXx"
      }
    },
    {
      "cell_type": "code",
      "source": [
        "!pip install imbalanced-learn"
      ],
      "metadata": {
        "colab": {
          "base_uri": "https://localhost:8080/"
        },
        "id": "qjmvqMUFpJ_7",
        "outputId": "44b3d784-fe40-42a5-cd5e-c8d8204cf330"
      },
      "execution_count": null,
      "outputs": [
        {
          "output_type": "stream",
          "name": "stdout",
          "text": [
            "Requirement already satisfied: imbalanced-learn in /usr/local/lib/python3.7/dist-packages (0.8.1)\n",
            "Requirement already satisfied: numpy>=1.13.3 in /usr/local/lib/python3.7/dist-packages (from imbalanced-learn) (1.19.5)\n",
            "Requirement already satisfied: scikit-learn>=0.24 in /usr/local/lib/python3.7/dist-packages (from imbalanced-learn) (1.0.1)\n",
            "Requirement already satisfied: joblib>=0.11 in /usr/local/lib/python3.7/dist-packages (from imbalanced-learn) (1.1.0)\n",
            "Requirement already satisfied: scipy>=0.19.1 in /usr/local/lib/python3.7/dist-packages (from imbalanced-learn) (1.4.1)\n",
            "Requirement already satisfied: threadpoolctl>=2.0.0 in /usr/local/lib/python3.7/dist-packages (from scikit-learn>=0.24->imbalanced-learn) (3.0.0)\n"
          ]
        }
      ]
    },
    {
      "cell_type": "markdown",
      "source": [
        "### Transformando dataset a TFRecords para el training"
      ],
      "metadata": {
        "id": "X_KUMGnnINym"
      }
    },
    {
      "cell_type": "code",
      "execution_count": null,
      "metadata": {
        "colab": {
          "base_uri": "https://localhost:8080/"
        },
        "id": "xpD86UFloVPl",
        "outputId": "26495ddc-29ff-440b-8e62-ecdfe3fd1987"
      },
      "outputs": [
        {
          "output_type": "stream",
          "name": "stdout",
          "text": [
            "Cloning into 'Engagement-recognition-using-DAISEE-dataset'...\n",
            "remote: Enumerating objects: 79, done.\u001b[K\n",
            "remote: Counting objects: 100% (79/79), done.\u001b[K\n",
            "remote: Compressing objects: 100% (62/62), done.\u001b[K\n",
            "remote: Total 79 (delta 33), reused 47 (delta 13), pack-reused 0\u001b[K\n",
            "Unpacking objects: 100% (79/79), done.\n"
          ]
        }
      ],
      "source": [
        "!git clone https://github.com/aenoboa1/Engagement-recognition-using-DAISEE-dataset"
      ]
    },
    {
      "cell_type": "code",
      "source": [
        "from __future__ import absolute_import, division, print_function, unicode_literals\n",
        "import tensorflow as tf\n",
        "import numpy as np\n",
        "import cv2\n",
        "import os\n",
        "from tqdm import tqdm\n",
        "import tensorflow_datasets as tfds\n",
        "import pandas as pd\n",
        "import random\n",
        "\n",
        "\n",
        "AUTOTUNE = tf.data.experimental.AUTOTUNE\n",
        "batch_size = 32\n",
        "np.random.seed(0)"
      ],
      "metadata": {
        "id": "nEo-ehSOIT3M"
      },
      "execution_count": null,
      "outputs": []
    },
    {
      "cell_type": "code",
      "source": [
        "class DataPreprocessing:\n",
        "    def __init__(self,\n",
        "                 IMG_HEIGHT=224,\n",
        "                 IMG_WIDTH=224,\n",
        "                 dataset_dir='/content/DAiSEE/DAiSEE/DataSet/Data/',\n",
        "                 test_dir='Test/',\n",
        "                 train_dir='Train/',\n",
        "                 val_dir='Validation/',\n",
        "                 labels_dir='/content/DAiSEE/DAiSEE/Labels/',\n",
        "                 test_label='TestLabels.csv',\n",
        "                 train_label='TrainLabels.csv',\n",
        "                 val_label='ValidationLabels.csv',\n",
        "                 data_augmentation_flag=False,\n",
        "                 max_frames=3\n",
        "                 ):\n",
        "        self.IMG_HEIGHT = IMG_HEIGHT\n",
        "        self.IMG_WIDTH = IMG_WIDTH\n",
        "        self.dataset_dir = dataset_dir\n",
        "        self.train_dir = self.dataset_dir+train_dir\n",
        "        self.test_dir = self.dataset_dir+test_dir\n",
        "        self.val_dir = self.dataset_dir+val_dir\n",
        "        self.labels_dir = labels_dir\n",
        "        self.train_label_dir = self.labels_dir + train_label\n",
        "        self.test_label_dir = self.labels_dir + test_label\n",
        "        self.val_label_dir = self.labels_dir + val_label\n",
        "        self.data_augmentation_flag = data_augmentation_flag\n",
        "        self.max_frames = max_frames\n",
        "        self.face_cascade = cv2.CascadeClassifier('/content/Engagement-recognition-using-DAISEE-dataset/dataset/haarcascade_frontalface_default.xml')\n",
        "\n",
        "    def get_images_from_set_dir(self, setdir):\n",
        "        '''\n",
        "        Method to find all images in the tree folder\n",
        "        '''\n",
        "        set_dir_images = []\n",
        "        humans = os.listdir(setdir)\n",
        "        for human in humans:\n",
        "            human_dir = setdir + human + \"/\"\n",
        "            videos = os.listdir(human_dir)\n",
        "            for video in videos:\n",
        "                video_dir = human_dir + video + \"/\"\n",
        "                pictures = os.listdir(video_dir)\n",
        "                pictures = random.sample(pictures, self.max_frames)\n",
        "                for picture in pictures:\n",
        "                    picture_dir = video_dir + picture\n",
        "                    if picture.endswith(\".jpg\"):\n",
        "                        set_dir_images.append(picture_dir)\n",
        "        return set_dir_images\n",
        "\n",
        "    def get_labels_dataframe(self):\n",
        "        '''\n",
        "        Method to read pandas dataframe\n",
        "        '''\n",
        "        train_df = pd.read_csv(self.train_label_dir, sep=\",\")\n",
        "        test_df = pd.read_csv(self.test_label_dir, sep=\",\")\n",
        "        val_df = pd.read_csv(self.val_label_dir, sep=\",\")\n",
        "        return train_df, test_df, val_df\n",
        "\n",
        "    def resize(self, image):\n",
        "        return cv2.resize(image, (self.IMG_HEIGHT, self.IMG_WIDTH), interpolation=cv2.INTER_AREA)\n",
        "\n",
        "    def face_cropping(self, image):\n",
        "        # Crop and resize\n",
        "        faces = self.face_cascade.detectMultiScale(image, 1.3, 5)\n",
        "        try:\n",
        "            if faces != 0:\n",
        "                x, y, w, h = faces[0]\n",
        "                image = image[y:y+h, x:x+w]\n",
        "        except:\n",
        "            pass\n",
        "        return self.resize(image)\n",
        "\n",
        "    def random_crop(self, image, crop_height, crop_width):\n",
        "        max_x = image.shape[1] - crop_width\n",
        "        max_y = image.shape[0] - crop_height\n",
        "\n",
        "        x = np.random.randint(0, max_x)\n",
        "        y = np.random.randint(0, max_y)\n",
        "\n",
        "        crop = image[y: y + crop_height, x: x + crop_width]\n",
        "\n",
        "        return self.face_cropping(crop)\n",
        "\n",
        "\n",
        "    def augment_image(self, image):\n",
        "        '''\n",
        "        Applies some augmentation techniques\n",
        "        '''\n",
        "        # Mirror flip\n",
        "        flipped = tf.image.flip_left_right(image).numpy()\n",
        "        # Transpose flip\n",
        "        transposed = tf.image.transpose(image).numpy()\n",
        "        # Saturation\n",
        "        satured = tf.image.adjust_saturation(image, 3).numpy()\n",
        "        # Brightness\n",
        "        brightness = tf.image.adjust_brightness(image, 0.4).numpy()\n",
        "        # Contrast\n",
        "        contrast = tf.image.random_contrast(image, lower=0.0, upper=1.0).numpy()\n",
        "        # Resize at the end\n",
        "        images = [self.resize(image) for image in [flipped, transposed, satured, brightness, contrast]]\n",
        "        return images\n",
        "\n",
        "\n",
        "    def get_label_picture(self, image_path, label_df):\n",
        "        error_ = False\n",
        "        video = image_path.split(\"/\")[-2]\n",
        "        label_series = label_df.loc[((label_df['ClipID'] == video+'.avi') | (label_df['ClipID'] == video+'.mp4'))]\n",
        "        try:\n",
        "            index = label_series.index.values[0]\n",
        "            label = np.array([label_series['Boredom'].get(index),\n",
        "                              label_series['Engagement'].get(index),\n",
        "                              label_series['Confusion'].get(index),\n",
        "                              label_series['Frustration '].get(index)])\n",
        "            label_one_hot = (label >= 1).astype(np.uint8)\n",
        "        except:\n",
        "            print('Error in label picture')\n",
        "            print(image_path)\n",
        "            label_one_hot = ''\n",
        "            error_ = True\n",
        "        return label_one_hot, error_\n",
        "\n",
        "    def _int64_feature(self, value):\n",
        "        return tf.train.Feature(int64_list=tf.train.Int64List(value=[value]))\n",
        "\n",
        "    def _bytes_feature(self, value):\n",
        "        return tf.train.Feature(bytes_list=tf.train.BytesList(value=[value]))\n",
        "\n",
        "    def writeTfRecord(self, output_dir, data_augmentation=False):\n",
        "        '''\n",
        "        Method to write tfrecord\n",
        "        '''\n",
        "        # open the TFRecords file\n",
        "        if not os.path.exists(output_dir):\n",
        "            os.makedirs(output_dir)\n",
        "\n",
        "        # Read dataframes\n",
        "        train_df, test_df, val_df = self.get_labels_dataframe()\n",
        "\n",
        "        # Objects to iterate\n",
        "        objs = [('train', self.train_dir, train_df),\n",
        "                ('test', self.test_dir, test_df),\n",
        "                ('val', self.val_dir, val_df)]\n",
        "\n",
        "        for name, dataset, label_df in tqdm(objs):\n",
        "            # Open Writer\n",
        "            writer = tf.io.TFRecordWriter(output_dir+name+'.tfrecords')\n",
        "            # Get all the images of a set\n",
        "            images_path = self.get_images_from_set_dir(dataset)\n",
        "            for image_path in tqdm(images_path, total=len(images_path)):\n",
        "                # Read the image from path\n",
        "                img = cv2.imread(image_path)[..., ::-1]\n",
        "                img = self.face_cropping(img)\n",
        "                # Read the label\n",
        "                label, error_ = self.get_label_picture(image_path, label_df)\n",
        "                if error_:\n",
        "                    continue\n",
        "                # Create a feature\n",
        "                if data_augmentation:\n",
        "                    images = self.augment_image(img)\n",
        "                else:\n",
        "                    images = img\n",
        "                for image in images:\n",
        "                    feature = {'label': self._bytes_feature(tf.compat.as_bytes(label.tostring())),\n",
        "                               'image': self._bytes_feature(tf.compat.as_bytes(image.tostring()))}\n",
        "                    # Create an example protocol buffer\n",
        "                    example = tf.train.Example(features=tf.train.Features(feature=feature))\n",
        "\n",
        "                    # Serialize to string and write on the file\n",
        "                    writer.write(example.SerializeToString())\n",
        "            writer.close()\n",
        "\n",
        "    def decode(self, serialized_example):\n",
        "        \"\"\"\n",
        "        Parses an image and label from the given `serialized_example`.\n",
        "        It is used as a map function for `dataset.map`\n",
        "        \"\"\"\n",
        "        IMAGE_SHAPE = (self.IMG_HEIGHT, self.IMG_WIDTH, 3)\n",
        "\n",
        "        # 1. define a parser\n",
        "        features = tf.io.parse_single_example(\n",
        "            serialized_example,\n",
        "            # Defaults are not specified since both keys are required.\n",
        "            features={\n",
        "                'image': tf.io.FixedLenFeature([], tf.string),\n",
        "                'label': tf.io.FixedLenFeature([], tf.string),\n",
        "            })\n",
        "\n",
        "        # 2. Convert the data\n",
        "        image = tf.io.decode_raw(features['image'], tf.uint8)\n",
        "        label = tf.io.decode_raw(features['label'], tf.uint8)\n",
        "\n",
        "        # Cast\n",
        "        label = tf.cast(label, tf.float32)\n",
        "\n",
        "        # 3. reshape\n",
        "        image = tf.convert_to_tensor(tf.reshape(image, IMAGE_SHAPE))\n",
        "\n",
        "        return image, label"
      ],
      "metadata": {
        "id": "2esjD_FkIXMB"
      },
      "execution_count": null,
      "outputs": []
    },
    {
      "cell_type": "code",
      "source": [
        "preprocessing_class = DataPreprocessing()\n",
        "# Write tf recordfloat32\n",
        "preprocessing_class.writeTfRecord('tfrecords/', data_augmentation=True)\n",
        "\n",
        "# Read TfRecord\n",
        "tfrecord_path = 'tfrecords/train.tfrecords'\n",
        "dataset = tf.data.TFRecordDataset(tfrecord_path)\n",
        "\n",
        "# Parse the record into tensors with map.\n",
        "# map takes a Python function and applies it to every sample.\n",
        "dataset = dataset.map(preprocessing_class.decode)\n",
        "\n",
        "# Divide in batch\n",
        "dataset = dataset.batch(batch_size)\n",
        "\n",
        "# Create an iterator\n",
        "iterator = iter(dataset)\n",
        "\n",
        "# Element of iterator\n",
        "a = iterator.get_next()"
      ],
      "metadata": {
        "id": "2ArJmr-AIcd6"
      },
      "execution_count": null,
      "outputs": []
    },
    {
      "cell_type": "code",
      "source": [
        "! zip -r tfrecords.zip /content/tfrecords ; cp tfrecords.zip /content/drive/MyDrive/DATA"
      ],
      "metadata": {
        "id": "hSY-AhHfwniQ",
        "outputId": "af06e3d7-ae98-4bb8-ffe5-787d2712d6fa",
        "colab": {
          "base_uri": "https://localhost:8080/"
        }
      },
      "execution_count": null,
      "outputs": [
        {
          "output_type": "stream",
          "name": "stdout",
          "text": [
            "  adding: content/tfrecords/ (stored 0%)\n",
            "  adding: content/tfrecords/test.tfrecords (deflated 73%)\n",
            "  adding: content/tfrecords/train.tfrecords (deflated 63%)\n",
            "  adding: content/tfrecords/val.tfrecords (deflated 78%)\n"
          ]
        }
      ]
    },
    {
      "cell_type": "markdown",
      "source": [
        "## Engagement Recognition"
      ],
      "metadata": {
        "id": "eC87HyWjHTce"
      }
    },
    {
      "cell_type": "code",
      "source": [
        "!python /content/Engagement-recognition-using-DAISEE-dataset/daisee_data_preprocessing.py"
      ],
      "metadata": {
        "id": "oudxztXe189q"
      },
      "execution_count": null,
      "outputs": []
    },
    {
      "cell_type": "code",
      "source": [
        "!python /content/Engagement-recognition-using-DAISEE-dataset/train.py"
      ],
      "metadata": {
        "id": "QehEx7mPABCx"
      },
      "execution_count": null,
      "outputs": []
    },
    {
      "cell_type": "markdown",
      "source": [
        "### Train Code - XCeption Test"
      ],
      "metadata": {
        "id": "n6fWGa8-7imA"
      }
    },
    {
      "cell_type": "code",
      "source": [
        "import numpy as np\n",
        "import tensorflow as tf\n",
        "import tensorflow.keras.layers as kl\n",
        "import tensorflow.keras.losses\n",
        "from tensorflow.keras.applications.resnet50 import ResNet50\n"
      ],
      "metadata": {
        "id": "1jLOOoYu7kng"
      },
      "execution_count": null,
      "outputs": []
    },
    {
      "cell_type": "code",
      "source": [
        "!wget https://raw.githubusercontent.com/aenoboa1/Engagement-recognition-using-DAISEE-dataset/master/daisee_data_preprocessing.py"
      ],
      "metadata": {
        "colab": {
          "base_uri": "https://localhost:8080/"
        },
        "id": "LigVvoqs93Zi",
        "outputId": "1c399faf-b37b-49ef-8147-c91389ba1d01"
      },
      "execution_count": null,
      "outputs": [
        {
          "output_type": "stream",
          "name": "stdout",
          "text": [
            "--2022-01-02 03:07:52--  https://raw.githubusercontent.com/aenoboa1/Engagement-recognition-using-DAISEE-dataset/master/daisee_data_preprocessing.py\n",
            "Resolving raw.githubusercontent.com (raw.githubusercontent.com)... 185.199.108.133, 185.199.110.133, 185.199.109.133, ...\n",
            "Connecting to raw.githubusercontent.com (raw.githubusercontent.com)|185.199.108.133|:443... connected.\n",
            "HTTP request sent, awaiting response... 200 OK\n",
            "Length: 8681 (8.5K) [text/plain]\n",
            "Saving to: ‘daisee_data_preprocessing.py’\n",
            "\n",
            "\r          daisee_da   0%[                    ]       0  --.-KB/s               \rdaisee_data_preproc 100%[===================>]   8.48K  --.-KB/s    in 0s      \n",
            "\n",
            "2022-01-02 03:07:52 (84.2 MB/s) - ‘daisee_data_preprocessing.py’ saved [8681/8681]\n",
            "\n"
          ]
        }
      ]
    },
    {
      "cell_type": "code",
      "source": [
        "from daisee_data_preprocessing import DataPreprocessing\n",
        "import datetime\n",
        "import os\n",
        "from tqdm import tqdm"
      ],
      "metadata": {
        "id": "z5fhuSPF9z1h"
      },
      "execution_count": null,
      "outputs": []
    },
    {
      "cell_type": "code",
      "source": [
        "BATCH_SIZE = 32\n",
        "LR = 0.005\n",
        "EPOCHS = 10"
      ],
      "metadata": {
        "id": "LjXlBA2K_EOe"
      },
      "execution_count": null,
      "outputs": []
    },
    {
      "cell_type": "code",
      "source": [
        "current_time = datetime.datetime.now().strftime(\"%Y%m%d-%H%M%S\")\n",
        "checkpoint_dir = 'checkpoints/'\n",
        "log_dir = 'logs/'\n"
      ],
      "metadata": {
        "id": "IY_Vfesl_T3C"
      },
      "execution_count": null,
      "outputs": []
    },
    {
      "cell_type": "code",
      "source": [
        "preprocessing_class = DataPreprocessing()\n"
      ],
      "metadata": {
        "id": "hIvMzsIs_e8J"
      },
      "execution_count": null,
      "outputs": []
    },
    {
      "cell_type": "code",
      "source": [
        "# Open train set\n",
        "tfrecord_path = '/content/tfrecords/test.tfrecords'\n",
        "train_set = tf.data.TFRecordDataset(tfrecord_path)\n",
        "# Parse the record into tensors with map.\n",
        "train_set = train_set.map(preprocessing_class.decode)\n",
        "train_set = train_set.shuffle(1)\n",
        "train_set = train_set.batch(BATCH_SIZE)"
      ],
      "metadata": {
        "id": "Z5ua2zTq_i7t"
      },
      "execution_count": null,
      "outputs": []
    },
    {
      "cell_type": "code",
      "source": [
        "# Open test set\n",
        "tfrecord_path = '/content/tfrecords/train.tfrecords'\n",
        "test_set = tf.data.TFRecordDataset(tfrecord_path)\n",
        "# Parse the record into tensors with map.\n",
        "test_set = test_set.map(preprocessing_class.decode)\n",
        "test_set = test_set.shuffle(1)\n",
        "test_set = test_set.batch(BATCH_SIZE)"
      ],
      "metadata": {
        "id": "kJLv34y-_jZQ"
      },
      "execution_count": null,
      "outputs": []
    },
    {
      "cell_type": "code",
      "source": [
        "# Open val set\n",
        "tfrecord_path = '/content/tfrecords/val.tfrecords'\n",
        "val_set = tf.data.TFRecordDataset(tfrecord_path)\n",
        "# Parse the record into tensors with map.\n",
        "val_set = val_set.map(preprocessing_class.decode)\n",
        "val_set = val_set.shuffle(1)\n",
        "val_set = val_set.batch(BATCH_SIZE)"
      ],
      "metadata": {
        "id": "QQM8s8Aa_lyV"
      },
      "execution_count": null,
      "outputs": []
    },
    {
      "cell_type": "code",
      "source": [
        "from imblearn.over_sampling import SMOTE\n",
        "sm = SMOTE(random_state=1)\n",
        "X_smote = sm.fit_resample(train_set)\n",
        "\n"
      ],
      "metadata": {
        "colab": {
          "base_uri": "https://localhost:8080/",
          "height": 217
        },
        "id": "qZb9eVwF1J7N",
        "outputId": "c32c3423-9cc7-4e0e-8707-b70e026ea46f"
      },
      "execution_count": null,
      "outputs": [
        {
          "output_type": "error",
          "ename": "TypeError",
          "evalue": "ignored",
          "traceback": [
            "\u001b[0;31m---------------------------------------------------------------------------\u001b[0m",
            "\u001b[0;31mTypeError\u001b[0m                                 Traceback (most recent call last)",
            "\u001b[0;32m<ipython-input-52-d9bd07ceae2b>\u001b[0m in \u001b[0;36m<module>\u001b[0;34m()\u001b[0m\n\u001b[1;32m      1\u001b[0m \u001b[0;32mfrom\u001b[0m \u001b[0mimblearn\u001b[0m\u001b[0;34m.\u001b[0m\u001b[0mover_sampling\u001b[0m \u001b[0;32mimport\u001b[0m \u001b[0mSMOTE\u001b[0m\u001b[0;34m\u001b[0m\u001b[0;34m\u001b[0m\u001b[0m\n\u001b[1;32m      2\u001b[0m \u001b[0msm\u001b[0m \u001b[0;34m=\u001b[0m \u001b[0mSMOTE\u001b[0m\u001b[0;34m(\u001b[0m\u001b[0mrandom_state\u001b[0m\u001b[0;34m=\u001b[0m\u001b[0;36m1\u001b[0m\u001b[0;34m)\u001b[0m\u001b[0;34m\u001b[0m\u001b[0;34m\u001b[0m\u001b[0m\n\u001b[0;32m----> 3\u001b[0;31m \u001b[0mX_smote\u001b[0m \u001b[0;34m=\u001b[0m \u001b[0msm\u001b[0m\u001b[0;34m.\u001b[0m\u001b[0mfit_resample\u001b[0m\u001b[0;34m(\u001b[0m\u001b[0mtrain_set\u001b[0m\u001b[0;34m)\u001b[0m\u001b[0;34m\u001b[0m\u001b[0;34m\u001b[0m\u001b[0m\n\u001b[0m\u001b[1;32m      4\u001b[0m \u001b[0;34m\u001b[0m\u001b[0m\n",
            "\u001b[0;31mTypeError\u001b[0m: fit_resample() missing 1 required positional argument: 'y'"
          ]
        }
      ]
    },
    {
      "cell_type": "code",
      "source": [
        "def create_log_dir(log_dir, checkpoint_dir):\n",
        "    if not os.path.exists(log_dir):\n",
        "        os.mkdir(log_dir)\n",
        "    if not os.path.exists(checkpoint_dir):\n",
        "        os.mkdir(checkpoint_dir)"
      ],
      "metadata": {
        "id": "zNVgWRnZ_mu3"
      },
      "execution_count": null,
      "outputs": []
    },
    {
      "cell_type": "code",
      "source": [
        "BATCH_SIZE = 32\n",
        "LR = 0.005\n",
        "EPOCHS = 20"
      ],
      "metadata": {
        "id": "fJlyQxma4kB5"
      },
      "execution_count": null,
      "outputs": []
    },
    {
      "cell_type": "code",
      "source": [
        "from tensorflow.keras.applications.resnet50 import ResNet50\n",
        "from tensorflow.keras.applications.vgg16 import VGG16\n"
      ],
      "metadata": {
        "id": "nTC6EAgp4_I3"
      },
      "execution_count": null,
      "outputs": []
    },
    {
      "cell_type": "code",
      "source": [
        "def build_model():\n",
        "    model = tf.keras.Sequential()\n",
        "    model.add(kl.InputLayer(input_shape=(224, 224, 3)))\n",
        "    if use_pretrained:\n",
        "        if pretrained_name == 'vgg':\n",
        "            vgg = VGG16(weights='imagenet', input_shape=(224, 224, 3), include_top=False)\n",
        "            vgg.trainable = False\n",
        "            model.add(vgg)\n",
        "        if pretrained_name == 'mobilenet':\n",
        "            mobnet = MobileNetV2(weights='imagenet', input_shape=(224, 224, 3), include_top=False)\n",
        "            mobnet.trainable = False\n",
        "            model.add(mobnet)\n",
        "    else:\n",
        "        # First conv block\n",
        "        model.add(kl.Conv2D(filters=128, kernel_size=3, padding='same', strides=2))\n",
        "        model.add(tf.keras.layers.ReLU())\n",
        "        model.add(kl.MaxPooling2D(pool_size=(2, 2)))\n",
        "        # Second conv block\n",
        "        model.add(kl.Conv2D(filters=256, kernel_size=3, padding='same', strides=2))\n",
        "        model.add(tf.keras.layers.ReLU())\n",
        "        model.add(kl.MaxPooling2D(pool_size=(2, 2)))\n",
        "        # Third conv block\n",
        "        model.add(kl.Conv2D(filters=512, kernel_size=3, padding='same', strides=2))\n",
        "        model.add(tf.keras.layers.ReLU())\n",
        "        model.add(kl.MaxPooling2D(pool_size=(2, 2)))\n",
        "    # Flatten\n",
        "    model.add(kl.Flatten())\n",
        "    # First FC\n",
        "    model.add(kl.Dense(1024))\n",
        "    # Second Fc\n",
        "    model.add(kl.Dense(256))\n",
        "    # Output FC with sigmoid at the end\n",
        "    model.add(kl.Dense(4, activation='sigmoid', name='prediction'))\n",
        "\n",
        "    optimizer = keras.optimizers.RMSprop(learning_rate=LR)\n",
        "\n",
        "    loss = keras.losses.CategoricalCrossentropy(from_logits=False)\n",
        "\n",
        "    model.compile(optimizer=optimizer, loss=loss, metrics=['accuracy'])\n",
        "\n",
        "\n",
        "    return model"
      ],
      "metadata": {
        "id": "B6u1hinj5Lhy"
      },
      "execution_count": null,
      "outputs": []
    },
    {
      "cell_type": "code",
      "source": [
        "# Loading the necessary libraries\n",
        "import numpy as np\n",
        "import matplotlib.pyplot as plt\n",
        "import os \n",
        "import tensorflow as tf\n",
        "from tensorflow import keras\n",
        "from tensorflow.keras.applications.xception import Xception\n",
        "from tensorflow.keras.applications.xception import preprocess_input\n",
        "from tensorflow.keras.applications.xception import decode_predictions\n",
        "import visualkeras\n",
        "import pandas as pd\n",
        "import seaborn as sns\n",
        "\n",
        "from tensorflow.keras.preprocessing.image import ImageDataGenerator\n",
        "from tensorflow.keras.applications.xception import preprocess_input\n"
      ],
      "metadata": {
        "id": "dAbQQAEHRYbp"
      },
      "execution_count": null,
      "outputs": []
    },
    {
      "cell_type": "code",
      "source": [
        "def build_model(alpha=0.01):\n",
        "    base_model = Xception(\n",
        "        weights='imagenet',\n",
        "        include_top=False,\n",
        "        input_shape=(224, 224, 3)\n",
        "    )\n",
        "\n",
        "    base_model.trainable = False\n",
        "\n",
        "    # actual model \n",
        "\n",
        "\n",
        "\n",
        "    inputs = keras.Input(shape=(224, 224, 3))\n",
        "    base = base_model(inputs, training=False)\n",
        "    vectors = keras.layers.GlobalAveragePooling2D()(base)\n",
        "    outputs = keras.layers.Dense(4,activation='softmax')(vectors)\n",
        "    model = keras.Model(inputs, outputs)\n",
        "    optimizer = keras.optimizers.RMSprop(learning_rate=alpha)\n",
        "\n",
        "    loss = keras.losses.CategoricalCrossentropy(from_logits=False)\n",
        "    model.compile(optimizer=optimizer, loss=loss, metrics=['accuracy'])\n",
        "\n",
        "\n",
        "\n",
        "    return model"
      ],
      "metadata": {
        "id": "wvp5E9OuRTOi"
      },
      "execution_count": null,
      "outputs": []
    },
    {
      "cell_type": "code",
      "source": [
        ""
      ],
      "metadata": {
        "id": "_UFU7MytKtVL"
      },
      "execution_count": null,
      "outputs": []
    },
    {
      "cell_type": "code",
      "source": [
        "use_pretrained = True\n",
        "pretrained_name = 'vgg'\n"
      ],
      "metadata": {
        "id": "C61z84AA5Xso"
      },
      "execution_count": null,
      "outputs": []
    },
    {
      "cell_type": "code",
      "source": [
        "model = build_model()"
      ],
      "metadata": {
        "id": "XppD67nO32by"
      },
      "execution_count": null,
      "outputs": []
    },
    {
      "cell_type": "code",
      "source": [
        "model.summary()"
      ],
      "metadata": {
        "colab": {
          "base_uri": "https://localhost:8080/"
        },
        "id": "aPj_kvae5dV5",
        "outputId": "d7e1b29c-5f3e-43b2-e0c6-c1c0d6c2878b"
      },
      "execution_count": null,
      "outputs": [
        {
          "output_type": "stream",
          "name": "stdout",
          "text": [
            "Model: \"model\"\n",
            "_________________________________________________________________\n",
            " Layer (type)                Output Shape              Param #   \n",
            "=================================================================\n",
            " input_12 (InputLayer)       [(None, 100, 100, 3)]     0         \n",
            "                                                                 \n",
            " xception (Functional)       (None, 3, 3, 2048)        20861480  \n",
            "                                                                 \n",
            " global_average_pooling2d (G  (None, 2048)             0         \n",
            " lobalAveragePooling2D)                                          \n",
            "                                                                 \n",
            " dense_15 (Dense)            (None, 131)               268419    \n",
            "                                                                 \n",
            "=================================================================\n",
            "Total params: 21,129,899\n",
            "Trainable params: 268,419\n",
            "Non-trainable params: 20,861,480\n",
            "_________________________________________________________________\n"
          ]
        }
      ]
    },
    {
      "cell_type": "code",
      "source": [
        "history = model.fit(\n",
        "    train_set, \n",
        "    epochs=EPOCHS, \n",
        "    validation_data=val_set)"
      ],
      "metadata": {
        "colab": {
          "base_uri": "https://localhost:8080/"
        },
        "id": "CgNoM0F04rgE",
        "outputId": "38ce66c6-ec1b-4cdb-b519-9ef404b1d4c6"
      },
      "execution_count": null,
      "outputs": [
        {
          "output_type": "stream",
          "name": "stdout",
          "text": [
            "Epoch 1/20\n",
            "834/834 [==============================] - 115s 139ms/step - loss: 226.1175 - accuracy: 0.4749 - val_loss: 201.5798 - val_accuracy: 0.3083\n",
            "Epoch 2/20\n",
            "834/834 [==============================] - 114s 136ms/step - loss: 214.4299 - accuracy: 0.4621 - val_loss: 252.2291 - val_accuracy: 0.3083\n",
            "Epoch 3/20\n",
            "834/834 [==============================] - 113s 136ms/step - loss: 223.0627 - accuracy: 0.4685 - val_loss: 221.0346 - val_accuracy: 0.0509\n",
            "Epoch 4/20\n",
            "834/834 [==============================] - 113s 136ms/step - loss: 224.6670 - accuracy: 0.4583 - val_loss: 291.4684 - val_accuracy: 0.3083\n",
            "Epoch 5/20\n",
            "834/834 [==============================] - 113s 136ms/step - loss: 226.0584 - accuracy: 0.4603 - val_loss: 194.8815 - val_accuracy: 0.3083\n",
            "Epoch 6/20\n",
            "834/834 [==============================] - 114s 136ms/step - loss: 224.4773 - accuracy: 0.4646 - val_loss: 84.0669 - val_accuracy: 0.6043\n",
            "Epoch 7/20\n",
            "834/834 [==============================] - 114s 136ms/step - loss: 227.3481 - accuracy: 0.4690 - val_loss: 101.9899 - val_accuracy: 0.5618\n",
            "Epoch 8/20\n",
            "834/834 [==============================] - 114s 137ms/step - loss: 226.7308 - accuracy: 0.4681 - val_loss: 122.5790 - val_accuracy: 0.4243\n",
            "Epoch 9/20\n",
            "834/834 [==============================] - 114s 136ms/step - loss: 220.3036 - accuracy: 0.4533 - val_loss: 298.6852 - val_accuracy: 0.3083\n",
            "Epoch 10/20\n",
            "834/834 [==============================] - 113s 136ms/step - loss: 220.8066 - accuracy: 0.4723 - val_loss: 289.5652 - val_accuracy: 0.1403\n",
            "Epoch 11/20\n",
            "834/834 [==============================] - 113s 136ms/step - loss: 223.3954 - accuracy: 0.4534 - val_loss: 169.3396 - val_accuracy: 0.2654\n",
            "Epoch 12/20\n",
            "834/834 [==============================] - 113s 136ms/step - loss: 220.5525 - accuracy: 0.4675 - val_loss: 157.6697 - val_accuracy: 0.1072\n",
            "Epoch 13/20\n",
            "834/834 [==============================] - 114s 136ms/step - loss: 228.8020 - accuracy: 0.4691 - val_loss: 86.3966 - val_accuracy: 0.4890\n",
            "Epoch 14/20\n",
            "834/834 [==============================] - 115s 138ms/step - loss: 228.7372 - accuracy: 0.4699 - val_loss: 265.3646 - val_accuracy: 0.2594\n",
            "Epoch 15/20\n",
            "834/834 [==============================] - 113s 136ms/step - loss: 230.8014 - accuracy: 0.4679 - val_loss: 215.6278 - val_accuracy: 0.2988\n",
            "Epoch 16/20\n",
            "834/834 [==============================] - 114s 136ms/step - loss: 234.1323 - accuracy: 0.4716 - val_loss: 180.8042 - val_accuracy: 0.2320\n",
            "Epoch 17/20\n",
            "834/834 [==============================] - 113s 136ms/step - loss: 232.7621 - accuracy: 0.4664 - val_loss: 138.9124 - val_accuracy: 0.2227\n",
            "Epoch 18/20\n",
            "834/834 [==============================] - 113s 136ms/step - loss: 237.4559 - accuracy: 0.4619 - val_loss: 192.9937 - val_accuracy: 0.2459\n",
            "Epoch 19/20\n",
            "834/834 [==============================] - 113s 136ms/step - loss: 230.6560 - accuracy: 0.4675 - val_loss: 291.5169 - val_accuracy: 0.3082\n",
            "Epoch 20/20\n",
            "834/834 [==============================] - 113s 136ms/step - loss: 231.6643 - accuracy: 0.4613 - val_loss: 183.3337 - val_accuracy: 0.2895\n"
          ]
        }
      ]
    },
    {
      "cell_type": "code",
      "source": [
        "#plt.plot(history.history['accuracy'], label='train')\n",
        "plt.plot(history.history['accuracy'], label='train accuracy')\n",
        "\n",
        "plt.plot(history.history['val_accuracy'], label='validation accuracy')\n",
        "plt.xticks(np.arange(10))\n",
        "plt.legend()\n"
      ],
      "metadata": {
        "colab": {
          "base_uri": "https://localhost:8080/",
          "height": 518
        },
        "id": "fVeJ3848FCJ5",
        "outputId": "ed702524-7217-4753-ccd9-681a477e0472"
      },
      "execution_count": null,
      "outputs": [
        {
          "output_type": "execute_result",
          "data": {
            "text/plain": [
              "<matplotlib.legend.Legend at 0x7fc98f20a490>"
            ]
          },
          "metadata": {},
          "execution_count": 111
        },
        {
          "output_type": "display_data",
          "data": {
            "image/png": "[encoded data removed]",
            "text/plain": [
              "<Figure size 842.4x595.44 with 1 Axes>"
            ]
          },
          "metadata": {}
        }
      ]
    },
    {
      "cell_type": "code",
      "source": [
        "model = network()"
      ],
      "metadata": {
        "id": "QgRv9HTU_u96"
      },
      "execution_count": null,
      "outputs": []
    },
    {
      "cell_type": "code",
      "source": [
        "!pip install visualkeras ; ! pip install ThreadedFileLoader # module for CNN visualization\n"
      ],
      "metadata": {
        "colab": {
          "base_uri": "https://localhost:8080/"
        },
        "id": "RdAJdoSX_3jg",
        "outputId": "5a702f2d-1347-4d86-e4af-39c2f3fac96c"
      },
      "execution_count": null,
      "outputs": [
        {
          "output_type": "stream",
          "name": "stdout",
          "text": [
            "Requirement already satisfied: visualkeras in /usr/local/lib/python3.7/dist-packages (0.0.2)\n",
            "Requirement already satisfied: pillow>=6.2.0 in /usr/local/lib/python3.7/dist-packages (from visualkeras) (7.1.2)\n",
            "Requirement already satisfied: aggdraw>=1.3.11 in /usr/local/lib/python3.7/dist-packages (from visualkeras) (1.3.12)\n",
            "Requirement already satisfied: numpy>=1.18.1 in /usr/local/lib/python3.7/dist-packages (from visualkeras) (1.19.5)\n",
            "Collecting ThreadedFileLoader\n",
            "  Downloading ThreadedFileLoader-1.0.0.11-py3-none-any.whl (3.0 kB)\n",
            "Requirement already satisfied: imageio in /usr/local/lib/python3.7/dist-packages (from ThreadedFileLoader) (2.4.1)\n",
            "Requirement already satisfied: wheel in /usr/local/lib/python3.7/dist-packages (from ThreadedFileLoader) (0.37.0)\n",
            "Requirement already satisfied: pillow in /usr/local/lib/python3.7/dist-packages (from imageio->ThreadedFileLoader) (7.1.2)\n",
            "Requirement already satisfied: numpy in /usr/local/lib/python3.7/dist-packages (from imageio->ThreadedFileLoader) (1.19.5)\n",
            "Installing collected packages: ThreadedFileLoader\n",
            "Successfully installed ThreadedFileLoader-1.0.0.11\n"
          ]
        }
      ]
    },
    {
      "cell_type": "code",
      "source": [
        "visualkeras.layered_view(model).show()\n",
        "visualkeras.layered_view(model,legend=True)"
      ],
      "metadata": {
        "colab": {
          "base_uri": "https://localhost:8080/",
          "height": 370
        },
        "id": "45v0kh9t_w6Q",
        "outputId": "96377f47-8120-4403-e33e-1c2f5b643481"
      },
      "execution_count": null,
      "outputs": [
        {
          "output_type": "execute_result",
          "data": {
            "image/png": "[encoded data removed]",
            "text/plain": [
              "<PIL.Image.Image image mode=RGBA size=2004x634 at 0x7F3DACF12F90>"
            ]
          },
          "metadata": {},
          "execution_count": 53
        }
      ]
    },
    {
      "cell_type": "code",
      "source": [
        "@tf.function\n",
        "def train_step(x, y):\n",
        "    with tf.GradientTape() as tape:\n",
        "        logits = model(x)\n",
        "        loss_value = tf.nn.sigmoid_cross_entropy_with_logits(labels=y, logits=logits)\n",
        "    grads = tape.gradient(loss_value, model.trainable_weights)\n",
        "    optimizer.apply_gradients(zip(grads, model.trainable_weights))\n",
        "    # Track progress\n",
        "    train_loss_avg.update_state(loss_value)\n",
        "    train_accuracy.update_state(y, logits)\n",
        "    return loss_value"
      ],
      "metadata": {
        "id": "YB0e6EkFAHM9"
      },
      "execution_count": null,
      "outputs": []
    },
    {
      "cell_type": "code",
      "source": [
        "@tf.function\n",
        "def test_step(x, y, set_name):\n",
        "    logits = model(x)\n",
        "    if set_name == 'val':\n",
        "        val_accuracy.update_state(y, logits)\n",
        "    else:\n",
        "        test_accuracy.update_state(y, logits)"
      ],
      "metadata": {
        "id": "76Nn6dZmAXoK"
      },
      "execution_count": null,
      "outputs": []
    },
    {
      "cell_type": "code",
      "source": [
        "optimizer = tf.keras.optimizers.Adam(learning_rate=LR)\n",
        "create_log_dir(log_dir, checkpoint_dir)\n",
        "train_summary_writer = tf.summary.create_file_writer(log_dir)"
      ],
      "metadata": {
        "id": "GN68-47IAcTH"
      },
      "execution_count": null,
      "outputs": []
    },
    {
      "cell_type": "code",
      "source": [
        "train_loss_avg = tf.keras.metrics.Mean()\n",
        "train_accuracy = tf.keras.metrics.MeanAbsoluteError()\n",
        "val_accuracy = tf.keras.metrics.MeanAbsoluteError()\n",
        "test_accuracy = tf.keras.metrics.MeanAbsoluteError()"
      ],
      "metadata": {
        "id": "5Wa7uX1SAeix"
      },
      "execution_count": null,
      "outputs": []
    },
    {
      "cell_type": "code",
      "source": [
        "for epoch in range(EPOCHS):\n",
        "    # Training loop\n",
        "    for x_batch_train, y_batch_train in tqdm(train_set, total=1517):\n",
        "        # Do step\n",
        "        loss_value = train_step(x_batch_train, y_batch_train)\n",
        "        \n",
        "    # Test on validation set\n",
        "    for x_batch_val, y_batch_val in val_set:\n",
        "        test_step(x_batch_val, y_batch_val, 'val')\n",
        "    \n",
        "    # Reset training metrics at the end of each epoch\n",
        "    train_acc = train_accuracy.result()\n",
        "    train_accuracy.reset_states()\n",
        "    val_acc = val_accuracy.result()\n",
        "    val_accuracy.reset_states()\n",
        "    \n",
        "    with train_summary_writer.as_default():\n",
        "        tf.summary.scalar('Train loss', train_loss_avg.result(), step=epoch)\n",
        "        tf.summary.scalar('Train MAE', train_acc, step=epoch)\n",
        "        tf.summary.scalar('Val MAE', val_acc, step=epoch)\n",
        "        \n",
        "    if epoch % 10 == 0:\n",
        "        tf.keras.models.save_model(model, '{}/Epoch_{}_model.hp5'.format(checkpoint_dir, str(epoch)), save_format=\"h5\")"
      ],
      "metadata": {
        "colab": {
          "base_uri": "https://localhost:8080/"
        },
        "id": "c5Jf2xVkAgu5",
        "outputId": "c4be040f-2cc3-4f98-84ea-fa24714b4308"
      },
      "execution_count": null,
      "outputs": [
        {
          "output_type": "stream",
          "name": "stderr",
          "text": [
            " 55%|█████▍    | 833/1517 [00:39<00:32, 20.84it/s]\n"
          ]
        },
        {
          "output_type": "stream",
          "name": "stdout",
          "text": [
            "WARNING:tensorflow:Compiled the loaded model, but the compiled metrics have yet to be built. `model.compile_metrics` will be empty until you train or evaluate the model.\n"
          ]
        },
        {
          "output_type": "stream",
          "name": "stderr",
          "text": [
            " 55%|█████▍    | 833/1517 [00:39<00:32, 20.88it/s]\n",
            " 55%|█████▍    | 833/1517 [00:39<00:32, 20.86it/s]\n",
            " 55%|█████▍    | 833/1517 [00:39<00:32, 20.88it/s]\n",
            " 55%|█████▍    | 833/1517 [00:39<00:32, 20.87it/s]\n",
            " 55%|█████▍    | 833/1517 [00:39<00:32, 20.89it/s]\n",
            " 55%|█████▍    | 833/1517 [00:39<00:32, 20.89it/s]\n",
            " 55%|█████▍    | 833/1517 [00:39<00:32, 20.88it/s]\n",
            " 55%|█████▍    | 833/1517 [00:39<00:32, 20.87it/s]\n",
            " 55%|█████▍    | 833/1517 [00:39<00:32, 20.88it/s]\n"
          ]
        }
      ]
    },
    {
      "cell_type": "code",
      "source": [
        "%load_ext tensorboard"
      ],
      "metadata": {
        "colab": {
          "base_uri": "https://localhost:8080/"
        },
        "id": "D1A50WEcBTQM",
        "outputId": "104d597b-dade-4528-f62f-6af382ae4e2f"
      },
      "execution_count": null,
      "outputs": [
        {
          "output_type": "stream",
          "name": "stdout",
          "text": [
            "The tensorboard extension is already loaded. To reload it, use:\n",
            "  %reload_ext tensorboard\n"
          ]
        }
      ]
    },
    {
      "cell_type": "code",
      "source": [
        "%tensorboard --logdir /content/logs"
      ],
      "metadata": {
        "id": "GFRx33bLBXob"
      },
      "execution_count": null,
      "outputs": []
    },
    {
      "cell_type": "code",
      "source": [
        "# Test on validation set\n",
        "for x_batch_test, y_batch_test in test_set:\n",
        "    test_step(x_batch_test, y_batch_test, 'test')\n",
        "test_set_acc = test_accuracy.result()"
      ],
      "metadata": {
        "id": "J2Be92DbAnG_"
      },
      "execution_count": null,
      "outputs": []
    },
    {
      "cell_type": "code",
      "source": [
        "display(test_set_acc)"
      ],
      "metadata": {
        "colab": {
          "base_uri": "https://localhost:8080/",
          "height": 34
        },
        "id": "SishBYBYBKRL",
        "outputId": "a0bc7b71-fe76-4432-8187-a7c6e6c4386e"
      },
      "execution_count": null,
      "outputs": [
        {
          "output_type": "display_data",
          "data": {
            "text/plain": [
              "<tf.Tensor: shape=(), dtype=float32, numpy=0.0>"
            ]
          },
          "metadata": {}
        }
      ]
    },
    {
      "cell_type": "code",
      "source": [
        ""
      ],
      "metadata": {
        "id": "Ga8MZKWXEf36"
      },
      "execution_count": null,
      "outputs": []
    },
    {
      "cell_type": "markdown",
      "source": [
        "### Saving Models"
      ],
      "metadata": {
        "id": "U-lvnZHv7pjd"
      }
    },
    {
      "cell_type": "code",
      "source": [
        "!zip -r scratch_models.zip /content/checkpoints/scratch_aug"
      ],
      "metadata": {
        "colab": {
          "base_uri": "https://localhost:8080/"
        },
        "id": "xKRrtP8CeDDe",
        "outputId": "3b4cab63-9c7f-415a-8201-4282a8da0857"
      },
      "execution_count": null,
      "outputs": [
        {
          "output_type": "stream",
          "name": "stdout",
          "text": [
            "  adding: content/checkpoints/scratch_aug/ (stored 0%)\n",
            "  adding: content/checkpoints/scratch_aug/Epoch_250_model.hp5 (deflated 7%)\n",
            "  adding: content/checkpoints/scratch_aug/Epoch_0_model.hp5 (deflated 7%)\n",
            "  adding: content/checkpoints/scratch_aug/Epoch_350_model.hp5 (deflated 7%)\n",
            "  adding: content/checkpoints/scratch_aug/Epoch_450_model.hp5 (deflated 7%)\n",
            "  adding: content/checkpoints/scratch_aug/Epoch_100_model.hp5 (deflated 7%)\n",
            "  adding: content/checkpoints/scratch_aug/Epoch_200_model.hp5 (deflated 7%)\n",
            "  adding: content/checkpoints/scratch_aug/Epoch_50_model.hp5 (deflated 7%)\n",
            "  adding: content/checkpoints/scratch_aug/Epoch_400_model.hp5 (deflated 7%)\n",
            "  adding: content/checkpoints/scratch_aug/Epoch_150_model.hp5 (deflated 7%)\n",
            "  adding: content/checkpoints/scratch_aug/Epoch_300_model.hp5 (deflated 7%)\n",
            "  adding: content/checkpoints/scratch_aug/Epoch_500_model.hp5 (deflated 7%)\n"
          ]
        }
      ]
    },
    {
      "cell_type": "code",
      "source": [
        "import tensorflow as tf \n",
        "raw_dataset = tf.data.TFRecordDataset(\"/content/tfrecords/train.tfrecords\")\n",
        "\n",
        "for raw_record in raw_dataset.take(1):\n",
        "    example = tf.train.Example()\n",
        "    example.ParseFromString(raw_record.numpy())\n",
        "    print(example)"
      ],
      "metadata": {
        "id": "pz0kTxW9fO9e"
      },
      "execution_count": null,
      "outputs": []
    },
    {
      "cell_type": "code",
      "source": [
        "example\n"
      ],
      "metadata": {
        "colab": {
          "base_uri": "https://localhost:8080/"
        },
        "id": "o1Aeiv11gAre",
        "outputId": "67ac3f2d-16c9-42c4-e090-7319f107e188"
      },
      "execution_count": null,
      "outputs": [
        {
          "output_type": "execute_result",
          "data": {
            "text/plain": [
              ""
            ]
          },
          "metadata": {},
          "execution_count": 32
        }
      ]
    },
    {
      "cell_type": "markdown",
      "source": [
        "## Testing predictions"
      ],
      "metadata": {
        "id": "Lu7sbSzJkSfL"
      }
    },
    {
      "cell_type": "code",
      "source": [
        "AUTOTUNE = tf.data.AUTOTUNE\n",
        "GCS_PATH = \"/\"\n",
        "BATCH_SIZE = 64\n",
        "IMAGE_SIZE = [1024, 1024]"
      ],
      "metadata": {
        "id": "Bis5KG1OkWcr"
      },
      "execution_count": null,
      "outputs": []
    },
    {
      "cell_type": "code",
      "source": [
        "model.compile()"
      ],
      "metadata": {
        "id": "n8HW9m1sk0ZW"
      },
      "execution_count": null,
      "outputs": []
    },
    {
      "cell_type": "code",
      "source": [
        "from keras.models import load_model\n",
        "\n",
        "model =load_model('/content/checkpoints/Epoch_0_model.hp5')\n"
      ],
      "metadata": {
        "id": "cYOtJwOdjve_",
        "outputId": "804f3f1c-8920-480c-b2b3-338ef9e618e1",
        "colab": {
          "base_uri": "https://localhost:8080/"
        }
      },
      "execution_count": null,
      "outputs": [
        {
          "output_type": "stream",
          "name": "stdout",
          "text": [
            "WARNING:tensorflow:No training configuration found in the save file, so the model was *not* compiled. Compile it manually.\n"
          ]
        }
      ]
    },
    {
      "cell_type": "code",
      "source": [
        "model.summary()"
      ],
      "metadata": {
        "id": "9WAZDuaEj99w",
        "outputId": "730a32a2-45ed-43e9-9bd4-a62780db93bd",
        "colab": {
          "base_uri": "https://localhost:8080/"
        }
      },
      "execution_count": null,
      "outputs": [
        {
          "output_type": "stream",
          "name": "stdout",
          "text": [
            "Model: \"sequential\"\n",
            "_________________________________________________________________\n",
            " Layer (type)                Output Shape              Param #   \n",
            "=================================================================\n",
            " conv2d (Conv2D)             (None, 112, 112, 96)      14208     \n",
            "                                                                 \n",
            " re_lu (ReLU)                (None, 112, 112, 96)      0         \n",
            "                                                                 \n",
            " max_pooling2d (MaxPooling2D  (None, 37, 37, 96)       0         \n",
            " )                                                               \n",
            "                                                                 \n",
            " conv2d_1 (Conv2D)           (None, 37, 37, 256)       614656    \n",
            "                                                                 \n",
            " re_lu_1 (ReLU)              (None, 37, 37, 256)       0         \n",
            "                                                                 \n",
            " max_pooling2d_1 (MaxPooling  (None, 18, 18, 256)      0         \n",
            " 2D)                                                             \n",
            "                                                                 \n",
            " conv2d_2 (Conv2D)           (None, 18, 18, 512)       1180160   \n",
            "                                                                 \n",
            " re_lu_2 (ReLU)              (None, 18, 18, 512)       0         \n",
            "                                                                 \n",
            " conv2d_3 (Conv2D)           (None, 18, 18, 512)       2359808   \n",
            "                                                                 \n",
            " re_lu_3 (ReLU)              (None, 18, 18, 512)       0         \n",
            "                                                                 \n",
            " conv2d_4 (Conv2D)           (None, 18, 18, 512)       2359808   \n",
            "                                                                 \n",
            " re_lu_4 (ReLU)              (None, 18, 18, 512)       0         \n",
            "                                                                 \n",
            " max_pooling2d_2 (MaxPooling  (None, 6, 6, 512)        0         \n",
            " 2D)                                                             \n",
            "                                                                 \n",
            " flatten (Flatten)           (None, 18432)             0         \n",
            "                                                                 \n",
            " dense (Dense)               (None, 4048)              74616784  \n",
            "                                                                 \n",
            " dense_1 (Dense)             (None, 4048)              16390352  \n",
            "                                                                 \n",
            " dense_2 (Dense)             (None, 4)                 16196     \n",
            "                                                                 \n",
            " softmax (Softmax)           (None, 4)                 0         \n",
            "                                                                 \n",
            "=================================================================\n",
            "Total params: 97,551,972\n",
            "Trainable params: 97,551,972\n",
            "Non-trainable params: 0\n",
            "_________________________________________________________________\n"
          ]
        }
      ]
    },
    {
      "cell_type": "code",
      "source": [
        "from PIL import Image\n",
        "import numpy as np\n",
        "from skimage import transform\n",
        "def load(filename):\n",
        "   np_image = Image.open(filename)\n",
        "   np_image = np.array(np_image).astype('float32')/255\n",
        "   np_image = transform.resize(np_image, (224, 224, 3))\n",
        "   np_image = np.expand_dims(np_image, axis=0)\n",
        "   return np_image\n",
        "\n",
        "image = load('/content/DAiSEE/DAiSEE/DataSet/Data/Train/310082/3100821015/310082101534.jpg')"
      ],
      "metadata": {
        "id": "0hm1oWI-lXrj"
      },
      "execution_count": null,
      "outputs": []
    },
    {
      "cell_type": "code",
      "source": [
        "image"
      ],
      "metadata": {
        "id": "Dp4-LwfZlcVx",
        "outputId": "ad44fc08-6267-42b6-c888-8eac51683c70",
        "colab": {
          "base_uri": "https://localhost:8080/"
        }
      },
      "execution_count": null,
      "outputs": [
        {
          "output_type": "execute_result",
          "data": {
            "text/plain": [
              "array([[[[0.7294118 , 0.6862745 , 0.7176471 ],\n",
              "         [0.7294118 , 0.6862745 , 0.7176471 ],\n",
              "         [0.7294118 , 0.6862745 , 0.7176471 ],\n",
              "         ...,\n",
              "         [0.7890167 , 0.72235006, 0.7537226 ],\n",
              "         [0.7882354 , 0.72156876, 0.7529413 ],\n",
              "         [0.7882353 , 0.72156864, 0.7529412 ]],\n",
              "\n",
              "        [[0.7294118 , 0.6862745 , 0.7176471 ],\n",
              "         [0.7294118 , 0.6862745 , 0.7176471 ],\n",
              "         [0.7294118 , 0.6862745 , 0.7176471 ],\n",
              "         ...,\n",
              "         [0.7890167 , 0.72235006, 0.7537226 ],\n",
              "         [0.7882354 , 0.72156876, 0.7529413 ],\n",
              "         [0.7882353 , 0.72156864, 0.7529412 ]],\n",
              "\n",
              "        [[0.7294118 , 0.6862745 , 0.7176471 ],\n",
              "         [0.7294118 , 0.6862745 , 0.7176471 ],\n",
              "         [0.7294118 , 0.6862745 , 0.7176471 ],\n",
              "         ...,\n",
              "         [0.7890167 , 0.72235006, 0.7537226 ],\n",
              "         [0.7882354 , 0.72156876, 0.7529413 ],\n",
              "         [0.7882353 , 0.72156864, 0.7529412 ]],\n",
              "\n",
              "        ...,\n",
              "\n",
              "        [[0.19215687, 0.26666668, 0.39607844],\n",
              "         [0.19215798, 0.2666678 , 0.39607957],\n",
              "         [0.19918972, 0.27369952, 0.40311128],\n",
              "         ...,\n",
              "         [0.21469529, 0.21469529, 0.22253843],\n",
              "         [0.19197722, 0.19197722, 0.19982035],\n",
              "         [0.16146226, 0.16146226, 0.1693054 ]],\n",
              "\n",
              "        [[0.19215687, 0.26666668, 0.39607844],\n",
              "         [0.19215798, 0.2666678 , 0.39607957],\n",
              "         [0.19918972, 0.27369952, 0.40311128],\n",
              "         ...,\n",
              "         [0.21469529, 0.21469529, 0.22253843],\n",
              "         [0.19197722, 0.19197722, 0.19982035],\n",
              "         [0.16146226, 0.16146226, 0.1693054 ]],\n",
              "\n",
              "        [[0.19215687, 0.26666668, 0.39607844],\n",
              "         [0.19215798, 0.2666678 , 0.39607957],\n",
              "         [0.19918972, 0.27369952, 0.40311128],\n",
              "         ...,\n",
              "         [0.21469529, 0.21469529, 0.22253843],\n",
              "         [0.19197722, 0.19197722, 0.19982035],\n",
              "         [0.16146226, 0.16146226, 0.1693054 ]]]], dtype=float32)"
            ]
          },
          "metadata": {},
          "execution_count": 113
        }
      ]
    },
    {
      "cell_type": "code",
      "source": [
        "model.predict(image)"
      ],
      "metadata": {
        "id": "9qeR8ZNQkAai",
        "outputId": "dcf32932-798b-4386-fd2a-90bb66018ec4",
        "colab": {
          "base_uri": "https://localhost:8080/"
        }
      },
      "execution_count": null,
      "outputs": [
        {
          "output_type": "execute_result",
          "data": {
            "text/plain": [
              "array([[1.3776677e-06, 9.9999857e-01, 3.2351309e-18, 0.0000000e+00]],\n",
              "      dtype=float32)"
            ]
          },
          "metadata": {},
          "execution_count": 114
        }
      ]
    },
    {
      "cell_type": "markdown",
      "source": [
        "### Method 2 : RESNET+ TCN \n"
      ],
      "metadata": {
        "id": "Nv0N_cmQ5x4s"
      }
    },
    {
      "cell_type": "markdown",
      "source": [
        "#### Code Description:\n",
        "\n",
        "The input is training and validation raw frames extracted from videos and placed in separate folders (using `extractFramesOpenCV.py`). The address of the folders (containing video frames) and corresponding labels should be provided in two csv files, train.csv and validation.csv as follows\n",
        " \n",
        "```python\n",
        "path,label\n",
        "/home/videos/train/826412/8264120240/,0\n",
        "/home/videos/train/510034/5100342024/,1\n",
        "/home/videos/train/500067/5000671065/,2\n",
        "...\n",
        "```\n",
        "\n",
        "`datasets.py` and `transforms.py` read the video frames based on their address in the csv files, preprocess and normalize them, and convert them to [PyTorch dataloaders](https://pytorch.org/docs/stable/data.html#torch.utils.data.DataLoader).\n",
        "\n",
        "The ResNet-TCN Hybrid Architecture is in `ResTCN.py`. In the class `ResTCN` and the function `forward`, [resnet18](https://pytorch.org/vision/0.8/models.html#torchvision.models.resnet18) extracts features from consecutive frames of video, and [TCN](https://github.com/locuslab/TCN) analyzes changes in the extracted features, and fully-connected layers output the final prediction.\n",
        "\n",
        "Training and validation phases are performed in `train.py`. Training the ResNet and TCN is performed jointly using [Adam](https://pytorch.org/docs/stable/optim.html) optimization algorithm.\n",
        "\n",
        "The input to the ResTCN model should have this format: inputs = torch.randn([batch_size, sequence_length, num_channels, frame_width, frame_height]), for instance\n",
        "\n",
        "```\n",
        "import torch\n",
        "from ResTCN import ResTCN\n",
        "model = ResTCN().cuda()\n",
        "inputs = torch.randn([16, 30, 3, 256, 256]).cuda()\n",
        "outputs = model(inputs)\n",
        "```\n",
        "\n",
        "The code has been tested on the [DAiSEE](https://iith.ac.in/~daisee-dataset/), Dataset for Affective States in E-Environments, for engagement level classification in online classrooms.\n",
        "\n"
      ],
      "metadata": {
        "id": "LHljlOL4LPWk"
      }
    },
    {
      "cell_type": "code",
      "source": [
        "!git clone https://github.com/aenoboa1/Draft_ML_EmotionAPP"
      ],
      "metadata": {
        "colab": {
          "base_uri": "https://localhost:8080/"
        },
        "id": "Y8kJ2AYg6HlI",
        "outputId": "81f1951c-0420-4c77-ccd7-08c076a07a66"
      },
      "execution_count": 6,
      "outputs": [
        {
          "output_type": "stream",
          "name": "stdout",
          "text": [
            "Cloning into 'Draft_ML_EmotionAPP'...\n",
            "remote: Enumerating objects: 136, done.\u001b[K\n",
            "remote: Counting objects: 100% (92/92), done.\u001b[K\n",
            "remote: Compressing objects: 100% (91/91), done.\u001b[K\n",
            "remote: Total 136 (delta 43), reused 6 (delta 1), pack-reused 44\u001b[K\n",
            "Receiving objects: 100% (136/136), 18.30 MiB | 7.10 MiB/s, done.\n",
            "Resolving deltas: 100% (57/57), done.\n"
          ]
        }
      ]
    },
    {
      "cell_type": "code",
      "source": [
        "!git clone https://github.com/aenoboa1/ResNet-TCN"
      ],
      "metadata": {
        "colab": {
          "base_uri": "https://localhost:8080/"
        },
        "id": "c9j3xgbk57CG",
        "outputId": "7bf92845-c473-475d-eef1-2b487a0aad58"
      },
      "execution_count": null,
      "outputs": [
        {
          "output_type": "stream",
          "name": "stdout",
          "text": [
            "Cloning into 'ResNet-TCN'...\n",
            "remote: Enumerating objects: 201, done.\u001b[K\n",
            "remote: Counting objects: 100% (13/13), done.\u001b[K\n",
            "remote: Compressing objects: 100% (13/13), done.\u001b[K\n",
            "remote: Total 201 (delta 4), reused 0 (delta 0), pack-reused 188\u001b[K\n",
            "Receiving objects: 100% (201/201), 2.65 MiB | 6.70 MiB/s, done.\n",
            "Resolving deltas: 100% (92/92), done.\n"
          ]
        }
      ]
    },
    {
      "cell_type": "markdown",
      "source": [
        "## Loading dataimages:"
      ],
      "metadata": {
        "id": "rbmqZXoxK4Oe"
      }
    },
    {
      "cell_type": "code",
      "source": [
        "!mkdir /content/DAiSEE2 ; unzip  -qq /content/drive/MyDrive/DATA/DAiSEE.zip -d /content/DAiSEE2"
      ],
      "metadata": {
        "id": "HbFH8eMVM7rI",
        "outputId": "31a475ae-e6ae-4a1a-aaf6-a35ed567dc5f",
        "colab": {
          "base_uri": "https://localhost:8080/"
        }
      },
      "execution_count": null,
      "outputs": [
        {
          "output_type": "stream",
          "name": "stdout",
          "text": [
            "/content/DAiSEE2/DAiSEE/DataSet/Train/210055/2100552061/2100552061.avi  bad CRC 2993cec4  (should be 713f368f)\n"
          ]
        }
      ]
    },
    {
      "cell_type": "code",
      "source": [
        "!python /content/ResNet-TCN/extractFramesOpenCV.py"
      ],
      "metadata": {
        "id": "WGZ1tPt7GDmV"
      },
      "execution_count": null,
      "outputs": []
    },
    {
      "cell_type": "code",
      "source": [
        "import torch\n",
        "import torchvision\n",
        "import cv2\n",
        "import os\n",
        "\n",
        "\n",
        "class VideoFolderPathToTensor(object):\n",
        "\n",
        "    def __init__(self, max_len=None):\n",
        "        self.max_len = max_len\n",
        "\n",
        "    def __call__(self, path):\n",
        "\n",
        "        file_names = sorted([os.path.join(path, f) for f in os.listdir(path) if os.path.isfile(os.path.join(path, f))])\n",
        "        frames_path = [os.path.join(path, f) for f in file_names]\n",
        "\n",
        "        frame = cv2.imread(frames_path[0])\n",
        "        height, width, channels = frame.shape\n",
        "        num_frames = len(frames_path)\n",
        "\n",
        "        transform = torchvision.transforms.Compose([\n",
        "            torchvision.transforms.ToPILImage(),\n",
        "            torchvision.transforms.ToTensor(),\n",
        "            torchvision.transforms.Normalize([0.485, 0.456, 0.406], [0.229, 0.224, 0.225]),\n",
        "            torchvision.transforms.Resize([224, 224])\n",
        "        ])\n",
        "\n",
        "        # EXTRACT_FREQUENCY = 18\n",
        "        EXTRACT_FREQUENCY = 1\n",
        "\n",
        "        # num_time_steps = int(num_frames / EXTRACT_FREQUENCY)\n",
        "\n",
        "        num_time_steps = 16\n",
        "        # num_time_steps = 4\n",
        "\n",
        "        # (3 x T x H x W), https://pytorch.org/docs/stable/torchvision/models.html\n",
        "        frames = torch.FloatTensor(channels, num_time_steps, 224, 224)\n",
        "\n",
        "        for index in range(0, num_time_steps):\n",
        "            frame = cv2.imread(frames_path[index * EXTRACT_FREQUENCY])\n",
        "            frame = cv2.cvtColor(frame, cv2.COLOR_BGR2RGB)\n",
        "            frame = torch.from_numpy(frame)\n",
        "            frame = frame.permute(2, 0, 1)  # (H x W x C) to (C x H x W)\n",
        "            frame = frame / 255\n",
        "            if frame.shape[2] != 224:\n",
        "                frame = frame[:, :, 80:560]\n",
        "            frame = transform(frame)\n",
        "            frames[:, index, :, :] = frame.float()\n",
        "\n",
        "        return frames.permute(1, 0, 2, 3)\n"
      ],
      "metadata": {
        "id": "eEOPOhYdMKoY"
      },
      "execution_count": 7,
      "outputs": []
    },
    {
      "cell_type": "code",
      "source": [
        "from torch.utils.data import Dataset\n",
        "import pandas as pd\n",
        "import os\n",
        "\n",
        "\n",
        "class VideoDataset(Dataset):\n",
        "\n",
        "    def __init__(self, csv, root, transform=None):\n",
        "\n",
        "        self.dataframe = pd.read_csv(csv)\n",
        "        self.transform = transform\n",
        "        self.root = root\n",
        "\n",
        "    def __len__(self):\n",
        "        return len(self.dataframe)\n",
        "\n",
        "    def __getitem__(self, index):\n",
        "\n",
        "        label = self.dataframe.iloc[index].label\n",
        "        video = os.path.join(self.root, self.dataframe.iloc[index].path)\n",
        "        video = self.transform(video)\n",
        "\n",
        "        return video, label\n"
      ],
      "metadata": {
        "id": "SjJwyUniK3ve"
      },
      "execution_count": 8,
      "outputs": []
    },
    {
      "cell_type": "code",
      "source": [
        "import torchvision\n",
        "from torch.utils.data import DataLoader\n",
        "\n",
        "\n",
        "def generate_dataloader(batch_size, csv, root):\n",
        "    dataset = VideoDataset(csv,\n",
        "                          root,\n",
        "                          transform=torchvision.transforms.Compose([VideoFolderPathToTensor()]))\n",
        "\n",
        "    return DataLoader(dataset,\n",
        "                      batch_size=batch_size,\n",
        "                      shuffle=True,\n",
        "                      num_workers=4)\n",
        "\n"
      ],
      "metadata": {
        "id": "GWFZcgvJMS-q"
      },
      "execution_count": 11,
      "outputs": []
    },
    {
      "cell_type": "code",
      "source": [
        "def get_dataloader(batch_size, csv_train, root_train, csv_test, root_test):\n",
        "    return {\n",
        "        'train': generate_dataloader(batch_size, csv_train, root_train),\n",
        "        'test': generate_dataloader(batch_size, csv_test, root_test)}"
      ],
      "metadata": {
        "id": "CPZvBvY8MUTv"
      },
      "execution_count": 9,
      "outputs": []
    },
    {
      "cell_type": "code",
      "source": [
        "import os\n",
        "from torch.optim.lr_scheduler import StepLR\n",
        "from tqdm import tqdm\n",
        "import torch\n",
        "from torch import nn, optim\n",
        "from sklearn.metrics import confusion_matrix, accuracy_score, roc_auc_score\n",
        "\n",
        "import numpy as np\n",
        "\n",
        "\n",
        "torch.manual_seed(0)\n",
        "num_epochs = 10\n",
        "batch_size = 4\n",
        "lr = .001\n",
        "use_cuda = True\n",
        "device = torch.device(\"cuda\" if use_cuda else \"cpu\")\n",
        "print(\"Device being used:\", device, flush=True)\n",
        "\n",
        "\n",
        "dataloader = get_dataloader(batch_size,\n",
        "                            '/content/Draft_ML_EmotionAPP/pytorch_labels/labels_daisee_train.csv',\n",
        "                            os.path.join(os.getcwd(), '/content/DAiSEE/DAiSEE/DataSet/Data/Train/'),\n",
        "                            '/content/Draft_ML_EmotionAPP/pytorch_labels/labels_daisee_test.csv',\n",
        "                            os.path.join(os.getcwd(), '/content/DAiSEE/DAiSEE/DataSet/Data/Test/'))\n",
        "\n",
        "dataset_sizes = {x: len(dataloader[x].dataset) for x in ['train', 'test']}\n",
        "\n",
        "print(dataset_sizes, flush=True)"
      ],
      "metadata": {
        "colab": {
          "base_uri": "https://localhost:8080/"
        },
        "id": "-Y0HoAyVKEtK",
        "outputId": "99256871-ba82-4fee-85fc-5268d7de9a97"
      },
      "execution_count": 12,
      "outputs": [
        {
          "output_type": "stream",
          "name": "stdout",
          "text": [
            "Device being used: cuda\n",
            "{'train': 5358, 'test': 1784}\n"
          ]
        }
      ]
    },
    {
      "cell_type": "code",
      "source": [
        "import torch.nn as nn\n",
        "from torch.nn.utils import weight_norm"
      ],
      "metadata": {
        "id": "OW6_0anmNCEZ"
      },
      "execution_count": 13,
      "outputs": []
    },
    {
      "cell_type": "code",
      "source": [
        "\n",
        "class Chomp1d(nn.Module):\n",
        "    def __init__(self, chomp_size):\n",
        "        super(Chomp1d, self).__init__()\n",
        "        self.chomp_size = chomp_size\n",
        "\n",
        "    def forward(self, x):\n",
        "        return x[:, :, :-self.chomp_size].contiguous()\n",
        "\n",
        "\n",
        "class TemporalBlock(nn.Module):\n",
        "    def __init__(self, n_inputs, n_outputs, kernel_size, stride, dilation, padding, dropout=0.2):\n",
        "        super(TemporalBlock, self).__init__()\n",
        "        self.conv1 = weight_norm(nn.Conv1d(n_inputs, n_outputs, kernel_size,\n",
        "                                           stride=stride, padding=padding, dilation=dilation))\n",
        "        self.chomp1 = Chomp1d(padding)\n",
        "        self.relu1 = nn.ReLU()\n",
        "        self.dropout1 = nn.Dropout(dropout)\n",
        "\n",
        "        self.conv2 = weight_norm(nn.Conv1d(n_outputs, n_outputs, kernel_size,\n",
        "                                           stride=stride, padding=padding, dilation=dilation))\n",
        "        self.chomp2 = Chomp1d(padding)\n",
        "        self.relu2 = nn.ReLU()\n",
        "        self.dropout2 = nn.Dropout(dropout)\n",
        "\n",
        "        self.net = nn.Sequential(self.conv1, self.chomp1, self.relu1, self.dropout1,\n",
        "                                 self.conv2, self.chomp2, self.relu2, self.dropout2)\n",
        "        self.downsample = nn.Conv1d(n_inputs, n_outputs, 1) if n_inputs != n_outputs else None\n",
        "        self.relu = nn.ReLU()\n",
        "        self.init_weights()\n",
        "\n",
        "    def init_weights(self):\n",
        "        self.conv1.weight.data.normal_(0, 0.01)\n",
        "        self.conv2.weight.data.normal_(0, 0.01)\n",
        "        if self.downsample is not None:\n",
        "            self.downsample.weight.data.normal_(0, 0.01)\n",
        "\n",
        "    def forward(self, x):\n",
        "        out = self.net(x)\n",
        "        res = x if self.downsample is None else self.downsample(x)\n",
        "        return self.relu(out + res)\n",
        "\n",
        "\n",
        "class TemporalConvNet(nn.Module):\n",
        "    def __init__(self, num_inputs, num_channels, kernel_size=2, dropout=0.2):\n",
        "        super(TemporalConvNet, self).__init__()\n",
        "        layers = []\n",
        "        num_levels = len(num_channels)\n",
        "        for i in range(num_levels):\n",
        "            dilation_size = 2 ** i\n",
        "            in_channels = num_inputs if i == 0 else num_channels[i - 1]\n",
        "            out_channels = num_channels[i]\n",
        "            layers += [TemporalBlock(in_channels, out_channels, kernel_size, stride=1, dilation=dilation_size,\n",
        "                                     padding=(kernel_size - 1) * dilation_size, dropout=dropout)]\n",
        "\n",
        "        self.network = nn.Sequential(*layers)\n",
        "\n",
        "    def forward(self, x):\n",
        "        return self.network(x)"
      ],
      "metadata": {
        "id": "mdsGCsywKwpD"
      },
      "execution_count": 14,
      "outputs": []
    },
    {
      "cell_type": "code",
      "source": [
        "class Identity(nn.Module):\n",
        "    def __init__(self):\n",
        "        super(Identity, self).__init__()\n",
        "\n",
        "    def forward(self, x):\n",
        "        return x\n",
        "\n",
        "\n",
        "class ResTCN(nn.Module):\n",
        "    def __init__(self):\n",
        "        super(ResTCN, self).__init__()\n",
        "\n",
        "        self.spatial_feat_dim = 32\n",
        "        self.num_classes = 4\n",
        "        self.nhid = 128\n",
        "        self.levels = 8\n",
        "        self.kernel_size = 7\n",
        "        self.dropout = .1\n",
        "        self.channel_sizes = [self.nhid] * self.levels\n",
        "\n",
        "        self.tcn = TemporalConvNet(\n",
        "            self.spatial_feat_dim,\n",
        "            self.channel_sizes,\n",
        "            kernel_size=self.kernel_size,\n",
        "            dropout=self.dropout)\n",
        "        self.linear = nn.Linear(self.channel_sizes[-1], self.num_classes)\n",
        "\n",
        "        self.model_conv = torchvision.models.resnet18(pretrained=True)\n",
        "        # for param in self.model_conv.parameters():\n",
        "        #     param.requires_grad = False\n",
        "\n",
        "        num_ftrs = self.model_conv.fc.in_features\n",
        "        # self.model_conv.fc = nn.Linear(num_ftrs, 4)\n",
        "        self.model_conv.fc = nn.Linear(num_ftrs, self.spatial_feat_dim)\n",
        "        # self.model_conv.fc = Identity()\n",
        "\n",
        "        # self.rnn = nn.LSTM(self.spatial_feat_dim, 64, 1, batch_first=True)\n",
        "        # self.linear = nn.Linear(64, 4)\n",
        "\n",
        "    def forward(self, data):\n",
        "        # t = 0\n",
        "        # x = data[:, t, :, :, :]\n",
        "        # output = self.model_conv(x)\n",
        "\n",
        "        z = torch.zeros([data.shape[0], data.shape[1], self.spatial_feat_dim]).cuda()\n",
        "        for t in range(data.size(1)):\n",
        "            x = self.model_conv(data[:, t, :, :, :])\n",
        "            z[:, t, :] = x\n",
        "\n",
        "        # y, _ = self.rnn(z)\n",
        "        # output = self.linear(torch.sum(y, dim=1))\n",
        "\n",
        "        z = z.transpose(1, 2)\n",
        "        y = self.tcn(z)\n",
        "        # output = self.linear(y[:, :, -1])\n",
        "        output = self.linear(torch.sum(y, dim=2))\n",
        "\n",
        "        return output"
      ],
      "metadata": {
        "id": "qNxkDGCRKtN6"
      },
      "execution_count": 15,
      "outputs": []
    },
    {
      "cell_type": "code",
      "source": [
        "def Build_ResTCN():\n",
        "      model = ResTCN().to(device)\n",
        "      # optimizer = optim.Adam(model.parameters(), lr=lr)\n",
        "      optimizer = optim.SGD(model.parameters(), lr=lr, momentum=0.9)\n",
        "      scheduler = StepLR(optimizer, step_size=50, gamma=.1)\n",
        "\n",
        "      criterion = nn.CrossEntropyLoss().to(device)\n",
        "      softmax = nn.Softmax()\n",
        "\n",
        "      for epoch in range(num_epochs):\n",
        "\n",
        "          for phase in ['train', 'test']:\n",
        "\n",
        "              running_loss = .0\n",
        "              y_trues = np.empty([0])\n",
        "              y_preds = np.empty([0])\n",
        "\n",
        "              if phase == 'train':\n",
        "                  model.train()\n",
        "              else:\n",
        "                  model.eval()\n",
        "\n",
        "              for inputs, labels in tqdm(dataloader[phase], disable=True):\n",
        "                  inputs = inputs.to(device)\n",
        "                  labels = labels.long().squeeze().to(device)\n",
        "\n",
        "                  with torch.set_grad_enabled(phase == 'train'):\n",
        "                      outputs = model(inputs).squeeze()\n",
        "                      loss = criterion(outputs, labels)\n",
        "\n",
        "                      if phase == 'train':\n",
        "                          optimizer.zero_grad()\n",
        "                          loss.backward()\n",
        "                          optimizer.step()\n",
        "\n",
        "                  running_loss += loss.item() * inputs.size(0)\n",
        "                  preds = torch.max(softmax(outputs), 1)[1]\n",
        "                  y_trues = np.append(y_trues, labels.data.cpu().numpy())\n",
        "                  y_preds = np.append(y_preds, preds.cpu())\n",
        "\n",
        "              # if phase == 'train':\n",
        "              #     scheduler.step()\n",
        "\n",
        "              epoch_loss = running_loss / dataset_sizes[phase]\n",
        "\n",
        "              print(\"[{}] Epoch: {}/{} Loss: {} LR: {}\".format(\n",
        "                  phase, epoch + 1, num_epochs, epoch_loss, scheduler.get_last_lr()), flush=True)\n",
        "              print('\\naccuracy\\t' + str(accuracy_score(y_trues, y_preds)))\n",
        "      print('\\nconfusion matrix\\n' + str(confusion_matrix(y_trues, y_preds)))\n",
        "      return model\n"
      ],
      "metadata": {
        "id": "NmACzdCDKICb"
      },
      "execution_count": 16,
      "outputs": []
    },
    {
      "cell_type": "code",
      "source": [
        "model = Build_ResTCN()"
      ],
      "metadata": {
        "colab": {
          "base_uri": "https://localhost:8080/",
          "height": 744,
          "referenced_widgets": [
            "c6d697ba499c4a9b86aa6ee3ab6bbe58",
            "631e371e78aa4d2d8317c0768d865f38",
            "b64a90a614294826ab7541c9cb3fa707",
            "4d763d873568493e9cdcfe31e8a4619c",
            "22eaefbfe99b46679268ca1edb1ff81c",
            "e53e386f9bb842549b7978a3e46f01c3",
            "acbd08f1f6f0401a881b26d5cb948f3f",
            "48f00801d75940c083731da1fc9d2da7",
            "705154ecabe942818cd030099915745b",
            "4800a6a398d84150944b409a1fe074a0",
            "a38fe77f9a164c0d9145fc078e515014"
          ]
        },
        "id": "1V6nxwHxKR0O",
        "outputId": "a3656aa4-0c60-42f0-9584-a796d9a63a77"
      },
      "execution_count": 17,
      "outputs": [
        {
          "output_type": "stream",
          "name": "stderr",
          "text": [
            "Downloading: \"https://download.pytorch.org/models/resnet18-f37072fd.pth\" to /root/.cache/torch/hub/checkpoints/resnet18-f37072fd.pth\n"
          ]
        },
        {
          "output_type": "display_data",
          "data": {
            "application/vnd.jupyter.widget-view+json": {
              "model_id": "c6d697ba499c4a9b86aa6ee3ab6bbe58",
              "version_minor": 0,
              "version_major": 2
            },
            "text/plain": [
              "  0%|          | 0.00/44.7M [00:00<?, ?B/s]"
            ]
          },
          "metadata": {}
        },
        {
          "output_type": "stream",
          "name": "stderr",
          "text": [
            "/usr/local/lib/python3.7/dist-packages/ipykernel_launcher.py:37: UserWarning: Implicit dimension choice for softmax has been deprecated. Change the call to include dim=X as an argument.\n"
          ]
        },
        {
          "output_type": "stream",
          "name": "stdout",
          "text": [
            "[train] Epoch: 1/10 Loss: 0.8932161487808598 LR: [0.001]\n",
            "\n",
            "accuracy\t0.5078387458006719\n"
          ]
        },
        {
          "output_type": "stream",
          "name": "stderr",
          "text": [
            "/usr/local/lib/python3.7/dist-packages/ipykernel_launcher.py:37: UserWarning: Implicit dimension choice for softmax has been deprecated. Change the call to include dim=X as an argument.\n"
          ]
        },
        {
          "output_type": "stream",
          "name": "stdout",
          "text": [
            "[test] Epoch: 1/10 Loss: 0.8814121304338823 LR: [0.001]\n",
            "\n",
            "accuracy\t0.5056053811659192\n"
          ]
        },
        {
          "output_type": "stream",
          "name": "stderr",
          "text": [
            "/usr/local/lib/python3.7/dist-packages/ipykernel_launcher.py:37: UserWarning: Implicit dimension choice for softmax has been deprecated. Change the call to include dim=X as an argument.\n"
          ]
        },
        {
          "output_type": "stream",
          "name": "stdout",
          "text": [
            "[train] Epoch: 2/10 Loss: 0.8586369319921467 LR: [0.001]\n",
            "\n",
            "accuracy\t0.5393803658081374\n"
          ]
        },
        {
          "output_type": "stream",
          "name": "stderr",
          "text": [
            "/usr/local/lib/python3.7/dist-packages/ipykernel_launcher.py:37: UserWarning: Implicit dimension choice for softmax has been deprecated. Change the call to include dim=X as an argument.\n"
          ]
        },
        {
          "output_type": "stream",
          "name": "stdout",
          "text": [
            "[test] Epoch: 2/10 Loss: 0.8657680260760902 LR: [0.001]\n",
            "\n",
            "accuracy\t0.4562780269058296\n"
          ]
        },
        {
          "output_type": "stream",
          "name": "stderr",
          "text": [
            "/usr/local/lib/python3.7/dist-packages/ipykernel_launcher.py:37: UserWarning: Implicit dimension choice for softmax has been deprecated. Change the call to include dim=X as an argument.\n"
          ]
        },
        {
          "output_type": "stream",
          "name": "stdout",
          "text": [
            "[train] Epoch: 3/10 Loss: 0.8495992781645151 LR: [0.001]\n",
            "\n",
            "accuracy\t0.5636431504292646\n"
          ]
        },
        {
          "output_type": "stream",
          "name": "stderr",
          "text": [
            "/usr/local/lib/python3.7/dist-packages/ipykernel_launcher.py:37: UserWarning: Implicit dimension choice for softmax has been deprecated. Change the call to include dim=X as an argument.\n"
          ]
        },
        {
          "output_type": "error",
          "ename": "KeyboardInterrupt",
          "evalue": "ignored",
          "traceback": [
            "\u001b[0;31m---------------------------------------------------------------------------\u001b[0m",
            "\u001b[0;31mKeyboardInterrupt\u001b[0m                         Traceback (most recent call last)",
            "\u001b[0;32m<ipython-input-17-a81f83edef5f>\u001b[0m in \u001b[0;36m<module>\u001b[0;34m()\u001b[0m\n\u001b[0;32m----> 1\u001b[0;31m \u001b[0mmodel\u001b[0m \u001b[0;34m=\u001b[0m \u001b[0mBuild_ResTCN\u001b[0m\u001b[0;34m(\u001b[0m\u001b[0;34m)\u001b[0m\u001b[0;34m\u001b[0m\u001b[0;34m\u001b[0m\u001b[0m\n\u001b[0m",
            "\u001b[0;32m<ipython-input-16-5222387e32da>\u001b[0m in \u001b[0;36mBuild_ResTCN\u001b[0;34m()\u001b[0m\n\u001b[1;32m     26\u001b[0m \u001b[0;34m\u001b[0m\u001b[0m\n\u001b[1;32m     27\u001b[0m                   \u001b[0;32mwith\u001b[0m \u001b[0mtorch\u001b[0m\u001b[0;34m.\u001b[0m\u001b[0mset_grad_enabled\u001b[0m\u001b[0;34m(\u001b[0m\u001b[0mphase\u001b[0m \u001b[0;34m==\u001b[0m \u001b[0;34m'train'\u001b[0m\u001b[0;34m)\u001b[0m\u001b[0;34m:\u001b[0m\u001b[0;34m\u001b[0m\u001b[0;34m\u001b[0m\u001b[0m\n\u001b[0;32m---> 28\u001b[0;31m                       \u001b[0moutputs\u001b[0m \u001b[0;34m=\u001b[0m \u001b[0mmodel\u001b[0m\u001b[0;34m(\u001b[0m\u001b[0minputs\u001b[0m\u001b[0;34m)\u001b[0m\u001b[0;34m.\u001b[0m\u001b[0msqueeze\u001b[0m\u001b[0;34m(\u001b[0m\u001b[0;34m)\u001b[0m\u001b[0;34m\u001b[0m\u001b[0;34m\u001b[0m\u001b[0m\n\u001b[0m\u001b[1;32m     29\u001b[0m                       \u001b[0mloss\u001b[0m \u001b[0;34m=\u001b[0m \u001b[0mcriterion\u001b[0m\u001b[0;34m(\u001b[0m\u001b[0moutputs\u001b[0m\u001b[0;34m,\u001b[0m \u001b[0mlabels\u001b[0m\u001b[0;34m)\u001b[0m\u001b[0;34m\u001b[0m\u001b[0;34m\u001b[0m\u001b[0m\n\u001b[1;32m     30\u001b[0m \u001b[0;34m\u001b[0m\u001b[0m\n",
            "\u001b[0;32m/usr/local/lib/python3.7/dist-packages/torch/nn/modules/module.py\u001b[0m in \u001b[0;36m_call_impl\u001b[0;34m(self, *input, **kwargs)\u001b[0m\n\u001b[1;32m   1100\u001b[0m         if not (self._backward_hooks or self._forward_hooks or self._forward_pre_hooks or _global_backward_hooks\n\u001b[1;32m   1101\u001b[0m                 or _global_forward_hooks or _global_forward_pre_hooks):\n\u001b[0;32m-> 1102\u001b[0;31m             \u001b[0;32mreturn\u001b[0m \u001b[0mforward_call\u001b[0m\u001b[0;34m(\u001b[0m\u001b[0;34m*\u001b[0m\u001b[0minput\u001b[0m\u001b[0;34m,\u001b[0m \u001b[0;34m**\u001b[0m\u001b[0mkwargs\u001b[0m\u001b[0;34m)\u001b[0m\u001b[0;34m\u001b[0m\u001b[0;34m\u001b[0m\u001b[0m\n\u001b[0m\u001b[1;32m   1103\u001b[0m         \u001b[0;31m# Do not call functions when jit is used\u001b[0m\u001b[0;34m\u001b[0m\u001b[0;34m\u001b[0m\u001b[0;34m\u001b[0m\u001b[0m\n\u001b[1;32m   1104\u001b[0m         \u001b[0mfull_backward_hooks\u001b[0m\u001b[0;34m,\u001b[0m \u001b[0mnon_full_backward_hooks\u001b[0m \u001b[0;34m=\u001b[0m \u001b[0;34m[\u001b[0m\u001b[0;34m]\u001b[0m\u001b[0;34m,\u001b[0m \u001b[0;34m[\u001b[0m\u001b[0;34m]\u001b[0m\u001b[0;34m\u001b[0m\u001b[0;34m\u001b[0m\u001b[0m\n",
            "\u001b[0;32m<ipython-input-15-2c0472e3f21c>\u001b[0m in \u001b[0;36mforward\u001b[0;34m(self, data)\u001b[0m\n\u001b[1;32m     45\u001b[0m         \u001b[0mz\u001b[0m \u001b[0;34m=\u001b[0m \u001b[0mtorch\u001b[0m\u001b[0;34m.\u001b[0m\u001b[0mzeros\u001b[0m\u001b[0;34m(\u001b[0m\u001b[0;34m[\u001b[0m\u001b[0mdata\u001b[0m\u001b[0;34m.\u001b[0m\u001b[0mshape\u001b[0m\u001b[0;34m[\u001b[0m\u001b[0;36m0\u001b[0m\u001b[0;34m]\u001b[0m\u001b[0;34m,\u001b[0m \u001b[0mdata\u001b[0m\u001b[0;34m.\u001b[0m\u001b[0mshape\u001b[0m\u001b[0;34m[\u001b[0m\u001b[0;36m1\u001b[0m\u001b[0;34m]\u001b[0m\u001b[0;34m,\u001b[0m \u001b[0mself\u001b[0m\u001b[0;34m.\u001b[0m\u001b[0mspatial_feat_dim\u001b[0m\u001b[0;34m]\u001b[0m\u001b[0;34m)\u001b[0m\u001b[0;34m.\u001b[0m\u001b[0mcuda\u001b[0m\u001b[0;34m(\u001b[0m\u001b[0;34m)\u001b[0m\u001b[0;34m\u001b[0m\u001b[0;34m\u001b[0m\u001b[0m\n\u001b[1;32m     46\u001b[0m         \u001b[0;32mfor\u001b[0m \u001b[0mt\u001b[0m \u001b[0;32min\u001b[0m \u001b[0mrange\u001b[0m\u001b[0;34m(\u001b[0m\u001b[0mdata\u001b[0m\u001b[0;34m.\u001b[0m\u001b[0msize\u001b[0m\u001b[0;34m(\u001b[0m\u001b[0;36m1\u001b[0m\u001b[0;34m)\u001b[0m\u001b[0;34m)\u001b[0m\u001b[0;34m:\u001b[0m\u001b[0;34m\u001b[0m\u001b[0;34m\u001b[0m\u001b[0m\n\u001b[0;32m---> 47\u001b[0;31m             \u001b[0mx\u001b[0m \u001b[0;34m=\u001b[0m \u001b[0mself\u001b[0m\u001b[0;34m.\u001b[0m\u001b[0mmodel_conv\u001b[0m\u001b[0;34m(\u001b[0m\u001b[0mdata\u001b[0m\u001b[0;34m[\u001b[0m\u001b[0;34m:\u001b[0m\u001b[0;34m,\u001b[0m \u001b[0mt\u001b[0m\u001b[0;34m,\u001b[0m \u001b[0;34m:\u001b[0m\u001b[0;34m,\u001b[0m \u001b[0;34m:\u001b[0m\u001b[0;34m,\u001b[0m \u001b[0;34m:\u001b[0m\u001b[0;34m]\u001b[0m\u001b[0;34m)\u001b[0m\u001b[0;34m\u001b[0m\u001b[0;34m\u001b[0m\u001b[0m\n\u001b[0m\u001b[1;32m     48\u001b[0m             \u001b[0mz\u001b[0m\u001b[0;34m[\u001b[0m\u001b[0;34m:\u001b[0m\u001b[0;34m,\u001b[0m \u001b[0mt\u001b[0m\u001b[0;34m,\u001b[0m \u001b[0;34m:\u001b[0m\u001b[0;34m]\u001b[0m \u001b[0;34m=\u001b[0m \u001b[0mx\u001b[0m\u001b[0;34m\u001b[0m\u001b[0;34m\u001b[0m\u001b[0m\n\u001b[1;32m     49\u001b[0m \u001b[0;34m\u001b[0m\u001b[0m\n",
            "\u001b[0;32m/usr/local/lib/python3.7/dist-packages/torch/nn/modules/module.py\u001b[0m in \u001b[0;36m_call_impl\u001b[0;34m(self, *input, **kwargs)\u001b[0m\n\u001b[1;32m   1100\u001b[0m         if not (self._backward_hooks or self._forward_hooks or self._forward_pre_hooks or _global_backward_hooks\n\u001b[1;32m   1101\u001b[0m                 or _global_forward_hooks or _global_forward_pre_hooks):\n\u001b[0;32m-> 1102\u001b[0;31m             \u001b[0;32mreturn\u001b[0m \u001b[0mforward_call\u001b[0m\u001b[0;34m(\u001b[0m\u001b[0;34m*\u001b[0m\u001b[0minput\u001b[0m\u001b[0;34m,\u001b[0m \u001b[0;34m**\u001b[0m\u001b[0mkwargs\u001b[0m\u001b[0;34m)\u001b[0m\u001b[0;34m\u001b[0m\u001b[0;34m\u001b[0m\u001b[0m\n\u001b[0m\u001b[1;32m   1103\u001b[0m         \u001b[0;31m# Do not call functions when jit is used\u001b[0m\u001b[0;34m\u001b[0m\u001b[0;34m\u001b[0m\u001b[0;34m\u001b[0m\u001b[0m\n\u001b[1;32m   1104\u001b[0m         \u001b[0mfull_backward_hooks\u001b[0m\u001b[0;34m,\u001b[0m \u001b[0mnon_full_backward_hooks\u001b[0m \u001b[0;34m=\u001b[0m \u001b[0;34m[\u001b[0m\u001b[0;34m]\u001b[0m\u001b[0;34m,\u001b[0m \u001b[0;34m[\u001b[0m\u001b[0;34m]\u001b[0m\u001b[0;34m\u001b[0m\u001b[0;34m\u001b[0m\u001b[0m\n",
            "\u001b[0;32m/usr/local/lib/python3.7/dist-packages/torchvision/models/resnet.py\u001b[0m in \u001b[0;36mforward\u001b[0;34m(self, x)\u001b[0m\n\u001b[1;32m    247\u001b[0m \u001b[0;34m\u001b[0m\u001b[0m\n\u001b[1;32m    248\u001b[0m     \u001b[0;32mdef\u001b[0m \u001b[0mforward\u001b[0m\u001b[0;34m(\u001b[0m\u001b[0mself\u001b[0m\u001b[0;34m,\u001b[0m \u001b[0mx\u001b[0m\u001b[0;34m:\u001b[0m \u001b[0mTensor\u001b[0m\u001b[0;34m)\u001b[0m \u001b[0;34m->\u001b[0m \u001b[0mTensor\u001b[0m\u001b[0;34m:\u001b[0m\u001b[0;34m\u001b[0m\u001b[0;34m\u001b[0m\u001b[0m\n\u001b[0;32m--> 249\u001b[0;31m         \u001b[0;32mreturn\u001b[0m \u001b[0mself\u001b[0m\u001b[0;34m.\u001b[0m\u001b[0m_forward_impl\u001b[0m\u001b[0;34m(\u001b[0m\u001b[0mx\u001b[0m\u001b[0;34m)\u001b[0m\u001b[0;34m\u001b[0m\u001b[0;34m\u001b[0m\u001b[0m\n\u001b[0m\u001b[1;32m    250\u001b[0m \u001b[0;34m\u001b[0m\u001b[0m\n\u001b[1;32m    251\u001b[0m \u001b[0;34m\u001b[0m\u001b[0m\n",
            "\u001b[0;32m/usr/local/lib/python3.7/dist-packages/torchvision/models/resnet.py\u001b[0m in \u001b[0;36m_forward_impl\u001b[0;34m(self, x)\u001b[0m\n\u001b[1;32m    238\u001b[0m         \u001b[0mx\u001b[0m \u001b[0;34m=\u001b[0m \u001b[0mself\u001b[0m\u001b[0;34m.\u001b[0m\u001b[0mlayer2\u001b[0m\u001b[0;34m(\u001b[0m\u001b[0mx\u001b[0m\u001b[0;34m)\u001b[0m\u001b[0;34m\u001b[0m\u001b[0;34m\u001b[0m\u001b[0m\n\u001b[1;32m    239\u001b[0m         \u001b[0mx\u001b[0m \u001b[0;34m=\u001b[0m \u001b[0mself\u001b[0m\u001b[0;34m.\u001b[0m\u001b[0mlayer3\u001b[0m\u001b[0;34m(\u001b[0m\u001b[0mx\u001b[0m\u001b[0;34m)\u001b[0m\u001b[0;34m\u001b[0m\u001b[0;34m\u001b[0m\u001b[0m\n\u001b[0;32m--> 240\u001b[0;31m         \u001b[0mx\u001b[0m \u001b[0;34m=\u001b[0m \u001b[0mself\u001b[0m\u001b[0;34m.\u001b[0m\u001b[0mlayer4\u001b[0m\u001b[0;34m(\u001b[0m\u001b[0mx\u001b[0m\u001b[0;34m)\u001b[0m\u001b[0;34m\u001b[0m\u001b[0;34m\u001b[0m\u001b[0m\n\u001b[0m\u001b[1;32m    241\u001b[0m \u001b[0;34m\u001b[0m\u001b[0m\n\u001b[1;32m    242\u001b[0m         \u001b[0mx\u001b[0m \u001b[0;34m=\u001b[0m \u001b[0mself\u001b[0m\u001b[0;34m.\u001b[0m\u001b[0mavgpool\u001b[0m\u001b[0;34m(\u001b[0m\u001b[0mx\u001b[0m\u001b[0;34m)\u001b[0m\u001b[0;34m\u001b[0m\u001b[0;34m\u001b[0m\u001b[0m\n",
            "\u001b[0;32m/usr/local/lib/python3.7/dist-packages/torch/nn/modules/module.py\u001b[0m in \u001b[0;36m_call_impl\u001b[0;34m(self, *input, **kwargs)\u001b[0m\n\u001b[1;32m   1100\u001b[0m         if not (self._backward_hooks or self._forward_hooks or self._forward_pre_hooks or _global_backward_hooks\n\u001b[1;32m   1101\u001b[0m                 or _global_forward_hooks or _global_forward_pre_hooks):\n\u001b[0;32m-> 1102\u001b[0;31m             \u001b[0;32mreturn\u001b[0m \u001b[0mforward_call\u001b[0m\u001b[0;34m(\u001b[0m\u001b[0;34m*\u001b[0m\u001b[0minput\u001b[0m\u001b[0;34m,\u001b[0m \u001b[0;34m**\u001b[0m\u001b[0mkwargs\u001b[0m\u001b[0;34m)\u001b[0m\u001b[0;34m\u001b[0m\u001b[0;34m\u001b[0m\u001b[0m\n\u001b[0m\u001b[1;32m   1103\u001b[0m         \u001b[0;31m# Do not call functions when jit is used\u001b[0m\u001b[0;34m\u001b[0m\u001b[0;34m\u001b[0m\u001b[0;34m\u001b[0m\u001b[0m\n\u001b[1;32m   1104\u001b[0m         \u001b[0mfull_backward_hooks\u001b[0m\u001b[0;34m,\u001b[0m \u001b[0mnon_full_backward_hooks\u001b[0m \u001b[0;34m=\u001b[0m \u001b[0;34m[\u001b[0m\u001b[0;34m]\u001b[0m\u001b[0;34m,\u001b[0m \u001b[0;34m[\u001b[0m\u001b[0;34m]\u001b[0m\u001b[0;34m\u001b[0m\u001b[0;34m\u001b[0m\u001b[0m\n",
            "\u001b[0;32m/usr/local/lib/python3.7/dist-packages/torch/nn/modules/container.py\u001b[0m in \u001b[0;36mforward\u001b[0;34m(self, input)\u001b[0m\n\u001b[1;32m    139\u001b[0m     \u001b[0;32mdef\u001b[0m \u001b[0mforward\u001b[0m\u001b[0;34m(\u001b[0m\u001b[0mself\u001b[0m\u001b[0;34m,\u001b[0m \u001b[0minput\u001b[0m\u001b[0;34m)\u001b[0m\u001b[0;34m:\u001b[0m\u001b[0;34m\u001b[0m\u001b[0;34m\u001b[0m\u001b[0m\n\u001b[1;32m    140\u001b[0m         \u001b[0;32mfor\u001b[0m \u001b[0mmodule\u001b[0m \u001b[0;32min\u001b[0m \u001b[0mself\u001b[0m\u001b[0;34m:\u001b[0m\u001b[0;34m\u001b[0m\u001b[0;34m\u001b[0m\u001b[0m\n\u001b[0;32m--> 141\u001b[0;31m             \u001b[0minput\u001b[0m \u001b[0;34m=\u001b[0m \u001b[0mmodule\u001b[0m\u001b[0;34m(\u001b[0m\u001b[0minput\u001b[0m\u001b[0;34m)\u001b[0m\u001b[0;34m\u001b[0m\u001b[0;34m\u001b[0m\u001b[0m\n\u001b[0m\u001b[1;32m    142\u001b[0m         \u001b[0;32mreturn\u001b[0m \u001b[0minput\u001b[0m\u001b[0;34m\u001b[0m\u001b[0;34m\u001b[0m\u001b[0m\n\u001b[1;32m    143\u001b[0m \u001b[0;34m\u001b[0m\u001b[0m\n",
            "\u001b[0;32m/usr/local/lib/python3.7/dist-packages/torch/nn/modules/module.py\u001b[0m in \u001b[0;36m_call_impl\u001b[0;34m(self, *input, **kwargs)\u001b[0m\n\u001b[1;32m   1100\u001b[0m         if not (self._backward_hooks or self._forward_hooks or self._forward_pre_hooks or _global_backward_hooks\n\u001b[1;32m   1101\u001b[0m                 or _global_forward_hooks or _global_forward_pre_hooks):\n\u001b[0;32m-> 1102\u001b[0;31m             \u001b[0;32mreturn\u001b[0m \u001b[0mforward_call\u001b[0m\u001b[0;34m(\u001b[0m\u001b[0;34m*\u001b[0m\u001b[0minput\u001b[0m\u001b[0;34m,\u001b[0m \u001b[0;34m**\u001b[0m\u001b[0mkwargs\u001b[0m\u001b[0;34m)\u001b[0m\u001b[0;34m\u001b[0m\u001b[0;34m\u001b[0m\u001b[0m\n\u001b[0m\u001b[1;32m   1103\u001b[0m         \u001b[0;31m# Do not call functions when jit is used\u001b[0m\u001b[0;34m\u001b[0m\u001b[0;34m\u001b[0m\u001b[0;34m\u001b[0m\u001b[0m\n\u001b[1;32m   1104\u001b[0m         \u001b[0mfull_backward_hooks\u001b[0m\u001b[0;34m,\u001b[0m \u001b[0mnon_full_backward_hooks\u001b[0m \u001b[0;34m=\u001b[0m \u001b[0;34m[\u001b[0m\u001b[0;34m]\u001b[0m\u001b[0;34m,\u001b[0m \u001b[0;34m[\u001b[0m\u001b[0;34m]\u001b[0m\u001b[0;34m\u001b[0m\u001b[0;34m\u001b[0m\u001b[0m\n",
            "\u001b[0;32m/usr/local/lib/python3.7/dist-packages/torchvision/models/resnet.py\u001b[0m in \u001b[0;36mforward\u001b[0;34m(self, x)\u001b[0m\n\u001b[1;32m     68\u001b[0m         \u001b[0midentity\u001b[0m \u001b[0;34m=\u001b[0m \u001b[0mx\u001b[0m\u001b[0;34m\u001b[0m\u001b[0;34m\u001b[0m\u001b[0m\n\u001b[1;32m     69\u001b[0m \u001b[0;34m\u001b[0m\u001b[0m\n\u001b[0;32m---> 70\u001b[0;31m         \u001b[0mout\u001b[0m \u001b[0;34m=\u001b[0m \u001b[0mself\u001b[0m\u001b[0;34m.\u001b[0m\u001b[0mconv1\u001b[0m\u001b[0;34m(\u001b[0m\u001b[0mx\u001b[0m\u001b[0;34m)\u001b[0m\u001b[0;34m\u001b[0m\u001b[0;34m\u001b[0m\u001b[0m\n\u001b[0m\u001b[1;32m     71\u001b[0m         \u001b[0mout\u001b[0m \u001b[0;34m=\u001b[0m \u001b[0mself\u001b[0m\u001b[0;34m.\u001b[0m\u001b[0mbn1\u001b[0m\u001b[0;34m(\u001b[0m\u001b[0mout\u001b[0m\u001b[0;34m)\u001b[0m\u001b[0;34m\u001b[0m\u001b[0;34m\u001b[0m\u001b[0m\n\u001b[1;32m     72\u001b[0m         \u001b[0mout\u001b[0m \u001b[0;34m=\u001b[0m \u001b[0mself\u001b[0m\u001b[0;34m.\u001b[0m\u001b[0mrelu\u001b[0m\u001b[0;34m(\u001b[0m\u001b[0mout\u001b[0m\u001b[0;34m)\u001b[0m\u001b[0;34m\u001b[0m\u001b[0;34m\u001b[0m\u001b[0m\n",
            "\u001b[0;32m/usr/local/lib/python3.7/dist-packages/torch/nn/modules/module.py\u001b[0m in \u001b[0;36m_call_impl\u001b[0;34m(self, *input, **kwargs)\u001b[0m\n\u001b[1;32m   1100\u001b[0m         if not (self._backward_hooks or self._forward_hooks or self._forward_pre_hooks or _global_backward_hooks\n\u001b[1;32m   1101\u001b[0m                 or _global_forward_hooks or _global_forward_pre_hooks):\n\u001b[0;32m-> 1102\u001b[0;31m             \u001b[0;32mreturn\u001b[0m \u001b[0mforward_call\u001b[0m\u001b[0;34m(\u001b[0m\u001b[0;34m*\u001b[0m\u001b[0minput\u001b[0m\u001b[0;34m,\u001b[0m \u001b[0;34m**\u001b[0m\u001b[0mkwargs\u001b[0m\u001b[0;34m)\u001b[0m\u001b[0;34m\u001b[0m\u001b[0;34m\u001b[0m\u001b[0m\n\u001b[0m\u001b[1;32m   1103\u001b[0m         \u001b[0;31m# Do not call functions when jit is used\u001b[0m\u001b[0;34m\u001b[0m\u001b[0;34m\u001b[0m\u001b[0;34m\u001b[0m\u001b[0m\n\u001b[1;32m   1104\u001b[0m         \u001b[0mfull_backward_hooks\u001b[0m\u001b[0;34m,\u001b[0m \u001b[0mnon_full_backward_hooks\u001b[0m \u001b[0;34m=\u001b[0m \u001b[0;34m[\u001b[0m\u001b[0;34m]\u001b[0m\u001b[0;34m,\u001b[0m \u001b[0;34m[\u001b[0m\u001b[0;34m]\u001b[0m\u001b[0;34m\u001b[0m\u001b[0;34m\u001b[0m\u001b[0m\n",
            "\u001b[0;32m/usr/local/lib/python3.7/dist-packages/torch/nn/modules/conv.py\u001b[0m in \u001b[0;36mforward\u001b[0;34m(self, input)\u001b[0m\n\u001b[1;32m    444\u001b[0m \u001b[0;34m\u001b[0m\u001b[0m\n\u001b[1;32m    445\u001b[0m     \u001b[0;32mdef\u001b[0m \u001b[0mforward\u001b[0m\u001b[0;34m(\u001b[0m\u001b[0mself\u001b[0m\u001b[0;34m,\u001b[0m \u001b[0minput\u001b[0m\u001b[0;34m:\u001b[0m \u001b[0mTensor\u001b[0m\u001b[0;34m)\u001b[0m \u001b[0;34m->\u001b[0m \u001b[0mTensor\u001b[0m\u001b[0;34m:\u001b[0m\u001b[0;34m\u001b[0m\u001b[0;34m\u001b[0m\u001b[0m\n\u001b[0;32m--> 446\u001b[0;31m         \u001b[0;32mreturn\u001b[0m \u001b[0mself\u001b[0m\u001b[0;34m.\u001b[0m\u001b[0m_conv_forward\u001b[0m\u001b[0;34m(\u001b[0m\u001b[0minput\u001b[0m\u001b[0;34m,\u001b[0m \u001b[0mself\u001b[0m\u001b[0;34m.\u001b[0m\u001b[0mweight\u001b[0m\u001b[0;34m,\u001b[0m \u001b[0mself\u001b[0m\u001b[0;34m.\u001b[0m\u001b[0mbias\u001b[0m\u001b[0;34m)\u001b[0m\u001b[0;34m\u001b[0m\u001b[0;34m\u001b[0m\u001b[0m\n\u001b[0m\u001b[1;32m    447\u001b[0m \u001b[0;34m\u001b[0m\u001b[0m\n\u001b[1;32m    448\u001b[0m \u001b[0;32mclass\u001b[0m \u001b[0mConv3d\u001b[0m\u001b[0;34m(\u001b[0m\u001b[0m_ConvNd\u001b[0m\u001b[0;34m)\u001b[0m\u001b[0;34m:\u001b[0m\u001b[0;34m\u001b[0m\u001b[0;34m\u001b[0m\u001b[0m\n",
            "\u001b[0;32m/usr/local/lib/python3.7/dist-packages/torch/nn/modules/conv.py\u001b[0m in \u001b[0;36m_conv_forward\u001b[0;34m(self, input, weight, bias)\u001b[0m\n\u001b[1;32m    441\u001b[0m                             _pair(0), self.dilation, self.groups)\n\u001b[1;32m    442\u001b[0m         return F.conv2d(input, weight, bias, self.stride,\n\u001b[0;32m--> 443\u001b[0;31m                         self.padding, self.dilation, self.groups)\n\u001b[0m\u001b[1;32m    444\u001b[0m \u001b[0;34m\u001b[0m\u001b[0m\n\u001b[1;32m    445\u001b[0m     \u001b[0;32mdef\u001b[0m \u001b[0mforward\u001b[0m\u001b[0;34m(\u001b[0m\u001b[0mself\u001b[0m\u001b[0;34m,\u001b[0m \u001b[0minput\u001b[0m\u001b[0;34m:\u001b[0m \u001b[0mTensor\u001b[0m\u001b[0;34m)\u001b[0m \u001b[0;34m->\u001b[0m \u001b[0mTensor\u001b[0m\u001b[0;34m:\u001b[0m\u001b[0;34m\u001b[0m\u001b[0;34m\u001b[0m\u001b[0m\n",
            "\u001b[0;31mKeyboardInterrupt\u001b[0m: "
          ]
        }
      ]
    },
    {
      "cell_type": "markdown",
      "source": [
        "## Test Predictions Pytorch RESTCN"
      ],
      "metadata": {
        "id": "cMs2TiR4OY7Q"
      }
    },
    {
      "cell_type": "code",
      "source": [
        ""
      ],
      "metadata": {
        "id": "XSv4N9Ka-Xs9"
      },
      "execution_count": null,
      "outputs": []
    }
  ],
  "metadata": {
    "accelerator": "GPU",
    "colab": {
      "machine_shape": "hm",
      "name": "testing_daisee.ipynb",
      "provenance": [],
      "collapsed_sections": [],
      "authorship_tag": "ABX9TyONgVIWc5cMgpSW27Aoy3Rc",
      "include_colab_link": true
    },
    "kernelspec": {
      "display_name": "Python 3",
      "name": "python3"
    },
    "language_info": {
      "name": "python"
    },
    "widgets": {
      "application/vnd.jupyter.widget-state+json": {
        "c6d697ba499c4a9b86aa6ee3ab6bbe58": {
          "model_module": "@jupyter-widgets/controls",
          "model_name": "HBoxModel",
          "model_module_version": "1.5.0",
          "state": {
            "_view_name": "HBoxView",
            "_dom_classes": [],
            "_model_name": "HBoxModel",
            "_view_module": "@jupyter-widgets/controls",
            "_model_module_version": "1.5.0",
            "_view_count": null,
            "_view_module_version": "1.5.0",
            "box_style": "",
            "layout": "IPY_MODEL_631e371e78aa4d2d8317c0768d865f38",
            "_model_module": "@jupyter-widgets/controls",
            "children": [
              "IPY_MODEL_b64a90a614294826ab7541c9cb3fa707",
              "IPY_MODEL_4d763d873568493e9cdcfe31e8a4619c",
              "IPY_MODEL_22eaefbfe99b46679268ca1edb1ff81c"
            ]
          }
        },
        "631e371e78aa4d2d8317c0768d865f38": {
          "model_module": "@jupyter-widgets/base",
          "model_name": "LayoutModel",
          "model_module_version": "1.2.0",
          "state": {
            "_view_name": "LayoutView",
            "grid_template_rows": null,
            "right": null,
            "justify_content": null,
            "_view_module": "@jupyter-widgets/base",
            "overflow": null,
            "_model_module_version": "1.2.0",
            "_view_count": null,
            "flex_flow": null,
            "width": null,
            "min_width": null,
            "border": null,
            "align_items": null,
            "bottom": null,
            "_model_module": "@jupyter-widgets/base",
            "top": null,
            "grid_column": null,
            "overflow_y": null,
            "overflow_x": null,
            "grid_auto_flow": null,
            "grid_area": null,
            "grid_template_columns": null,
            "flex": null,
            "_model_name": "LayoutModel",
            "justify_items": null,
            "grid_row": null,
            "max_height": null,
            "align_content": null,
            "visibility": null,
            "align_self": null,
            "height": null,
            "min_height": null,
            "padding": null,
            "grid_auto_rows": null,
            "grid_gap": null,
            "max_width": null,
            "order": null,
            "_view_module_version": "1.2.0",
            "grid_template_areas": null,
            "object_position": null,
            "object_fit": null,
            "grid_auto_columns": null,
            "margin": null,
            "display": null,
            "left": null
          }
        },
        "b64a90a614294826ab7541c9cb3fa707": {
          "model_module": "@jupyter-widgets/controls",
          "model_name": "HTMLModel",
          "model_module_version": "1.5.0",
          "state": {
            "_view_name": "HTMLView",
            "style": "IPY_MODEL_e53e386f9bb842549b7978a3e46f01c3",
            "_dom_classes": [],
            "description": "",
            "_model_name": "HTMLModel",
            "placeholder": "​",
            "_view_module": "@jupyter-widgets/controls",
            "_model_module_version": "1.5.0",
            "value": "100%",
            "_view_count": null,
            "_view_module_version": "1.5.0",
            "description_tooltip": null,
            "_model_module": "@jupyter-widgets/controls",
            "layout": "IPY_MODEL_acbd08f1f6f0401a881b26d5cb948f3f"
          }
        },
        "4d763d873568493e9cdcfe31e8a4619c": {
          "model_module": "@jupyter-widgets/controls",
          "model_name": "FloatProgressModel",
          "model_module_version": "1.5.0",
          "state": {
            "_view_name": "ProgressView",
            "style": "IPY_MODEL_48f00801d75940c083731da1fc9d2da7",
            "_dom_classes": [],
            "description": "",
            "_model_name": "FloatProgressModel",
            "bar_style": "success",
            "max": 46830571,
            "_view_module": "@jupyter-widgets/controls",
            "_model_module_version": "1.5.0",
            "value": 46830571,
            "_view_count": null,
            "_view_module_version": "1.5.0",
            "orientation": "horizontal",
            "min": 0,
            "description_tooltip": null,
            "_model_module": "@jupyter-widgets/controls",
            "layout": "IPY_MODEL_705154ecabe942818cd030099915745b"
          }
        },
        "22eaefbfe99b46679268ca1edb1ff81c": {
          "model_module": "@jupyter-widgets/controls",
          "model_name": "HTMLModel",
          "model_module_version": "1.5.0",
          "state": {
            "_view_name": "HTMLView",
            "style": "IPY_MODEL_4800a6a398d84150944b409a1fe074a0",
            "_dom_classes": [],
            "description": "",
            "_model_name": "HTMLModel",
            "placeholder": "​",
            "_view_module": "@jupyter-widgets/controls",
            "_model_module_version": "1.5.0",
            "value": " 44.7M/44.7M [00:00&lt;00:00, 67.2MB/s]",
            "_view_count": null,
            "_view_module_version": "1.5.0",
            "description_tooltip": null,
            "_model_module": "@jupyter-widgets/controls",
            "layout": "IPY_MODEL_a38fe77f9a164c0d9145fc078e515014"
          }
        },
        "e53e386f9bb842549b7978a3e46f01c3": {
          "model_module": "@jupyter-widgets/controls",
          "model_name": "DescriptionStyleModel",
          "model_module_version": "1.5.0",
          "state": {
            "_view_name": "StyleView",
            "_model_name": "DescriptionStyleModel",
            "description_width": "",
            "_view_module": "@jupyter-widgets/base",
            "_model_module_version": "1.5.0",
            "_view_count": null,
            "_view_module_version": "1.2.0",
            "_model_module": "@jupyter-widgets/controls"
          }
        },
        "acbd08f1f6f0401a881b26d5cb948f3f": {
          "model_module": "@jupyter-widgets/base",
          "model_name": "LayoutModel",
          "model_module_version": "1.2.0",
          "state": {
            "_view_name": "LayoutView",
            "grid_template_rows": null,
            "right": null,
            "justify_content": null,
            "_view_module": "@jupyter-widgets/base",
            "overflow": null,
            "_model_module_version": "1.2.0",
            "_view_count": null,
            "flex_flow": null,
            "width": null,
            "min_width": null,
            "border": null,
            "align_items": null,
            "bottom": null,
            "_model_module": "@jupyter-widgets/base",
            "top": null,
            "grid_column": null,
            "overflow_y": null,
            "overflow_x": null,
            "grid_auto_flow": null,
            "grid_area": null,
            "grid_template_columns": null,
            "flex": null,
            "_model_name": "LayoutModel",
            "justify_items": null,
            "grid_row": null,
            "max_height": null,
            "align_content": null,
            "visibility": null,
            "align_self": null,
            "height": null,
            "min_height": null,
            "padding": null,
            "grid_auto_rows": null,
            "grid_gap": null,
            "max_width": null,
            "order": null,
            "_view_module_version": "1.2.0",
            "grid_template_areas": null,
            "object_position": null,
            "object_fit": null,
            "grid_auto_columns": null,
            "margin": null,
            "display": null,
            "left": null
          }
        },
        "48f00801d75940c083731da1fc9d2da7": {
          "model_module": "@jupyter-widgets/controls",
          "model_name": "ProgressStyleModel",
          "model_module_version": "1.5.0",
          "state": {
            "_view_name": "StyleView",
            "_model_name": "ProgressStyleModel",
            "description_width": "",
            "_view_module": "@jupyter-widgets/base",
            "_model_module_version": "1.5.0",
            "_view_count": null,
            "_view_module_version": "1.2.0",
            "bar_color": null,
            "_model_module": "@jupyter-widgets/controls"
          }
        },
        "705154ecabe942818cd030099915745b": {
          "model_module": "@jupyter-widgets/base",
          "model_name": "LayoutModel",
          "model_module_version": "1.2.0",
          "state": {
            "_view_name": "LayoutView",
            "grid_template_rows": null,
            "right": null,
            "justify_content": null,
            "_view_module": "@jupyter-widgets/base",
            "overflow": null,
            "_model_module_version": "1.2.0",
            "_view_count": null,
            "flex_flow": null,
            "width": null,
            "min_width": null,
            "border": null,
            "align_items": null,
            "bottom": null,
            "_model_module": "@jupyter-widgets/base",
            "top": null,
            "grid_column": null,
            "overflow_y": null,
            "overflow_x": null,
            "grid_auto_flow": null,
            "grid_area": null,
            "grid_template_columns": null,
            "flex": null,
            "_model_name": "LayoutModel",
            "justify_items": null,
            "grid_row": null,
            "max_height": null,
            "align_content": null,
            "visibility": null,
            "align_self": null,
            "height": null,
            "min_height": null,
            "padding": null,
            "grid_auto_rows": null,
            "grid_gap": null,
            "max_width": null,
            "order": null,
            "_view_module_version": "1.2.0",
            "grid_template_areas": null,
            "object_position": null,
            "object_fit": null,
            "grid_auto_columns": null,
            "margin": null,
            "display": null,
            "left": null
          }
        },
        "4800a6a398d84150944b409a1fe074a0": {
          "model_module": "@jupyter-widgets/controls",
          "model_name": "DescriptionStyleModel",
          "model_module_version": "1.5.0",
          "state": {
            "_view_name": "StyleView",
            "_model_name": "DescriptionStyleModel",
            "description_width": "",
            "_view_module": "@jupyter-widgets/base",
            "_model_module_version": "1.5.0",
            "_view_count": null,
            "_view_module_version": "1.2.0",
            "_model_module": "@jupyter-widgets/controls"
          }
        },
        "a38fe77f9a164c0d9145fc078e515014": {
          "model_module": "@jupyter-widgets/base",
          "model_name": "LayoutModel",
          "model_module_version": "1.2.0",
          "state": {
            "_view_name": "LayoutView",
            "grid_template_rows": null,
            "right": null,
            "justify_content": null,
            "_view_module": "@jupyter-widgets/base",
            "overflow": null,
            "_model_module_version": "1.2.0",
            "_view_count": null,
            "flex_flow": null,
            "width": null,
            "min_width": null,
            "border": null,
            "align_items": null,
            "bottom": null,
            "_model_module": "@jupyter-widgets/base",
            "top": null,
            "grid_column": null,
            "overflow_y": null,
            "overflow_x": null,
            "grid_auto_flow": null,
            "grid_area": null,
            "grid_template_columns": null,
            "flex": null,
            "_model_name": "LayoutModel",
            "justify_items": null,
            "grid_row": null,
            "max_height": null,
            "align_content": null,
            "visibility": null,
            "align_self": null,
            "height": null,
            "min_height": null,
            "padding": null,
            "grid_auto_rows": null,
            "grid_gap": null,
            "max_width": null,
            "order": null,
            "_view_module_version": "1.2.0",
            "grid_template_areas": null,
            "object_position": null,
            "object_fit": null,
            "grid_auto_columns": null,
            "margin": null,
            "display": null,
            "left": null
          }
        }
      }
    }
  },
  "nbformat": 4,
  "nbformat_minor": 0
}