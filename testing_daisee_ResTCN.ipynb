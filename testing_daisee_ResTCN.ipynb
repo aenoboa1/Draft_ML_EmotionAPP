{
  "cells": [
    {
      "cell_type": "markdown",
      "metadata": {
        "id": "view-in-github",
        "colab_type": "text"
      },
      "source": [
        "<a href=\"https://colab.research.google.com/github/aenoboa1/Draft_ML_EmotionAPP/blob/main/testing_daisee_ResTCN.ipynb\" target=\"_parent\"><img src=\"https://colab.research.google.com/assets/colab-badge.svg\" alt=\"Open In Colab\"/></a>"
      ]
    },
    {
      "cell_type": "code",
      "source": [
        "!pip install visualkeras"
      ],
      "metadata": {
        "id": "hqW9yN3IgOL7",
        "outputId": "0bc64816-a45d-45cf-b329-1758ca34a205",
        "colab": {
          "base_uri": "https://localhost:8080/"
        }
      },
      "execution_count": 2,
      "outputs": [
        {
          "output_type": "stream",
          "name": "stdout",
          "text": [
            "Collecting visualkeras\n",
            "  Downloading visualkeras-0.0.2-py3-none-any.whl (12 kB)\n",
            "Requirement already satisfied: pillow>=6.2.0 in /usr/local/lib/python3.7/dist-packages (from visualkeras) (7.1.2)\n",
            "Requirement already satisfied: numpy>=1.18.1 in /usr/local/lib/python3.7/dist-packages (from visualkeras) (1.19.5)\n",
            "Collecting aggdraw>=1.3.11\n",
            "  Downloading aggdraw-1.3.12-cp37-cp37m-manylinux2010_x86_64.whl (795 kB)\n",
            "\u001b[K     |████████████████████████████████| 795 kB 7.0 MB/s \n",
            "\u001b[?25hInstalling collected packages: aggdraw, visualkeras\n",
            "Successfully installed aggdraw-1.3.12 visualkeras-0.0.2\n"
          ]
        }
      ]
    },
    {
      "cell_type": "code",
      "source": [
        "import pandas as pd\n",
        "import numpy as np\n",
        "import os\n",
        "import PIL\n",
        "import seaborn as sns\n",
        "import pickle\n",
        "from PIL import *\n",
        "import cv2\n",
        "import tensorflow as tf\n",
        "from tensorflow import keras\n",
        "from tensorflow.keras.applications import DenseNet121\n",
        "from tensorflow.keras.models import Model, load_model\n",
        "from tensorflow.keras.initializers import glorot_uniform\n",
        "from tensorflow.keras.utils import plot_model\n",
        "from tensorflow.keras.callbacks import ReduceLROnPlateau, EarlyStopping, ModelCheckpoint, LearningRateScheduler\n",
        "from IPython.display import display\n",
        "from tensorflow.python.keras import *\n",
        "from tensorflow.keras.preprocessing.image import ImageDataGenerator\n",
        "from tensorflow.keras import layers, optimizers\n",
        "from tensorflow.keras.applications.resnet50 import ResNet50\n",
        "from tensorflow.keras.layers import *\n",
        "from tensorflow.keras import backend as K\n",
        "from keras import optimizers\n",
        "import matplotlib.pyplot as plt\n",
        "from sklearn.model_selection import train_test_split\n",
        "from google.colab.patches import cv2_imshow\n",
        "from google.colab import drive\n",
        "import visualkeras\n",
        "drive._mount('/content/drive')\n",
        "\n",
        "\n",
        "#matplotlib styles\n",
        "plt.style.use(['ggplot'])\n",
        "sns.set(rc={'figure.figsize':(11.7,8.27)})"
      ],
      "metadata": {
        "colab": {
          "base_uri": "https://localhost:8080/"
        },
        "id": "7iUZg4Ro7e8a",
        "outputId": "7c8fae3b-67d9-414d-afed-53cc90d4d9ff"
      },
      "execution_count": 3,
      "outputs": [
        {
          "output_type": "stream",
          "name": "stdout",
          "text": [
            "Mounted at /content/drive\n"
          ]
        }
      ]
    },
    {
      "cell_type": "code",
      "source": [
        "!mkdir /content/DAiSEE ; unzip  -qq /content/drive/MyDrive/DATA/datasets/DAiSEE.zip -d /content/DAiSEE\n"
      ],
      "metadata": {
        "id": "eOoRrem0pI9w"
      },
      "execution_count": null,
      "outputs": []
    },
    {
      "cell_type": "code",
      "source": [
        "# SSH Tunnel para abrir en VS Code\n",
        "!pip install colab_ssh --upgrade\n",
        "\n",
        "from colab_ssh import launch_ssh\n",
        "launch_ssh('21v23nE9rkUZAwWwJZ1zAxGLuwK_7v2uhNRStUAsGmaEtCm5D', 'ml')"
      ],
      "metadata": {
        "colab": {
          "base_uri": "https://localhost:8080/"
        },
        "id": "rSUGJbhWCS3L",
        "outputId": "34070a3c-e80b-42ac-88ea-71df7fe86738"
      },
      "execution_count": null,
      "outputs": [
        {
          "output_type": "stream",
          "name": "stdout",
          "text": [
            "Collecting colab_ssh\n",
            "  Downloading colab_ssh-0.3.27-py3-none-any.whl (26 kB)\n",
            "Installing collected packages: colab-ssh\n",
            "Successfully installed colab-ssh-0.3.27\n",
            "Warning: Due to some issues with ngrok on Google Colab, reported in the issue https://github.com/WassimBenzarti/colab-ssh/issues/45, \n",
            "we highly recommend that update your code by following this documentation https://github.com/WassimBenzarti/colab-ssh#getting-started\n",
            "Successfully running 6.tcp.ngrok.io:10394\n",
            "[Optional] You can also connect with VSCode SSH Remote extension using this configuration:\n",
            "\n",
            "  Host google_colab_ssh\n",
            "    HostName 6.tcp.ngrok.io\n",
            "    User root\n",
            "    Port 10394\n",
            "    \n"
          ]
        }
      ]
    },
    {
      "cell_type": "code",
      "source": [
        "class_names = ['Boredom',\n",
        "               'Engagement',\n",
        "              'Confusion',\n",
        "               'Frustration'\n",
        "               ]\n"
      ],
      "metadata": {
        "id": "ofjApbsUFxqo"
      },
      "execution_count": null,
      "outputs": []
    },
    {
      "cell_type": "code",
      "source": [
        "df_train = pd.read_csv('/content/DAiSEE/DAiSEE/Labels/TrainLabels.csv')\n"
      ],
      "metadata": {
        "id": "xUZ7IhTNE5ZT"
      },
      "execution_count": null,
      "outputs": []
    },
    {
      "cell_type": "code",
      "source": [
        "df_train"
      ],
      "metadata": {
        "colab": {
          "base_uri": "https://localhost:8080/",
          "height": 423
        },
        "id": "-HNWrxdYF0YC",
        "outputId": "1a08ebb5-a177-4aab-9461-af87610968fe"
      },
      "execution_count": null,
      "outputs": [
        {
          "output_type": "execute_result",
          "data": {
            "text/html": [
              "\n",
              "  <div id=\"df-80ef4cf3-e469-43da-a323-4f00e88502b4\">\n",
              "    <div class=\"colab-df-container\">\n",
              "      <div>\n",
              "<style scoped>\n",
              "    .dataframe tbody tr th:only-of-type {\n",
              "        vertical-align: middle;\n",
              "    }\n",
              "\n",
              "    .dataframe tbody tr th {\n",
              "        vertical-align: top;\n",
              "    }\n",
              "\n",
              "    .dataframe thead th {\n",
              "        text-align: right;\n",
              "    }\n",
              "</style>\n",
              "<table border=\"1\" class=\"dataframe\">\n",
              "  <thead>\n",
              "    <tr style=\"text-align: right;\">\n",
              "      <th></th>\n",
              "      <th>ClipID</th>\n",
              "      <th>Boredom</th>\n",
              "      <th>Engagement</th>\n",
              "      <th>Confusion</th>\n",
              "      <th>Frustration</th>\n",
              "    </tr>\n",
              "  </thead>\n",
              "  <tbody>\n",
              "    <tr>\n",
              "      <th>0</th>\n",
              "      <td>1100011002.avi</td>\n",
              "      <td>0</td>\n",
              "      <td>2</td>\n",
              "      <td>0</td>\n",
              "      <td>0</td>\n",
              "    </tr>\n",
              "    <tr>\n",
              "      <th>1</th>\n",
              "      <td>1100011003.avi</td>\n",
              "      <td>0</td>\n",
              "      <td>2</td>\n",
              "      <td>0</td>\n",
              "      <td>0</td>\n",
              "    </tr>\n",
              "    <tr>\n",
              "      <th>2</th>\n",
              "      <td>1100011004.avi</td>\n",
              "      <td>0</td>\n",
              "      <td>3</td>\n",
              "      <td>0</td>\n",
              "      <td>0</td>\n",
              "    </tr>\n",
              "    <tr>\n",
              "      <th>3</th>\n",
              "      <td>1100011005.avi</td>\n",
              "      <td>0</td>\n",
              "      <td>3</td>\n",
              "      <td>0</td>\n",
              "      <td>0</td>\n",
              "    </tr>\n",
              "    <tr>\n",
              "      <th>4</th>\n",
              "      <td>1100011006.avi</td>\n",
              "      <td>0</td>\n",
              "      <td>3</td>\n",
              "      <td>0</td>\n",
              "      <td>0</td>\n",
              "    </tr>\n",
              "    <tr>\n",
              "      <th>...</th>\n",
              "      <td>...</td>\n",
              "      <td>...</td>\n",
              "      <td>...</td>\n",
              "      <td>...</td>\n",
              "      <td>...</td>\n",
              "    </tr>\n",
              "    <tr>\n",
              "      <th>5353</th>\n",
              "      <td>4599990246.avi</td>\n",
              "      <td>0</td>\n",
              "      <td>3</td>\n",
              "      <td>0</td>\n",
              "      <td>0</td>\n",
              "    </tr>\n",
              "    <tr>\n",
              "      <th>5354</th>\n",
              "      <td>4599990247.avi</td>\n",
              "      <td>0</td>\n",
              "      <td>3</td>\n",
              "      <td>0</td>\n",
              "      <td>0</td>\n",
              "    </tr>\n",
              "    <tr>\n",
              "      <th>5355</th>\n",
              "      <td>4599990248.avi</td>\n",
              "      <td>1</td>\n",
              "      <td>2</td>\n",
              "      <td>1</td>\n",
              "      <td>1</td>\n",
              "    </tr>\n",
              "    <tr>\n",
              "      <th>5356</th>\n",
              "      <td>4599990249.avi</td>\n",
              "      <td>0</td>\n",
              "      <td>3</td>\n",
              "      <td>0</td>\n",
              "      <td>0</td>\n",
              "    </tr>\n",
              "    <tr>\n",
              "      <th>5357</th>\n",
              "      <td>459999025.avi</td>\n",
              "      <td>1</td>\n",
              "      <td>3</td>\n",
              "      <td>0</td>\n",
              "      <td>0</td>\n",
              "    </tr>\n",
              "  </tbody>\n",
              "</table>\n",
              "<p>5358 rows × 5 columns</p>\n",
              "</div>\n",
              "      <button class=\"colab-df-convert\" onclick=\"convertToInteractive('df-80ef4cf3-e469-43da-a323-4f00e88502b4')\"\n",
              "              title=\"Convert this dataframe to an interactive table.\"\n",
              "              style=\"display:none;\">\n",
              "        \n",
              "  <svg xmlns=\"http://www.w3.org/2000/svg\" height=\"24px\"viewBox=\"0 0 24 24\"\n",
              "       width=\"24px\">\n",
              "    <path d=\"M0 0h24v24H0V0z\" fill=\"none\"/>\n",
              "    <path d=\"M18.56 5.44l.94 2.06.94-2.06 2.06-.94-2.06-.94-.94-2.06-.94 2.06-2.06.94zm-11 1L8.5 8.5l.94-2.06 2.06-.94-2.06-.94L8.5 2.5l-.94 2.06-2.06.94zm10 10l.94 2.06.94-2.06 2.06-.94-2.06-.94-.94-2.06-.94 2.06-2.06.94z\"/><path d=\"M17.41 7.96l-1.37-1.37c-.4-.4-.92-.59-1.43-.59-.52 0-1.04.2-1.43.59L10.3 9.45l-7.72 7.72c-.78.78-.78 2.05 0 2.83L4 21.41c.39.39.9.59 1.41.59.51 0 1.02-.2 1.41-.59l7.78-7.78 2.81-2.81c.8-.78.8-2.07 0-2.86zM5.41 20L4 18.59l7.72-7.72 1.47 1.35L5.41 20z\"/>\n",
              "  </svg>\n",
              "      </button>\n",
              "      \n",
              "  <style>\n",
              "    .colab-df-container {\n",
              "      display:flex;\n",
              "      flex-wrap:wrap;\n",
              "      gap: 12px;\n",
              "    }\n",
              "\n",
              "    .colab-df-convert {\n",
              "      background-color: #E8F0FE;\n",
              "      border: none;\n",
              "      border-radius: 50%;\n",
              "      cursor: pointer;\n",
              "      display: none;\n",
              "      fill: #1967D2;\n",
              "      height: 32px;\n",
              "      padding: 0 0 0 0;\n",
              "      width: 32px;\n",
              "    }\n",
              "\n",
              "    .colab-df-convert:hover {\n",
              "      background-color: #E2EBFA;\n",
              "      box-shadow: 0px 1px 2px rgba(60, 64, 67, 0.3), 0px 1px 3px 1px rgba(60, 64, 67, 0.15);\n",
              "      fill: #174EA6;\n",
              "    }\n",
              "\n",
              "    [theme=dark] .colab-df-convert {\n",
              "      background-color: #3B4455;\n",
              "      fill: #D2E3FC;\n",
              "    }\n",
              "\n",
              "    [theme=dark] .colab-df-convert:hover {\n",
              "      background-color: #434B5C;\n",
              "      box-shadow: 0px 1px 3px 1px rgba(0, 0, 0, 0.15);\n",
              "      filter: drop-shadow(0px 1px 2px rgba(0, 0, 0, 0.3));\n",
              "      fill: #FFFFFF;\n",
              "    }\n",
              "  </style>\n",
              "\n",
              "      <script>\n",
              "        const buttonEl =\n",
              "          document.querySelector('#df-80ef4cf3-e469-43da-a323-4f00e88502b4 button.colab-df-convert');\n",
              "        buttonEl.style.display =\n",
              "          google.colab.kernel.accessAllowed ? 'block' : 'none';\n",
              "\n",
              "        async function convertToInteractive(key) {\n",
              "          const element = document.querySelector('#df-80ef4cf3-e469-43da-a323-4f00e88502b4');\n",
              "          const dataTable =\n",
              "            await google.colab.kernel.invokeFunction('convertToInteractive',\n",
              "                                                     [key], {});\n",
              "          if (!dataTable) return;\n",
              "\n",
              "          const docLinkHtml = 'Like what you see? Visit the ' +\n",
              "            '<a target=\"_blank\" href=https://colab.research.google.com/notebooks/data_table.ipynb>data table notebook</a>'\n",
              "            + ' to learn more about interactive tables.';\n",
              "          element.innerHTML = '';\n",
              "          dataTable['output_type'] = 'display_data';\n",
              "          await google.colab.output.renderOutput(dataTable, element);\n",
              "          const docLink = document.createElement('div');\n",
              "          docLink.innerHTML = docLinkHtml;\n",
              "          element.appendChild(docLink);\n",
              "        }\n",
              "      </script>\n",
              "    </div>\n",
              "  </div>\n",
              "  "
            ],
            "text/plain": [
              "              ClipID  Boredom  Engagement  Confusion  Frustration \n",
              "0     1100011002.avi        0           2          0             0\n",
              "1     1100011003.avi        0           2          0             0\n",
              "2     1100011004.avi        0           3          0             0\n",
              "3     1100011005.avi        0           3          0             0\n",
              "4     1100011006.avi        0           3          0             0\n",
              "...              ...      ...         ...        ...           ...\n",
              "5353  4599990246.avi        0           3          0             0\n",
              "5354  4599990247.avi        0           3          0             0\n",
              "5355  4599990248.avi        1           2          1             1\n",
              "5356  4599990249.avi        0           3          0             0\n",
              "5357   459999025.avi        1           3          0             0\n",
              "\n",
              "[5358 rows x 5 columns]"
            ]
          },
          "metadata": {},
          "execution_count": 15
        }
      ]
    },
    {
      "cell_type": "code",
      "source": [
        "df_train['Engagement'].hist()\n"
      ],
      "metadata": {
        "colab": {
          "base_uri": "https://localhost:8080/",
          "height": 518
        },
        "id": "CQhf0XW-HyXu",
        "outputId": "5ec64ad5-6c4b-4cfa-e227-ccddef34f741"
      },
      "execution_count": null,
      "outputs": [
        {
          "output_type": "execute_result",
          "data": {
            "text/plain": [
              "<matplotlib.axes._subplots.AxesSubplot at 0x7fcaeebb7cd0>"
            ]
          },
          "metadata": {},
          "execution_count": 16
        },
        {
          "output_type": "display_data",
          "data": {
            "image/png": "[encoded data removed]",
            "text/plain": [
              "<Figure size 842.4x595.44 with 1 Axes>"
            ]
          },
          "metadata": {}
        }
      ]
    },
    {
      "cell_type": "code",
      "source": [
        "df_train['Engagement'].value_counts().sort_values().plot.pie(wedgeprops={'alpha':0.7}, autopct='%1.1f%%')\n"
      ],
      "metadata": {
        "colab": {
          "base_uri": "https://localhost:8080/",
          "height": 498
        },
        "id": "cK1Qa_7tJyzS",
        "outputId": "f45160a6-7c44-4b8f-9b7b-79a19c8fc176"
      },
      "execution_count": null,
      "outputs": [
        {
          "output_type": "execute_result",
          "data": {
            "text/plain": [
              "<matplotlib.axes._subplots.AxesSubplot at 0x7fcaeeb155d0>"
            ]
          },
          "metadata": {},
          "execution_count": 17
        },
        {
          "output_type": "display_data",
          "data": {
            "image/png": "[encoded data removed]",
            "text/plain": [
              "<Figure size 842.4x595.44 with 1 Axes>"
            ]
          },
          "metadata": {}
        }
      ]
    },
    {
      "cell_type": "code",
      "source": [
        "\n",
        "\n",
        "fig, ax = plt.subplots()\n",
        "\n",
        "d_heights, d_bins = np.histogram(df_train['Boredom'],bins=[-0.5,0.5,1.5])\n",
        "m_heights, m_bins = np.histogram(df_train['Frustration '], bins=d_bins)\n",
        "s_heights, s_bins = np.histogram(df_train['Engagement'], bins=m_bins)\n",
        "ss_heights, ss_bins = np.histogram(df_train['Confusion'], bins=s_bins)\n",
        "\n",
        "\n",
        "width = (d_bins[1] - d_bins[0])/6.0\n",
        "\n",
        "ax.bar(d_bins[:-1]+width, d_heights, width=width, facecolor='cornflowerblue')\n",
        "ax.bar(m_bins[:-1]+width*2, m_heights, width=width, facecolor='seagreen')\n",
        "ax.bar(s_bins[:-1]+width*3, s_heights, width=width, facecolor='red')\n",
        "ax.bar(ss_bins[:-1]+width*4, ss_heights, width=width, facecolor='blue')\n",
        "ax.legend(class_names)\n"
      ],
      "metadata": {
        "colab": {
          "base_uri": "https://localhost:8080/",
          "height": 518
        },
        "id": "tRoxS-Z0EoRx",
        "outputId": "2f15587e-1e5c-460f-bc61-a936af813184"
      },
      "execution_count": null,
      "outputs": [
        {
          "output_type": "execute_result",
          "data": {
            "text/plain": [
              "<matplotlib.legend.Legend at 0x7fcaeea32a50>"
            ]
          },
          "metadata": {},
          "execution_count": 18
        },
        {
          "output_type": "display_data",
          "data": {
            "image/png": "[encoded data removed]",
            "text/plain": [
              "<Figure size 842.4x595.44 with 1 Axes>"
            ]
          },
          "metadata": {}
        }
      ]
    },
    {
      "cell_type": "markdown",
      "source": [
        "#### Aplicando la tecnica SMOTE al dataset"
      ],
      "metadata": {
        "id": "ZEKFk2mdHBTX"
      }
    },
    {
      "cell_type": "markdown",
      "source": [
        "- [ ] TODO"
      ],
      "metadata": {
        "id": "pNp7USMtYJPc"
      }
    },
    {
      "cell_type": "code",
      "source": [
        "df_train[\"Engagement\"].value_counts()"
      ],
      "metadata": {
        "colab": {
          "base_uri": "https://localhost:8080/"
        },
        "id": "SBG0lR-hn6wx",
        "outputId": "a3f962ed-06a4-430d-da24-7f1098f580b8"
      },
      "execution_count": null,
      "outputs": [
        {
          "output_type": "execute_result",
          "data": {
            "text/plain": [
              "2    2617\n",
              "3    2494\n",
              "1     213\n",
              "0      34\n",
              "Name: Engagement, dtype: int64"
            ]
          },
          "metadata": {},
          "execution_count": 25
        }
      ]
    },
    {
      "cell_type": "code",
      "source": [
        "count_class_2, count_class_3,count_class_1,count_class_0 = df_train[\"Engagement\"].value_counts()"
      ],
      "metadata": {
        "id": "l3VawXmcr-f_"
      },
      "execution_count": null,
      "outputs": []
    },
    {
      "cell_type": "code",
      "source": [
        "count_class_2"
      ],
      "metadata": {
        "colab": {
          "base_uri": "https://localhost:8080/"
        },
        "id": "slVdNMn1nplO",
        "outputId": "7cbc77dc-8813-48cf-fef2-b811234a38e3"
      },
      "execution_count": null,
      "outputs": [
        {
          "output_type": "execute_result",
          "data": {
            "text/plain": [
              "2617"
            ]
          },
          "metadata": {},
          "execution_count": 23
        }
      ]
    },
    {
      "cell_type": "code",
      "source": [
        "count_class1"
      ],
      "metadata": {
        "colab": {
          "base_uri": "https://localhost:8080/"
        },
        "id": "qQgH2R1un6F7",
        "outputId": "b6149374-e5ef-4b35-c5b1-d501eb335788"
      },
      "execution_count": null,
      "outputs": [
        {
          "output_type": "execute_result",
          "data": {
            "text/plain": [
              "213"
            ]
          },
          "metadata": {},
          "execution_count": 27
        }
      ]
    },
    {
      "cell_type": "markdown",
      "source": [
        "To install imbalanced-learn library use pip install imbalanced-learn command\n",
        "\n"
      ],
      "metadata": {
        "id": "KooezFNZpKXx"
      }
    },
    {
      "cell_type": "code",
      "source": [
        "!pip install imbalanced-learn"
      ],
      "metadata": {
        "colab": {
          "base_uri": "https://localhost:8080/"
        },
        "id": "qjmvqMUFpJ_7",
        "outputId": "44b3d784-fe40-42a5-cd5e-c8d8204cf330"
      },
      "execution_count": null,
      "outputs": [
        {
          "output_type": "stream",
          "name": "stdout",
          "text": [
            "Requirement already satisfied: imbalanced-learn in /usr/local/lib/python3.7/dist-packages (0.8.1)\n",
            "Requirement already satisfied: numpy>=1.13.3 in /usr/local/lib/python3.7/dist-packages (from imbalanced-learn) (1.19.5)\n",
            "Requirement already satisfied: scikit-learn>=0.24 in /usr/local/lib/python3.7/dist-packages (from imbalanced-learn) (1.0.1)\n",
            "Requirement already satisfied: joblib>=0.11 in /usr/local/lib/python3.7/dist-packages (from imbalanced-learn) (1.1.0)\n",
            "Requirement already satisfied: scipy>=0.19.1 in /usr/local/lib/python3.7/dist-packages (from imbalanced-learn) (1.4.1)\n",
            "Requirement already satisfied: threadpoolctl>=2.0.0 in /usr/local/lib/python3.7/dist-packages (from scikit-learn>=0.24->imbalanced-learn) (3.0.0)\n"
          ]
        }
      ]
    },
    {
      "cell_type": "markdown",
      "source": [
        "### Testing predictions"
      ],
      "metadata": {
        "id": "Lu7sbSzJkSfL"
      }
    },
    {
      "cell_type": "code",
      "source": [
        "model.compile()"
      ],
      "metadata": {
        "id": "n8HW9m1sk0ZW"
      },
      "execution_count": null,
      "outputs": []
    },
    {
      "cell_type": "code",
      "source": [
        "from keras.models import load_model\n",
        "\n",
        "model =load_model('/content/checkpoints/Epoch_0_model.hp5')\n"
      ],
      "metadata": {
        "id": "cYOtJwOdjve_",
        "outputId": "804f3f1c-8920-480c-b2b3-338ef9e618e1",
        "colab": {
          "base_uri": "https://localhost:8080/"
        }
      },
      "execution_count": null,
      "outputs": [
        {
          "output_type": "stream",
          "name": "stdout",
          "text": [
            "WARNING:tensorflow:No training configuration found in the save file, so the model was *not* compiled. Compile it manually.\n"
          ]
        }
      ]
    },
    {
      "cell_type": "code",
      "source": [
        "model.summary()"
      ],
      "metadata": {
        "id": "9WAZDuaEj99w",
        "outputId": "730a32a2-45ed-43e9-9bd4-a62780db93bd",
        "colab": {
          "base_uri": "https://localhost:8080/"
        }
      },
      "execution_count": null,
      "outputs": [
        {
          "output_type": "stream",
          "name": "stdout",
          "text": [
            "Model: \"sequential\"\n",
            "_________________________________________________________________\n",
            " Layer (type)                Output Shape              Param #   \n",
            "=================================================================\n",
            " conv2d (Conv2D)             (None, 112, 112, 96)      14208     \n",
            "                                                                 \n",
            " re_lu (ReLU)                (None, 112, 112, 96)      0         \n",
            "                                                                 \n",
            " max_pooling2d (MaxPooling2D  (None, 37, 37, 96)       0         \n",
            " )                                                               \n",
            "                                                                 \n",
            " conv2d_1 (Conv2D)           (None, 37, 37, 256)       614656    \n",
            "                                                                 \n",
            " re_lu_1 (ReLU)              (None, 37, 37, 256)       0         \n",
            "                                                                 \n",
            " max_pooling2d_1 (MaxPooling  (None, 18, 18, 256)      0         \n",
            " 2D)                                                             \n",
            "                                                                 \n",
            " conv2d_2 (Conv2D)           (None, 18, 18, 512)       1180160   \n",
            "                                                                 \n",
            " re_lu_2 (ReLU)              (None, 18, 18, 512)       0         \n",
            "                                                                 \n",
            " conv2d_3 (Conv2D)           (None, 18, 18, 512)       2359808   \n",
            "                                                                 \n",
            " re_lu_3 (ReLU)              (None, 18, 18, 512)       0         \n",
            "                                                                 \n",
            " conv2d_4 (Conv2D)           (None, 18, 18, 512)       2359808   \n",
            "                                                                 \n",
            " re_lu_4 (ReLU)              (None, 18, 18, 512)       0         \n",
            "                                                                 \n",
            " max_pooling2d_2 (MaxPooling  (None, 6, 6, 512)        0         \n",
            " 2D)                                                             \n",
            "                                                                 \n",
            " flatten (Flatten)           (None, 18432)             0         \n",
            "                                                                 \n",
            " dense (Dense)               (None, 4048)              74616784  \n",
            "                                                                 \n",
            " dense_1 (Dense)             (None, 4048)              16390352  \n",
            "                                                                 \n",
            " dense_2 (Dense)             (None, 4)                 16196     \n",
            "                                                                 \n",
            " softmax (Softmax)           (None, 4)                 0         \n",
            "                                                                 \n",
            "=================================================================\n",
            "Total params: 97,551,972\n",
            "Trainable params: 97,551,972\n",
            "Non-trainable params: 0\n",
            "_________________________________________________________________\n"
          ]
        }
      ]
    },
    {
      "cell_type": "code",
      "source": [
        "from PIL import Image\n",
        "import numpy as np\n",
        "from skimage import transform\n",
        "def load(filename):\n",
        "   np_image = Image.open(filename)\n",
        "   np_image = np.array(np_image).astype('float32')/255\n",
        "   np_image = transform.resize(np_image, (224, 224, 3))\n",
        "   np_image = np.expand_dims(np_image, axis=0)\n",
        "   return np_image\n",
        "\n",
        "image = load('/content/DAiSEE/DAiSEE/DataSet/Data/Train/310082/3100821015/310082101534.jpg')"
      ],
      "metadata": {
        "id": "0hm1oWI-lXrj"
      },
      "execution_count": null,
      "outputs": []
    },
    {
      "cell_type": "code",
      "source": [
        "image"
      ],
      "metadata": {
        "id": "Dp4-LwfZlcVx",
        "outputId": "ad44fc08-6267-42b6-c888-8eac51683c70",
        "colab": {
          "base_uri": "https://localhost:8080/"
        }
      },
      "execution_count": null,
      "outputs": [
        {
          "output_type": "execute_result",
          "data": {
            "text/plain": [
              "array([[[[0.7294118 , 0.6862745 , 0.7176471 ],\n",
              "         [0.7294118 , 0.6862745 , 0.7176471 ],\n",
              "         [0.7294118 , 0.6862745 , 0.7176471 ],\n",
              "         ...,\n",
              "         [0.7890167 , 0.72235006, 0.7537226 ],\n",
              "         [0.7882354 , 0.72156876, 0.7529413 ],\n",
              "         [0.7882353 , 0.72156864, 0.7529412 ]],\n",
              "\n",
              "        [[0.7294118 , 0.6862745 , 0.7176471 ],\n",
              "         [0.7294118 , 0.6862745 , 0.7176471 ],\n",
              "         [0.7294118 , 0.6862745 , 0.7176471 ],\n",
              "         ...,\n",
              "         [0.7890167 , 0.72235006, 0.7537226 ],\n",
              "         [0.7882354 , 0.72156876, 0.7529413 ],\n",
              "         [0.7882353 , 0.72156864, 0.7529412 ]],\n",
              "\n",
              "        [[0.7294118 , 0.6862745 , 0.7176471 ],\n",
              "         [0.7294118 , 0.6862745 , 0.7176471 ],\n",
              "         [0.7294118 , 0.6862745 , 0.7176471 ],\n",
              "         ...,\n",
              "         [0.7890167 , 0.72235006, 0.7537226 ],\n",
              "         [0.7882354 , 0.72156876, 0.7529413 ],\n",
              "         [0.7882353 , 0.72156864, 0.7529412 ]],\n",
              "\n",
              "        ...,\n",
              "\n",
              "        [[0.19215687, 0.26666668, 0.39607844],\n",
              "         [0.19215798, 0.2666678 , 0.39607957],\n",
              "         [0.19918972, 0.27369952, 0.40311128],\n",
              "         ...,\n",
              "         [0.21469529, 0.21469529, 0.22253843],\n",
              "         [0.19197722, 0.19197722, 0.19982035],\n",
              "         [0.16146226, 0.16146226, 0.1693054 ]],\n",
              "\n",
              "        [[0.19215687, 0.26666668, 0.39607844],\n",
              "         [0.19215798, 0.2666678 , 0.39607957],\n",
              "         [0.19918972, 0.27369952, 0.40311128],\n",
              "         ...,\n",
              "         [0.21469529, 0.21469529, 0.22253843],\n",
              "         [0.19197722, 0.19197722, 0.19982035],\n",
              "         [0.16146226, 0.16146226, 0.1693054 ]],\n",
              "\n",
              "        [[0.19215687, 0.26666668, 0.39607844],\n",
              "         [0.19215798, 0.2666678 , 0.39607957],\n",
              "         [0.19918972, 0.27369952, 0.40311128],\n",
              "         ...,\n",
              "         [0.21469529, 0.21469529, 0.22253843],\n",
              "         [0.19197722, 0.19197722, 0.19982035],\n",
              "         [0.16146226, 0.16146226, 0.1693054 ]]]], dtype=float32)"
            ]
          },
          "metadata": {},
          "execution_count": 113
        }
      ]
    },
    {
      "cell_type": "code",
      "source": [
        "model.predict(image)"
      ],
      "metadata": {
        "id": "9qeR8ZNQkAai",
        "outputId": "dcf32932-798b-4386-fd2a-90bb66018ec4",
        "colab": {
          "base_uri": "https://localhost:8080/"
        }
      },
      "execution_count": null,
      "outputs": [
        {
          "output_type": "execute_result",
          "data": {
            "text/plain": [
              "array([[1.3776677e-06, 9.9999857e-01, 3.2351309e-18, 0.0000000e+00]],\n",
              "      dtype=float32)"
            ]
          },
          "metadata": {},
          "execution_count": 114
        }
      ]
    },
    {
      "cell_type": "markdown",
      "source": [
        "### Method 2 : RESNET+ TCN \n"
      ],
      "metadata": {
        "id": "Nv0N_cmQ5x4s"
      }
    },
    {
      "cell_type": "markdown",
      "source": [
        "#### Code Description:\n",
        "\n",
        "The input is training and validation raw frames extracted from videos and placed in separate folders (using `extractFramesOpenCV.py`). The address of the folders (containing video frames) and corresponding labels should be provided in two csv files, train.csv and validation.csv as follows\n",
        " \n",
        "```python\n",
        "path,label\n",
        "/home/videos/train/826412/8264120240/,0\n",
        "/home/videos/train/510034/5100342024/,1\n",
        "/home/videos/train/500067/5000671065/,2\n",
        "...\n",
        "```\n",
        "\n",
        "`datasets.py` and `transforms.py` read the video frames based on their address in the csv files, preprocess and normalize them, and convert them to [PyTorch dataloaders](https://pytorch.org/docs/stable/data.html#torch.utils.data.DataLoader).\n",
        "\n",
        "The ResNet-TCN Hybrid Architecture is in `ResTCN.py`. In the class `ResTCN` and the function `forward`, [resnet18](https://pytorch.org/vision/0.8/models.html#torchvision.models.resnet18) extracts features from consecutive frames of video, and [TCN](https://github.com/locuslab/TCN) analyzes changes in the extracted features, and fully-connected layers output the final prediction.\n",
        "\n",
        "Training and validation phases are performed in `train.py`. Training the ResNet and TCN is performed jointly using [Adam](https://pytorch.org/docs/stable/optim.html) optimization algorithm.\n",
        "\n",
        "The input to the ResTCN model should have this format: inputs = torch.randn([batch_size, sequence_length, num_channels, frame_width, frame_height]), for instance\n",
        "\n",
        "```\n",
        "import torch\n",
        "from ResTCN import ResTCN\n",
        "model = ResTCN().cuda()\n",
        "inputs = torch.randn([16, 30, 3, 256, 256]).cuda()\n",
        "outputs = model(inputs)\n",
        "```\n",
        "\n",
        "The code has been tested on the [DAiSEE](https://iith.ac.in/~daisee-dataset/), Dataset for Affective States in E-Environments, for engagement level classification in online classrooms.\n",
        "\n"
      ],
      "metadata": {
        "id": "LHljlOL4LPWk"
      }
    },
    {
      "cell_type": "markdown",
      "source": [
        "Da"
      ],
      "metadata": {
        "id": "rbmqZXoxK4Oe"
      }
    },
    {
      "cell_type": "code",
      "source": [
        "!mkdir DAiSEE2 ; unzip  -qq /content/drive/MyDrive/DATA/datasets/DAiSEE2.zip -d DAiSEE2"
      ],
      "metadata": {
        "id": "HbFH8eMVM7rI"
      },
      "execution_count": 5,
      "outputs": []
    },
    {
      "cell_type": "code",
      "source": [
        "!git clone https://github.com/aenoboa1/Draft_ML_EmotionAPP"
      ],
      "metadata": {
        "colab": {
          "base_uri": "https://localhost:8080/"
        },
        "id": "Y8kJ2AYg6HlI",
        "outputId": "a73b30e2-b33c-4fa2-da84-8d22a48f4d3b"
      },
      "execution_count": 6,
      "outputs": [
        {
          "output_type": "stream",
          "name": "stdout",
          "text": [
            "Cloning into 'Draft_ML_EmotionAPP'...\n",
            "remote: Enumerating objects: 148, done.\u001b[K\n",
            "remote: Counting objects: 100% (104/104), done.\u001b[K\n",
            "remote: Compressing objects: 100% (103/103), done.\u001b[K\n",
            "remote: Total 148 (delta 51), reused 5 (delta 1), pack-reused 44\u001b[K\n",
            "Receiving objects: 100% (148/148), 18.31 MiB | 7.18 MiB/s, done.\n",
            "Resolving deltas: 100% (65/65), done.\n"
          ]
        }
      ]
    },
    {
      "cell_type": "code",
      "source": [
        "!git clone https://github.com/aenoboa1/ResNet-TCN"
      ],
      "metadata": {
        "colab": {
          "base_uri": "https://localhost:8080/"
        },
        "id": "c9j3xgbk57CG",
        "outputId": "7a2185a7-32f1-47bc-9f27-8b6c1212232b"
      },
      "execution_count": 8,
      "outputs": [
        {
          "output_type": "stream",
          "name": "stdout",
          "text": [
            "Cloning into 'ResNet-TCN'...\n",
            "remote: Enumerating objects: 207, done.\u001b[K\n",
            "remote: Counting objects: 100% (19/19), done.\u001b[K\n",
            "remote: Compressing objects: 100% (19/19), done.\u001b[K\n",
            "remote: Total 207 (delta 7), reused 0 (delta 0), pack-reused 188\u001b[K\n",
            "Receiving objects: 100% (207/207), 2.65 MiB | 21.38 MiB/s, done.\n",
            "Resolving deltas: 100% (95/95), done.\n"
          ]
        }
      ]
    },
    {
      "cell_type": "code",
      "source": [
        "!python /content/ResNet-TCN/extractFramesOpenCV.py"
      ],
      "metadata": {
        "id": "WGZ1tPt7GDmV"
      },
      "execution_count": null,
      "outputs": []
    },
    {
      "cell_type": "code",
      "source": [
        "import torch\n",
        "import torchvision\n",
        "import cv2\n",
        "import os\n",
        "\n",
        "\n",
        "class VideoFolderPathToTensor(object):\n",
        "\n",
        "    def __init__(self, max_len=None):\n",
        "        self.max_len = max_len\n",
        "\n",
        "    def __call__(self, path):\n",
        "\n",
        "        file_names = sorted([os.path.join(path, f) for f in os.listdir(path) if os.path.isfile(os.path.join(path, f))])\n",
        "        frames_path = [os.path.join(path, f) for f in file_names]\n",
        "\n",
        "        frame = cv2.imread(frames_path[0])\n",
        "        height, width, channels = frame.shape\n",
        "        num_frames = len(frames_path)\n",
        "\n",
        "        transform = torchvision.transforms.Compose([\n",
        "            torchvision.transforms.ToPILImage(),\n",
        "            torchvision.transforms.ToTensor(),\n",
        "            torchvision.transforms.Normalize([0.485, 0.456, 0.406], [0.229, 0.224, 0.225]),\n",
        "            torchvision.transforms.Resize([224, 224])\n",
        "        ])\n",
        "\n",
        "        # EXTRACT_FREQUENCY = 18\n",
        "        EXTRACT_FREQUENCY = 1\n",
        "\n",
        "        # num_time_steps = int(num_frames / EXTRACT_FREQUENCY)\n",
        "\n",
        "        num_time_steps = 16\n",
        "        # num_time_steps = 4\n",
        "\n",
        "        # (3 x T x H x W), https://pytorch.org/docs/stable/torchvision/models.html\n",
        "        frames = torch.FloatTensor(channels, num_time_steps, 224, 224)\n",
        "\n",
        "        for index in range(0, num_time_steps):\n",
        "            frame = cv2.imread(frames_path[index * EXTRACT_FREQUENCY])\n",
        "            frame = cv2.cvtColor(frame, cv2.COLOR_BGR2RGB)\n",
        "            frame = torch.from_numpy(frame)\n",
        "            frame = frame.permute(2, 0, 1)  # (H x W x C) to (C x H x W)\n",
        "            frame = frame / 255\n",
        "            if frame.shape[2] != 224:\n",
        "                frame = frame[:, :, 80:560]\n",
        "            frame = transform(frame)\n",
        "            frames[:, index, :, :] = frame.float()\n",
        "\n",
        "        return frames.permute(1, 0, 2, 3)\n"
      ],
      "metadata": {
        "id": "eEOPOhYdMKoY"
      },
      "execution_count": 7,
      "outputs": []
    },
    {
      "cell_type": "code",
      "source": [
        "from torch.utils.data import Dataset\n",
        "import pandas as pd\n",
        "import os\n",
        "\n",
        "\n",
        "class VideoDataset(Dataset):\n",
        "\n",
        "    def __init__(self, csv, root, transform=None):\n",
        "\n",
        "        self.dataframe = pd.read_csv(csv)\n",
        "        self.transform = transform\n",
        "        self.root = root\n",
        "\n",
        "    def __len__(self):\n",
        "        return len(self.dataframe)\n",
        "\n",
        "    def __getitem__(self, index):\n",
        "\n",
        "        label = self.dataframe.iloc[index].label\n",
        "        video = os.path.join(self.root, self.dataframe.iloc[index].path)\n",
        "        video = self.transform(video)\n",
        "\n",
        "        return video, label\n"
      ],
      "metadata": {
        "id": "SjJwyUniK3ve"
      },
      "execution_count": 9,
      "outputs": []
    },
    {
      "cell_type": "code",
      "source": [
        "import torchvision\n",
        "from torch.utils.data import DataLoader\n",
        "\n",
        "\n",
        "def generate_dataloader(batch_size, csv, root):\n",
        "    dataset = VideoDataset(csv,\n",
        "                          root,\n",
        "                          transform=torchvision.transforms.Compose([VideoFolderPathToTensor()]))\n",
        "\n",
        "    return DataLoader(dataset,\n",
        "                      batch_size=batch_size,\n",
        "                      shuffle=True,\n",
        "                      num_workers=4)\n",
        "\n"
      ],
      "metadata": {
        "id": "GWFZcgvJMS-q"
      },
      "execution_count": 10,
      "outputs": []
    },
    {
      "cell_type": "code",
      "source": [
        "def get_dataloader(batch_size, csv_train, root_train, csv_test, root_test):\n",
        "    return {\n",
        "        'train': generate_dataloader(batch_size, csv_train, root_train),\n",
        "        'test': generate_dataloader(batch_size, csv_test, root_test)}"
      ],
      "metadata": {
        "id": "CPZvBvY8MUTv"
      },
      "execution_count": 11,
      "outputs": []
    },
    {
      "cell_type": "code",
      "source": [
        "import os\n",
        "from torch.optim.lr_scheduler import StepLR\n",
        "from tqdm import tqdm\n",
        "import torch\n",
        "from torch import nn, optim\n",
        "from sklearn.metrics import confusion_matrix, accuracy_score, roc_auc_score\n",
        "\n",
        "import numpy as np\n",
        "\n",
        "\n",
        "torch.manual_seed(0)\n",
        "num_epochs = 100\n",
        "batch_size = 4\n",
        "lr = .001\n",
        "use_cuda = True\n",
        "device = torch.device(\"cuda\" if use_cuda else \"cpu\")\n",
        "print(\"Device being used:\", device, flush=True)\n",
        "\n"
      ],
      "metadata": {
        "id": "ABpPBtdlMlvd"
      },
      "execution_count": null,
      "outputs": []
    },
    {
      "cell_type": "code",
      "source": [
        "dataloader = get_dataloader(batch_size,\n",
        "                            '/content/Draft_ML_EmotionAPP/pytorch_labels/labels_daisee_train.csv',\n",
        "                            os.path.join(os.getcwd(), '/content/DAiSEE/DAiSEE/DataSet/Data/Train/'),\n",
        "                            '/content/Draft_ML_EmotionAPP/pytorch_labels/labels_daisee_test.csv',\n",
        "                            os.path.join(os.getcwd(), '/content/DAiSEE/DAiSEE/DataSet/Data/Test/'))\n",
        "\n",
        "dataset_sizes = {x: len(dataloader[x].dataset) for x in ['train', 'test']}\n",
        "\n",
        "print(dataset_sizes, flush=True)"
      ],
      "metadata": {
        "colab": {
          "base_uri": "https://localhost:8080/"
        },
        "id": "-Y0HoAyVKEtK",
        "outputId": "81eeeec7-9e5c-44c5-c436-08f0732d87fc"
      },
      "execution_count": 13,
      "outputs": [
        {
          "output_type": "stream",
          "name": "stdout",
          "text": [
            "{'train': 5358, 'test': 1784}\n"
          ]
        }
      ]
    },
    {
      "cell_type": "code",
      "source": [
        "import torch.nn as nn\n",
        "from torch.nn.utils import weight_norm"
      ],
      "metadata": {
        "id": "OW6_0anmNCEZ"
      },
      "execution_count": 14,
      "outputs": []
    },
    {
      "cell_type": "code",
      "source": [
        "\n",
        "class Chomp1d(nn.Module):\n",
        "    def __init__(self, chomp_size):\n",
        "        super(Chomp1d, self).__init__()\n",
        "        self.chomp_size = chomp_size\n",
        "\n",
        "    def forward(self, x):\n",
        "        return x[:, :, :-self.chomp_size].contiguous()\n",
        "\n",
        "\n",
        "class TemporalBlock(nn.Module):\n",
        "    def __init__(self, n_inputs, n_outputs, kernel_size, stride, dilation, padding, dropout=0.2):\n",
        "        super(TemporalBlock, self).__init__()\n",
        "        self.conv1 = weight_norm(nn.Conv1d(n_inputs, n_outputs, kernel_size,\n",
        "                                           stride=stride, padding=padding, dilation=dilation))\n",
        "        self.chomp1 = Chomp1d(padding)\n",
        "        self.relu1 = nn.ReLU()\n",
        "        self.dropout1 = nn.Dropout(dropout)\n",
        "\n",
        "        self.conv2 = weight_norm(nn.Conv1d(n_outputs, n_outputs, kernel_size,\n",
        "                                           stride=stride, padding=padding, dilation=dilation))\n",
        "        self.chomp2 = Chomp1d(padding)\n",
        "        self.relu2 = nn.ReLU()\n",
        "        self.dropout2 = nn.Dropout(dropout)\n",
        "\n",
        "        self.net = nn.Sequential(self.conv1, self.chomp1, self.relu1, self.dropout1,\n",
        "                                 self.conv2, self.chomp2, self.relu2, self.dropout2)\n",
        "        self.downsample = nn.Conv1d(n_inputs, n_outputs, 1) if n_inputs != n_outputs else None\n",
        "        self.relu = nn.ReLU()\n",
        "        self.init_weights()\n",
        "\n",
        "    def init_weights(self):\n",
        "        self.conv1.weight.data.normal_(0, 0.01)\n",
        "        self.conv2.weight.data.normal_(0, 0.01)\n",
        "        if self.downsample is not None:\n",
        "            self.downsample.weight.data.normal_(0, 0.01)\n",
        "\n",
        "    def forward(self, x):\n",
        "        out = self.net(x)\n",
        "        res = x if self.downsample is None else self.downsample(x)\n",
        "        return self.relu(out + res)\n",
        "\n",
        "\n",
        "class TemporalConvNet(nn.Module):\n",
        "    def __init__(self, num_inputs, num_channels, kernel_size=2, dropout=0.2):\n",
        "        super(TemporalConvNet, self).__init__()\n",
        "        layers = []\n",
        "        num_levels = len(num_channels)\n",
        "        for i in range(num_levels):\n",
        "            dilation_size = 2 ** i\n",
        "            in_channels = num_inputs if i == 0 else num_channels[i - 1]\n",
        "            out_channels = num_channels[i]\n",
        "            layers += [TemporalBlock(in_channels, out_channels, kernel_size, stride=1, dilation=dilation_size,\n",
        "                                     padding=(kernel_size - 1) * dilation_size, dropout=dropout)]\n",
        "\n",
        "        self.network = nn.Sequential(*layers)\n",
        "\n",
        "    def forward(self, x):\n",
        "        return self.network(x)"
      ],
      "metadata": {
        "id": "mdsGCsywKwpD"
      },
      "execution_count": 15,
      "outputs": []
    },
    {
      "cell_type": "code",
      "source": [
        "class Identity(nn.Module):\n",
        "    def __init__(self):\n",
        "        super(Identity, self).__init__()\n",
        "\n",
        "    def forward(self, x):\n",
        "        return x\n",
        "\n",
        "\n",
        "class ResTCN(nn.Module):\n",
        "    def __init__(self):\n",
        "        super(ResTCN, self).__init__()\n",
        "\n",
        "        self.spatial_feat_dim = 32\n",
        "        self.num_classes = 4\n",
        "        self.nhid = 128\n",
        "        self.levels = 8\n",
        "        self.kernel_size = 7\n",
        "        self.dropout = .1\n",
        "        self.channel_sizes = [self.nhid] * self.levels\n",
        "\n",
        "        self.tcn = TemporalConvNet(\n",
        "            self.spatial_feat_dim,\n",
        "            self.channel_sizes,\n",
        "            kernel_size=self.kernel_size,\n",
        "            dropout=self.dropout)\n",
        "        self.linear = nn.Linear(self.channel_sizes[-1], self.num_classes)\n",
        "\n",
        "        self.model_conv = torchvision.models.resnet18(pretrained=True)\n",
        "        # for param in self.model_conv.parameters():\n",
        "        #     param.requires_grad = False\n",
        "\n",
        "        num_ftrs = self.model_conv.fc.in_features\n",
        "        # self.model_conv.fc = nn.Linear(num_ftrs, 4)\n",
        "        self.model_conv.fc = nn.Linear(num_ftrs, self.spatial_feat_dim)\n",
        "        # self.model_conv.fc = Identity()\n",
        "\n",
        "        # self.rnn = nn.LSTM(self.spatial_feat_dim, 64, 1, batch_first=True)\n",
        "        # self.linear = nn.Linear(64, 4)\n",
        "\n",
        "    def forward(self, data):\n",
        "        # t = 0\n",
        "        # x = data[:, t, :, :, :]\n",
        "        # output = self.model_conv(x)\n",
        "\n",
        "        z = torch.zeros([data.shape[0], data.shape[1], self.spatial_feat_dim]).cuda()\n",
        "        for t in range(data.size(1)):\n",
        "            x = self.model_conv(data[:, t, :, :, :])\n",
        "            z[:, t, :] = x\n",
        "\n",
        "        # y, _ = self.rnn(z)\n",
        "        # output = self.linear(torch.sum(y, dim=1))\n",
        "\n",
        "        z = z.transpose(1, 2)\n",
        "        y = self.tcn(z)\n",
        "        # output = self.linear(y[:, :, -1])\n",
        "        output = self.linear(torch.sum(y, dim=2))\n",
        "\n",
        "        return output"
      ],
      "metadata": {
        "id": "qNxkDGCRKtN6"
      },
      "execution_count": 16,
      "outputs": []
    },
    {
      "cell_type": "code",
      "source": [
        "from torch.utils.tensorboard import SummaryWriter\n",
        "\n",
        "\n",
        "model = ResTCN().to(device)\n",
        "# optimizer = optim.Adam(model.parameters(), lr=lr)\n",
        "optimizer = optim.SGD(model.parameters(), lr=lr, momentum=0.9)\n",
        "scheduler = StepLR(optimizer, step_size=50, gamma=.1)\n",
        "\n",
        "criterion = nn.CrossEntropyLoss().to(device)\n",
        "softmax = nn.Softmax(dim=1)\n",
        "\n",
        "for epoch in range(num_epochs):\n",
        "    for phase in ['train', 'test']:\n",
        "        running_loss = .0\n",
        "        y_trues = np.empty([0])\n",
        "        y_preds = np.empty([0])\n",
        "        \n",
        "        comment = f' batch_size = {batch_size} lr = {lr} '\n",
        "        tb = SummaryWriter(comment=comment)\n",
        "\n",
        "        if phase == 'train':\n",
        "            model.train()\n",
        "        else:\n",
        "            model.eval()\n",
        "\n",
        "        for inputs, labels in tqdm(dataloader[phase], disable=True):\n",
        "            inputs = inputs.to(device)\n",
        "            labels = labels.long().squeeze().to(device)\n",
        "\n",
        "            with torch.set_grad_enabled(phase == 'train'):\n",
        "                outputs = model(inputs).squeeze()\n",
        "                loss = criterion(outputs, labels)\n",
        "\n",
        "                if phase == 'train':\n",
        "                    optimizer.zero_grad()\n",
        "                    loss.backward()\n",
        "                    optimizer.step()\n",
        "\n",
        "            running_loss += loss.item() * inputs.size(0)\n",
        "            preds = torch.max(softmax(outputs), 1)[1]\n",
        "            y_trues = np.append(y_trues, labels.data.cpu().numpy())\n",
        "            y_preds = np.append(y_preds, preds.cpu())\n",
        "\n",
        "        # if phase == 'train':\n",
        "        #     scheduler.step()\n",
        "\n",
        "        epoch_loss = running_loss / dataset_sizes[phase]\n",
        "        print(\"[{}] Epoch: {}/{} Loss: {} LR: {}\".format(\n",
        "            phase, epoch + 1, num_epochs, epoch_loss, scheduler.get_last_lr()), flush=True)\n",
        "        print('\\naccuracy\\t' + str(accuracy_score(y_trues, y_preds)))\n",
        "        print('\\nconfusion matrix\\n' + str(confusion_matrix(y_trues, y_preds)))\n",
        "        \n",
        "        tb.add_scalar(\"Loss\", epoch_loss, epoch)\n",
        "        tb.add_scalar(\"Accuracy\", accuracy_score(y_trues, y_preds), epoch)\n",
        "\n",
        "        if ((epoch + 1)% 5 == 0 and phase == 'train'):\n",
        "            PATH = (\"/content/Draft_ML_EmotionAPP/model_Torch/model_epoch_{}_acc_{}.pt\".format(epoch + 1,str(accuracy_score(y_trues, y_preds))))\n",
        "            torch.save(model.state_dict(),PATH)\n",
        "tb.close()\n"
      ],
      "metadata": {
        "id": "NmACzdCDKICb",
        "colab": {
          "base_uri": "https://localhost:8080/"
        },
        "outputId": "7545ecf3-3cbf-41cc-b103-25c444c34cab"
      },
      "execution_count": null,
      "outputs": [
        {
          "output_type": "stream",
          "name": "stdout",
          "text": [
            "[train] Epoch: 1/30 Loss: 0.8931150203469909 LR: [0.001]\n",
            "\n",
            "accuracy\t0.5151175811870101\n",
            "\n",
            "confusion matrix\n",
            "[[   0    0   26    8]\n",
            " [   0    0  141   72]\n",
            " [   0    6 1629  982]\n",
            " [   0    1 1362 1131]]\n",
            "[test] Epoch: 1/30 Loss: 0.8601437908651582 LR: [0.001]\n",
            "\n",
            "accuracy\t0.547085201793722\n",
            "\n",
            "confusion matrix\n",
            "[[  0   0   3   1]\n",
            " [  0   0  50  34]\n",
            " [  0   0 727 155]\n",
            " [  0   0 565 249]]\n",
            "[train] Epoch: 2/30 Loss: 0.8584110057256078 LR: [0.001]\n",
            "\n",
            "accuracy\t0.5466592011944755\n",
            "\n",
            "confusion matrix\n",
            "[[   0    0   26    8]\n",
            " [   0    2  136   75]\n",
            " [   0    1 1605 1011]\n",
            " [   0    1 1171 1322]]\n",
            "[test] Epoch: 2/30 Loss: 1.2487445200371636 LR: [0.001]\n",
            "\n",
            "accuracy\t0.4938340807174888\n",
            "\n",
            "confusion matrix\n",
            "[[  0   0   4   0]\n",
            " [  0   0  83   1]\n",
            " [  0   0 881   1]\n",
            " [  0   0 814   0]]\n",
            "[train] Epoch: 3/30 Loss: 0.8489703578528917 LR: [0.001]\n",
            "\n",
            "accuracy\t0.5714818962299365\n",
            "\n",
            "confusion matrix\n",
            "[[   0    0   30    4]\n",
            " [   0    1  168   44]\n",
            " [   0    0 1885  732]\n",
            " [   0    1 1317 1176]]\n",
            "[test] Epoch: 3/30 Loss: 0.9014475796321583 LR: [0.001]\n",
            "\n",
            "accuracy\t0.5381165919282511\n",
            "\n",
            "confusion matrix\n",
            "[[  0   0   1   3]\n",
            " [  0   0  33  51]\n",
            " [  0   0 544 338]\n",
            " [  0   0 398 416]]\n",
            "[train] Epoch: 4/30 Loss: 0.8393264812691615 LR: [0.001]\n",
            "\n",
            "accuracy\t0.5806270996640538\n",
            "\n",
            "confusion matrix\n",
            "[[   0    0   30    4]\n",
            " [   0    0  170   43]\n",
            " [   0    5 1959  653]\n",
            " [   0    1 1341 1152]]\n",
            "[test] Epoch: 4/30 Loss: 0.9022698896214566 LR: [0.001]\n",
            "\n",
            "accuracy\t0.5369955156950673\n",
            "\n",
            "confusion matrix\n",
            "[[  0   0   3   1]\n",
            " [  0   0  53  31]\n",
            " [  0   0 729 153]\n",
            " [  0   0 585 229]]\n"
          ]
        }
      ]
    },
    {
      "cell_type": "code",
      "source": [
        "%load_ext tensorboard"
      ],
      "metadata": {
        "id": "Fej0hugPNPy-"
      },
      "execution_count": null,
      "outputs": []
    },
    {
      "cell_type": "code",
      "source": [
        "%tensorboard --logdir /content/runs"
      ],
      "metadata": {
        "id": "zqAFaIFyNkzB"
      },
      "execution_count": null,
      "outputs": []
    },
    {
      "cell_type": "markdown",
      "source": [
        "## Test Predictions Pytorch RESTCN"
      ],
      "metadata": {
        "id": "cMs2TiR4OY7Q"
      }
    },
    {
      "cell_type": "code",
      "source": [
        ""
      ],
      "metadata": {
        "id": "XSv4N9Ka-Xs9"
      },
      "execution_count": null,
      "outputs": []
    }
  ],
  "metadata": {
    "accelerator": "GPU",
    "colab": {
      "machine_shape": "hm",
      "name": "testing_daisee.ipynb",
      "provenance": [],
      "collapsed_sections": [],
      "history_visible": true,
      "authorship_tag": "ABX9TyNwOTzRh6m/hk7FptDJZ6Xd",
      "include_colab_link": true
    },
    "kernelspec": {
      "display_name": "Python 3",
      "name": "python3"
    },
    "language_info": {
      "name": "python"
    }
  },
  "nbformat": 4,
  "nbformat_minor": 0
}