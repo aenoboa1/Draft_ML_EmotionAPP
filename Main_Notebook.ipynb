{
  "nbformat": 4,
  "nbformat_minor": 0,
  "metadata": {
    "colab": {
      "name": "Copy of Main_Notebook.ipynb",
      "provenance": [],
      "collapsed_sections": [],
      "authorship_tag": "ABX9TyMYdHrCi9d6gEz+3lvcAY4R",
      "include_colab_link": true
    },
    "kernelspec": {
      "name": "python3",
      "display_name": "Python 3"
    },
    "language_info": {
      "name": "python"
    }
  },
  "cells": [
    {
      "cell_type": "markdown",
      "metadata": {
        "id": "view-in-github",
        "colab_type": "text"
      },
      "source": [
        "<a href=\"https://colab.research.google.com/github/aenoboa1/Draft_ML_EmotionAPP/blob/main/Main_Notebook.ipynb\" target=\"_parent\"><img src=\"https://colab.research.google.com/assets/colab-badge.svg\" alt=\"Open In Colab\"/></a>"
      ]
    },
    {
      "cell_type": "markdown",
      "metadata": {
        "id": "DlUP168752bO"
      },
      "source": [
        "# Proyecto de ML para la deteccion de Emociones"
      ]
    },
    {
      "cell_type": "markdown",
      "metadata": {
        "id": "Ivkx1eeHVVw2"
      },
      "source": [
        "\n",
        "Flujo de trabajo a seguir en este proyecto:\n",
        "\n",
        "1. Mirando el panorama general.\n",
        "2. Obtenga los datos.\n",
        "3. Descubra y visualice los datos para obtener información.\n",
        "4. Prepare los datos para los algoritmos de Machine Learning.\n",
        "5. Seleccione un modelo y entrénelo.\n",
        "6. Ajuste su modelo.\n",
        "7. Presente su solución.\n",
        "8. Inicie, supervise y mantenga su sistema "
      ]
    },
    {
      "cell_type": "markdown",
      "source": [
        "# 1. Mirando el panorama general.\n"
      ],
      "metadata": {
        "id": "jZx3VovlNQc9"
      }
    },
    {
      "cell_type": "markdown",
      "source": [
        "-- Describir el problema."
      ],
      "metadata": {
        "id": "22YkUVpPNTTr"
      }
    },
    {
      "cell_type": "markdown",
      "source": [
        "# 2. Obtenga los datos.\n"
      ],
      "metadata": {
        "id": "G2PkroL-NdXE"
      }
    },
    {
      "cell_type": "code",
      "metadata": {
        "id": "hkkSjEw6TLkJ"
      },
      "source": [
        "from google.colab import drive\n"
      ],
      "execution_count": null,
      "outputs": []
    },
    {
      "cell_type": "code",
      "metadata": {
        "colab": {
          "base_uri": "https://localhost:8080/"
        },
        "id": "noSCHw58TNnS",
        "outputId": "439d62c9-2f43-4dcc-d130-1f219433500d"
      },
      "source": [
        "drive.mount('/content/drive')\n"
      ],
      "execution_count": null,
      "outputs": [
        {
          "output_type": "stream",
          "name": "stdout",
          "text": [
            "Mounted at /content/drive\n"
          ]
        }
      ]
    },
    {
      "cell_type": "code",
      "metadata": {
        "id": "r5INNaJ-TVWA"
      },
      "source": [
        "# Install colab_ssh on google colab\n",
        "!pip install colab_ssh --upgrade\n",
        "\n",
        "from colab_ssh import launch_ssh_cloudflared, init_git_cloudflared\n",
        "launch_ssh_cloudflared(password=\"ml_colab\")\n"
      ],
      "execution_count": null,
      "outputs": []
    },
    {
      "cell_type": "code",
      "metadata": {
        "id": "EUgDOsimrWVQ"
      },
      "source": [
        ""
      ],
      "execution_count": null,
      "outputs": []
    },
    {
      "cell_type": "code",
      "metadata": {
        "colab": {
          "base_uri": "https://localhost:8080/"
        },
        "id": "jjFl3O_ZqT7F",
        "outputId": "804bf2c1-24a3-4e43-c5eb-a85b1ffb536e"
      },
      "source": [
        "import os\n",
        "os.chdir(\"/content/drive/\")\n",
        "!ls\n",
        "\n",
        "os.chdir(\"MyDrive/DATA\")\n",
        "!ls\n"
      ],
      "execution_count": null,
      "outputs": [
        {
          "output_type": "stream",
          "name": "stdout",
          "text": [
            "MyDrive  Othercomputers  Shareddrives\n",
            "'archive (1).zip'   datasets    ngrok\n",
            " DAiSEE.zip\t   'jupyter '   ngrok-stable-linux-amd64.zip\n"
          ]
        }
      ]
    },
    {
      "cell_type": "code",
      "metadata": {
        "colab": {
          "base_uri": "https://localhost:8080/"
        },
        "id": "9mqYykZprYPZ",
        "outputId": "19e15168-0397-4468-914a-b88a4dfc0744"
      },
      "source": [
        "!df -h"
      ],
      "execution_count": null,
      "outputs": [
        {
          "output_type": "stream",
          "name": "stdout",
          "text": [
            "Filesystem      Size  Used Avail Use% Mounted on\n",
            "overlay         226G   42G  185G  19% /\n",
            "tmpfs            64M     0   64M   0% /dev\n",
            "shm             5.8G     0  5.8G   0% /dev/shm\n",
            "/dev/root       2.0G  1.2G  821M  59% /sbin/docker-init\n",
            "tmpfs           6.4G   36K  6.4G   1% /var/colab\n",
            "/dev/sda1       233G   45G  188G  20% /etc/hosts\n",
            "tmpfs           6.4G     0  6.4G   0% /proc/acpi\n",
            "tmpfs           6.4G     0  6.4G   0% /proc/scsi\n",
            "tmpfs           6.4G     0  6.4G   0% /sys/firmware\n",
            "drive           226G   51G  175G  23% /content/drive\n"
          ]
        }
      ]
    },
    {
      "cell_type": "code",
      "metadata": {
        "id": "KceIgQHxUEjg"
      },
      "source": [
        "!unzip DAiSEE.zip -d /home/daisee/"
      ],
      "execution_count": null,
      "outputs": []
    },
    {
      "cell_type": "markdown",
      "metadata": {
        "id": "881o-2otrko8"
      },
      "source": [
        "## Data Selection"
      ]
    },
    {
      "cell_type": "code",
      "metadata": {
        "colab": {
          "base_uri": "https://localhost:8080/"
        },
        "id": "DtaqoebU0ake",
        "outputId": "c825ea2c-8ec3-475b-da9e-643477a21b18"
      },
      "source": [
        "os.chdir(\"/content/drive/MyDrive/DATA/datasets/DAiSEE/Data/\")\n",
        "\n",
        "!ls -l"
      ],
      "execution_count": null,
      "outputs": [
        {
          "output_type": "stream",
          "name": "stdout",
          "text": [
            "total 139\n",
            "drwx------ 2 root root  4096 Dec  7 13:58 Data\n",
            "-rw------- 1 root root  1123 Apr  6  2018 extractFrames.py\n",
            "-rw------- 1 root root 27969 Sep 25  2017 Test.txt\n",
            "-rw------- 1 root root 82082 Apr  6  2018 Train.txt\n",
            "-rw------- 1 root root 25847 Sep 25  2017 Validation.txt\n"
          ]
        }
      ]
    },
    {
      "cell_type": "code",
      "metadata": {
        "colab": {
          "base_uri": "https://localhost:8080/"
        },
        "id": "PVtKGKdcKNBe",
        "outputId": "b4c1aec0-7e82-49d6-f586-68750c7dc11d"
      },
      "source": [
        "!cat extractFrames.py"
      ],
      "execution_count": null,
      "outputs": [
        {
          "output_type": "stream",
          "name": "stdout",
          "text": [
            "'''\n",
            "\t-The given code extracts all the frames for the entire dataset and saves these frames in the folder of the video clips.\n",
            "\t-Kindly have ffmpeg (https://www.ffmpeg.org/) (all credits) in order to successfully execute this script.\n",
            "\t-The script must in the a same directory as the Dataset Folder.\n",
            "'''\n",
            "\n",
            "import os\n",
            "import subprocess\n",
            "\n",
            "dataset = os.listdir('Data/')\n",
            "\n",
            "def split_video(video_file, image_name_prefix, destination_path):\n",
            "    return subprocess.check_output('ffmpeg -i \"' + destination_path+video_file + '\" ' + image_name_prefix + '%d.jpg -hide_banner', shell=True, cwd=destination_path)\n",
            "\n",
            "for ttv in dataset:\n",
            "    users = os.listdir('Data/'+ttv+'/')\n",
            "    for user in users:\n",
            "        currUser = os.listdir('Data/'+ttv+'/'+user+'/')\n",
            "        for extract in currUser:\n",
            "            clip = os.listdir('Data/'+ttv+'/'+user+'/'+extract+'/')[0]\n",
            "            print (clip[:-4])\n",
            "            path = os.path.abspath('.')+'/Data/'+ttv+'/'+user+'/'+extract+'/'\n",
            "            split_video(clip, clip[:-4], path)\n",
            "\n",
            "print (\"================================================================================\\n\")\n",
            "print (\"Frame Extraction Successful\")"
          ]
        }
      ]
    },
    {
      "cell_type": "code",
      "metadata": {
        "colab": {
          "base_uri": "https://localhost:8080/"
        },
        "id": "kes8AchGKeMP",
        "outputId": "90bd59b4-8ef3-47ff-e237-a2e67ebce830"
      },
      "source": [
        "!sudo apt-get install ffmpeg "
      ],
      "execution_count": null,
      "outputs": [
        {
          "output_type": "stream",
          "name": "stdout",
          "text": [
            "Reading package lists... Done\n",
            "Building dependency tree       \n",
            "Reading state information... Done\n",
            "ffmpeg is already the newest version (7:3.4.8-0ubuntu0.2).\n",
            "0 upgraded, 0 newly installed, 0 to remove and 37 not upgraded.\n"
          ]
        }
      ]
    },
    {
      "cell_type": "markdown",
      "metadata": {
        "id": "18nL_ABKNumg"
      },
      "source": [
        "## Extrayendo los Frames del Dataset"
      ]
    },
    {
      "cell_type": "code",
      "metadata": {
        "id": "HiM4wTqH0odN"
      },
      "source": [
        "!python extractFrames.py\n"
      ],
      "execution_count": null,
      "outputs": []
    },
    {
      "cell_type": "code",
      "metadata": {
        "colab": {
          "base_uri": "https://localhost:8080/",
          "height": 35
        },
        "id": "nk_SJHI2_4dh",
        "outputId": "f69928e5-3754-4999-e134-c2ee713797f7"
      },
      "source": [
        "import torch\n",
        " \n",
        "torch.cuda.get_device_name(device=None)"
      ],
      "execution_count": null,
      "outputs": [
        {
          "output_type": "execute_result",
          "data": {
            "application/vnd.google.colaboratory.intrinsic+json": {
              "type": "string"
            },
            "text/plain": [
              "'Tesla K80'"
            ]
          },
          "metadata": {},
          "execution_count": 1
        }
      ]
    },
    {
      "cell_type": "code",
      "metadata": {
        "colab": {
          "base_uri": "https://localhost:8080/"
        },
        "id": "VaOFDeu4kkeL",
        "outputId": "d8107892-afc7-46fb-f5e6-a7aa959d1f8d"
      },
      "source": [
        "!free -h"
      ],
      "execution_count": null,
      "outputs": [
        {
          "output_type": "stream",
          "name": "stdout",
          "text": [
            "              total        used        free      shared  buff/cache   available\n",
            "Mem:            12G        575M         10G        1.2M        2.0G         11G\n",
            "Swap:            0B          0B          0B\n"
          ]
        }
      ]
    }
  ]
}