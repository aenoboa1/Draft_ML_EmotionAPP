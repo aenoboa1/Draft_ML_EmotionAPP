{
  "nbformat": 4,
  "nbformat_minor": 0,
  "metadata": {
    "colab": {
      "name": "Untitled6.ipynb",
      "provenance": [],
      "authorship_tag": "ABX9TyOJKcdWzBtJI9WzoVfiN0s0",
      "include_colab_link": true
    },
    "kernelspec": {
      "name": "python3",
      "display_name": "Python 3"
    },
    "language_info": {
      "name": "python"
    }
  },
  "cells": [
    {
      "cell_type": "markdown",
      "metadata": {
        "id": "view-in-github",
        "colab_type": "text"
      },
      "source": [
        "<a href=\"https://colab.research.google.com/github/aenoboa1/Draft_ML_EmotionAPP/blob/main/testing_daisee_XCeption.ipynb\" target=\"_parent\"><img src=\"https://colab.research.google.com/assets/colab-badge.svg\" alt=\"Open In Colab\"/></a>"
      ]
    },
    {
      "cell_type": "markdown",
      "source": [
        "###  Engagement Recognition  | Train Code - XCeption Test"
      ],
      "metadata": {
        "id": "n6fWGa8-7imA"
      }
    },
    {
      "cell_type": "markdown",
      "source": [
        "#### Transformando dataset a TFRecords para el training"
      ],
      "metadata": {
        "id": "X_KUMGnnINym"
      }
    },
    {
      "cell_type": "code",
      "execution_count": null,
      "metadata": {
        "colab": {
          "base_uri": "https://localhost:8080/"
        },
        "id": "xpD86UFloVPl",
        "outputId": "26495ddc-29ff-440b-8e62-ecdfe3fd1987"
      },
      "outputs": [
        {
          "output_type": "stream",
          "name": "stdout",
          "text": [
            "Cloning into 'Engagement-recognition-using-DAISEE-dataset'...\n",
            "remote: Enumerating objects: 79, done.\u001b[K\n",
            "remote: Counting objects: 100% (79/79), done.\u001b[K\n",
            "remote: Compressing objects: 100% (62/62), done.\u001b[K\n",
            "remote: Total 79 (delta 33), reused 47 (delta 13), pack-reused 0\u001b[K\n",
            "Unpacking objects: 100% (79/79), done.\n"
          ]
        }
      ],
      "source": [
        "!git clone https://github.com/aenoboa1/Engagement-recognition-using-DAISEE-dataset"
      ]
    },
    {
      "cell_type": "code",
      "source": [
        "from __future__ import absolute_import, division, print_function, unicode_literals\n",
        "import tensorflow as tf\n",
        "import numpy as np\n",
        "import cv2\n",
        "import os\n",
        "from tqdm import tqdm\n",
        "import tensorflow_datasets as tfds\n",
        "import pandas as pd\n",
        "import random\n",
        "\n",
        "\n",
        "AUTOTUNE = tf.data.experimental.AUTOTUNE\n",
        "batch_size = 32\n",
        "np.random.seed(0)"
      ],
      "metadata": {
        "id": "nEo-ehSOIT3M"
      },
      "execution_count": null,
      "outputs": []
    },
    {
      "cell_type": "code",
      "source": [
        "class DataPreprocessing:\n",
        "    def __init__(self,\n",
        "                 IMG_HEIGHT=224,\n",
        "                 IMG_WIDTH=224,\n",
        "                 dataset_dir='/content/DAiSEE/DAiSEE/DataSet/Data/',\n",
        "                 test_dir='Test/',\n",
        "                 train_dir='Train/',\n",
        "                 val_dir='Validation/',\n",
        "                 labels_dir='/content/DAiSEE/DAiSEE/Labels/',\n",
        "                 test_label='TestLabels.csv',\n",
        "                 train_label='TrainLabels.csv',\n",
        "                 val_label='ValidationLabels.csv',\n",
        "                 data_augmentation_flag=False,\n",
        "                 max_frames=3\n",
        "                 ):\n",
        "        self.IMG_HEIGHT = IMG_HEIGHT\n",
        "        self.IMG_WIDTH = IMG_WIDTH\n",
        "        self.dataset_dir = dataset_dir\n",
        "        self.train_dir = self.dataset_dir+train_dir\n",
        "        self.test_dir = self.dataset_dir+test_dir\n",
        "        self.val_dir = self.dataset_dir+val_dir\n",
        "        self.labels_dir = labels_dir\n",
        "        self.train_label_dir = self.labels_dir + train_label\n",
        "        self.test_label_dir = self.labels_dir + test_label\n",
        "        self.val_label_dir = self.labels_dir + val_label\n",
        "        self.data_augmentation_flag = data_augmentation_flag\n",
        "        self.max_frames = max_frames\n",
        "        self.face_cascade = cv2.CascadeClassifier('/content/Engagement-recognition-using-DAISEE-dataset/dataset/haarcascade_frontalface_default.xml')\n",
        "\n",
        "    def get_images_from_set_dir(self, setdir):\n",
        "        '''\n",
        "        Method to find all images in the tree folder\n",
        "        '''\n",
        "        set_dir_images = []\n",
        "        humans = os.listdir(setdir)\n",
        "        for human in humans:\n",
        "            human_dir = setdir + human + \"/\"\n",
        "            videos = os.listdir(human_dir)\n",
        "            for video in videos:\n",
        "                video_dir = human_dir + video + \"/\"\n",
        "                pictures = os.listdir(video_dir)\n",
        "                pictures = random.sample(pictures, self.max_frames)\n",
        "                for picture in pictures:\n",
        "                    picture_dir = video_dir + picture\n",
        "                    if picture.endswith(\".jpg\"):\n",
        "                        set_dir_images.append(picture_dir)\n",
        "        return set_dir_images\n",
        "\n",
        "    def get_labels_dataframe(self):\n",
        "        '''\n",
        "        Method to read pandas dataframe\n",
        "        '''\n",
        "        train_df = pd.read_csv(self.train_label_dir, sep=\",\")\n",
        "        test_df = pd.read_csv(self.test_label_dir, sep=\",\")\n",
        "        val_df = pd.read_csv(self.val_label_dir, sep=\",\")\n",
        "        return train_df, test_df, val_df\n",
        "\n",
        "    def resize(self, image):\n",
        "        return cv2.resize(image, (self.IMG_HEIGHT, self.IMG_WIDTH), interpolation=cv2.INTER_AREA)\n",
        "\n",
        "    def face_cropping(self, image):\n",
        "        # Crop and resize\n",
        "        faces = self.face_cascade.detectMultiScale(image, 1.3, 5)\n",
        "        try:\n",
        "            if faces != 0:\n",
        "                x, y, w, h = faces[0]\n",
        "                image = image[y:y+h, x:x+w]\n",
        "        except:\n",
        "            pass\n",
        "        return self.resize(image)\n",
        "\n",
        "    def random_crop(self, image, crop_height, crop_width):\n",
        "        max_x = image.shape[1] - crop_width\n",
        "        max_y = image.shape[0] - crop_height\n",
        "\n",
        "        x = np.random.randint(0, max_x)\n",
        "        y = np.random.randint(0, max_y)\n",
        "\n",
        "        crop = image[y: y + crop_height, x: x + crop_width]\n",
        "\n",
        "        return self.face_cropping(crop)\n",
        "\n",
        "\n",
        "    def augment_image(self, image):\n",
        "        '''\n",
        "        Applies some augmentation techniques\n",
        "        '''\n",
        "        # Mirror flip\n",
        "        flipped = tf.image.flip_left_right(image).numpy()\n",
        "        # Transpose flip\n",
        "        transposed = tf.image.transpose(image).numpy()\n",
        "        # Saturation\n",
        "        satured = tf.image.adjust_saturation(image, 3).numpy()\n",
        "        # Brightness\n",
        "        brightness = tf.image.adjust_brightness(image, 0.4).numpy()\n",
        "        # Contrast\n",
        "        contrast = tf.image.random_contrast(image, lower=0.0, upper=1.0).numpy()\n",
        "        # Resize at the end\n",
        "        images = [self.resize(image) for image in [flipped, transposed, satured, brightness, contrast]]\n",
        "        return images\n",
        "\n",
        "\n",
        "    def get_label_picture(self, image_path, label_df):\n",
        "        error_ = False\n",
        "        video = image_path.split(\"/\")[-2]\n",
        "        label_series = label_df.loc[((label_df['ClipID'] == video+'.avi') | (label_df['ClipID'] == video+'.mp4'))]\n",
        "        try:\n",
        "            index = label_series.index.values[0]\n",
        "            label = np.array([label_series['Boredom'].get(index),\n",
        "                              label_series['Engagement'].get(index),\n",
        "                              label_series['Confusion'].get(index),\n",
        "                              label_series['Frustration '].get(index)])\n",
        "            label_one_hot = (label >= 1).astype(np.uint8)\n",
        "        except:\n",
        "            print('Error in label picture')\n",
        "            print(image_path)\n",
        "            label_one_hot = ''\n",
        "            error_ = True\n",
        "        return label_one_hot, error_\n",
        "\n",
        "    def _int64_feature(self, value):\n",
        "        return tf.train.Feature(int64_list=tf.train.Int64List(value=[value]))\n",
        "\n",
        "    def _bytes_feature(self, value):\n",
        "        return tf.train.Feature(bytes_list=tf.train.BytesList(value=[value]))\n",
        "\n",
        "    def writeTfRecord(self, output_dir, data_augmentation=False):\n",
        "        '''\n",
        "        Method to write tfrecord\n",
        "        '''\n",
        "        # open the TFRecords file\n",
        "        if not os.path.exists(output_dir):\n",
        "            os.makedirs(output_dir)\n",
        "\n",
        "        # Read dataframes\n",
        "        train_df, test_df, val_df = self.get_labels_dataframe()\n",
        "\n",
        "        # Objects to iterate\n",
        "        objs = [('train', self.train_dir, train_df),\n",
        "                ('test', self.test_dir, test_df),\n",
        "                ('val', self.val_dir, val_df)]\n",
        "\n",
        "        for name, dataset, label_df in tqdm(objs):\n",
        "            # Open Writer\n",
        "            writer = tf.io.TFRecordWriter(output_dir+name+'.tfrecords')\n",
        "            # Get all the images of a set\n",
        "            images_path = self.get_images_from_set_dir(dataset)\n",
        "            for image_path in tqdm(images_path, total=len(images_path)):\n",
        "                # Read the image from path\n",
        "                img = cv2.imread(image_path)[..., ::-1]\n",
        "                img = self.face_cropping(img)\n",
        "                # Read the label\n",
        "                label, error_ = self.get_label_picture(image_path, label_df)\n",
        "                if error_:\n",
        "                    continue\n",
        "                # Create a feature\n",
        "                if data_augmentation:\n",
        "                    images = self.augment_image(img)\n",
        "                else:\n",
        "                    images = img\n",
        "                for image in images:\n",
        "                    feature = {'label': self._bytes_feature(tf.compat.as_bytes(label.tostring())),\n",
        "                               'image': self._bytes_feature(tf.compat.as_bytes(image.tostring()))}\n",
        "                    # Create an example protocol buffer\n",
        "                    example = tf.train.Example(features=tf.train.Features(feature=feature))\n",
        "\n",
        "                    # Serialize to string and write on the file\n",
        "                    writer.write(example.SerializeToString())\n",
        "            writer.close()\n",
        "\n",
        "    def decode(self, serialized_example):\n",
        "        \"\"\"\n",
        "        Parses an image and label from the given `serialized_example`.\n",
        "        It is used as a map function for `dataset.map`\n",
        "        \"\"\"\n",
        "        IMAGE_SHAPE = (self.IMG_HEIGHT, self.IMG_WIDTH, 3)\n",
        "\n",
        "        # 1. define a parser\n",
        "        features = tf.io.parse_single_example(\n",
        "            serialized_example,\n",
        "            # Defaults are not specified since both keys are required.\n",
        "            features={\n",
        "                'image': tf.io.FixedLenFeature([], tf.string),\n",
        "                'label': tf.io.FixedLenFeature([], tf.string),\n",
        "            })\n",
        "\n",
        "        # 2. Convert the data\n",
        "        image = tf.io.decode_raw(features['image'], tf.uint8)\n",
        "        label = tf.io.decode_raw(features['label'], tf.uint8)\n",
        "\n",
        "        # Cast\n",
        "        label = tf.cast(label, tf.float32)\n",
        "\n",
        "        # 3. reshape\n",
        "        image = tf.convert_to_tensor(tf.reshape(image, IMAGE_SHAPE))\n",
        "\n",
        "        return image, label"
      ],
      "metadata": {
        "id": "2esjD_FkIXMB"
      },
      "execution_count": null,
      "outputs": []
    },
    {
      "cell_type": "code",
      "source": [
        "preprocessing_class = DataPreprocessing()\n",
        "# Write tf recordfloat32\n",
        "preprocessing_class.writeTfRecord('tfrecords/', data_augmentation=True)\n",
        "\n",
        "# Read TfRecord\n",
        "tfrecord_path = 'tfrecords/train.tfrecords'\n",
        "dataset = tf.data.TFRecordDataset(tfrecord_path)\n",
        "\n",
        "# Parse the record into tensors with map.\n",
        "# map takes a Python function and applies it to every sample.\n",
        "dataset = dataset.map(preprocessing_class.decode)\n",
        "\n",
        "# Divide in batch\n",
        "dataset = dataset.batch(batch_size)\n",
        "\n",
        "# Create an iterator\n",
        "iterator = iter(dataset)\n",
        "\n",
        "# Element of iterator\n",
        "a = iterator.get_next()"
      ],
      "metadata": {
        "id": "2ArJmr-AIcd6"
      },
      "execution_count": null,
      "outputs": []
    },
    {
      "cell_type": "code",
      "source": [
        "! zip -r tfrecords.zip /content/tfrecords ; cp tfrecords.zip /content/drive/MyDrive/DATA # SAVE TFRECORDS"
      ],
      "metadata": {
        "id": "hSY-AhHfwniQ",
        "outputId": "af06e3d7-ae98-4bb8-ffe5-787d2712d6fa",
        "colab": {
          "base_uri": "https://localhost:8080/"
        }
      },
      "execution_count": null,
      "outputs": [
        {
          "output_type": "stream",
          "name": "stdout",
          "text": [
            "  adding: content/tfrecords/ (stored 0%)\n",
            "  adding: content/tfrecords/test.tfrecords (deflated 73%)\n",
            "  adding: content/tfrecords/train.tfrecords (deflated 63%)\n",
            "  adding: content/tfrecords/val.tfrecords (deflated 78%)\n"
          ]
        }
      ]
    },
    {
      "cell_type": "code",
      "source": [
        "!python /content/Engagement-recognition-using-DAISEE-dataset/daisee_data_preprocessing.py #PREPROCESS DATA"
      ],
      "metadata": {
        "id": "oudxztXe189q"
      },
      "execution_count": null,
      "outputs": []
    },
    {
      "cell_type": "code",
      "source": [
        "!python /content/Engagement-recognition-using-DAISEE-dataset/train.py #TRAIN FILE"
      ],
      "metadata": {
        "id": "QehEx7mPABCx"
      },
      "execution_count": null,
      "outputs": []
    },
    {
      "cell_type": "code",
      "source": [
        "import numpy as np\n",
        "import tensorflow as tf\n",
        "import tensorflow.keras.layers as kl\n",
        "import tensorflow.keras.losses\n",
        "from tensorflow.keras.applications.resnet50 import ResNet50\n"
      ],
      "metadata": {
        "id": "1jLOOoYu7kng"
      },
      "execution_count": null,
      "outputs": []
    },
    {
      "cell_type": "code",
      "source": [
        "!wget https://raw.githubusercontent.com/aenoboa1/Engagement-recognition-using-DAISEE-dataset/master/daisee_data_preprocessing.py"
      ],
      "metadata": {
        "colab": {
          "base_uri": "https://localhost:8080/"
        },
        "id": "LigVvoqs93Zi",
        "outputId": "1c399faf-b37b-49ef-8147-c91389ba1d01"
      },
      "execution_count": null,
      "outputs": [
        {
          "output_type": "stream",
          "name": "stdout",
          "text": [
            "--2022-01-02 03:07:52--  https://raw.githubusercontent.com/aenoboa1/Engagement-recognition-using-DAISEE-dataset/master/daisee_data_preprocessing.py\n",
            "Resolving raw.githubusercontent.com (raw.githubusercontent.com)... 185.199.108.133, 185.199.110.133, 185.199.109.133, ...\n",
            "Connecting to raw.githubusercontent.com (raw.githubusercontent.com)|185.199.108.133|:443... connected.\n",
            "HTTP request sent, awaiting response... 200 OK\n",
            "Length: 8681 (8.5K) [text/plain]\n",
            "Saving to: ‘daisee_data_preprocessing.py’\n",
            "\n",
            "\r          daisee_da   0%[                    ]       0  --.-KB/s               \rdaisee_data_preproc 100%[===================>]   8.48K  --.-KB/s    in 0s      \n",
            "\n",
            "2022-01-02 03:07:52 (84.2 MB/s) - ‘daisee_data_preprocessing.py’ saved [8681/8681]\n",
            "\n"
          ]
        }
      ]
    },
    {
      "cell_type": "code",
      "source": [
        "from daisee_data_preprocessing import DataPreprocessing\n",
        "import datetime\n",
        "import os\n",
        "from tqdm import tqdm"
      ],
      "metadata": {
        "id": "z5fhuSPF9z1h"
      },
      "execution_count": null,
      "outputs": []
    },
    {
      "cell_type": "code",
      "source": [
        "BATCH_SIZE = 32\n",
        "LR = 0.005\n",
        "EPOCHS = 10"
      ],
      "metadata": {
        "id": "LjXlBA2K_EOe"
      },
      "execution_count": null,
      "outputs": []
    },
    {
      "cell_type": "code",
      "source": [
        "current_time = datetime.datetime.now().strftime(\"%Y%m%d-%H%M%S\")\n",
        "checkpoint_dir = 'checkpoints/'\n",
        "log_dir = 'logs/'\n"
      ],
      "metadata": {
        "id": "IY_Vfesl_T3C"
      },
      "execution_count": null,
      "outputs": []
    },
    {
      "cell_type": "code",
      "source": [
        "preprocessing_class = DataPreprocessing()\n"
      ],
      "metadata": {
        "id": "hIvMzsIs_e8J"
      },
      "execution_count": null,
      "outputs": []
    },
    {
      "cell_type": "code",
      "source": [
        "# Open train set\n",
        "tfrecord_path = '/content/tfrecords/test.tfrecords'\n",
        "train_set = tf.data.TFRecordDataset(tfrecord_path)\n",
        "# Parse the record into tensors with map.\n",
        "train_set = train_set.map(preprocessing_class.decode)\n",
        "train_set = train_set.shuffle(1)\n",
        "train_set = train_set.batch(BATCH_SIZE)"
      ],
      "metadata": {
        "id": "Z5ua2zTq_i7t"
      },
      "execution_count": null,
      "outputs": []
    },
    {
      "cell_type": "code",
      "source": [
        "# Open test set\n",
        "tfrecord_path = '/content/tfrecords/train.tfrecords'\n",
        "test_set = tf.data.TFRecordDataset(tfrecord_path)\n",
        "# Parse the record into tensors with map.\n",
        "test_set = test_set.map(preprocessing_class.decode)\n",
        "test_set = test_set.shuffle(1)\n",
        "test_set = test_set.batch(BATCH_SIZE)"
      ],
      "metadata": {
        "id": "kJLv34y-_jZQ"
      },
      "execution_count": null,
      "outputs": []
    },
    {
      "cell_type": "code",
      "source": [
        "# Open val set\n",
        "tfrecord_path = '/content/tfrecords/val.tfrecords'\n",
        "val_set = tf.data.TFRecordDataset(tfrecord_path)\n",
        "# Parse the record into tensors with map.\n",
        "val_set = val_set.map(preprocessing_class.decode)\n",
        "val_set = val_set.shuffle(1)\n",
        "val_set = val_set.batch(BATCH_SIZE)"
      ],
      "metadata": {
        "id": "QQM8s8Aa_lyV"
      },
      "execution_count": null,
      "outputs": []
    },
    {
      "cell_type": "code",
      "source": [
        "from imblearn.over_sampling import SMOTE\n",
        "sm = SMOTE(random_state=1)\n",
        "X_smote = sm.fit_resample(train_set)\n",
        "\n"
      ],
      "metadata": {
        "colab": {
          "base_uri": "https://localhost:8080/",
          "height": 217
        },
        "id": "qZb9eVwF1J7N",
        "outputId": "c32c3423-9cc7-4e0e-8707-b70e026ea46f"
      },
      "execution_count": null,
      "outputs": [
        {
          "output_type": "error",
          "ename": "TypeError",
          "evalue": "ignored",
          "traceback": [
            "\u001b[0;31m---------------------------------------------------------------------------\u001b[0m",
            "\u001b[0;31mTypeError\u001b[0m                                 Traceback (most recent call last)",
            "\u001b[0;32m<ipython-input-52-d9bd07ceae2b>\u001b[0m in \u001b[0;36m<module>\u001b[0;34m()\u001b[0m\n\u001b[1;32m      1\u001b[0m \u001b[0;32mfrom\u001b[0m \u001b[0mimblearn\u001b[0m\u001b[0;34m.\u001b[0m\u001b[0mover_sampling\u001b[0m \u001b[0;32mimport\u001b[0m \u001b[0mSMOTE\u001b[0m\u001b[0;34m\u001b[0m\u001b[0;34m\u001b[0m\u001b[0m\n\u001b[1;32m      2\u001b[0m \u001b[0msm\u001b[0m \u001b[0;34m=\u001b[0m \u001b[0mSMOTE\u001b[0m\u001b[0;34m(\u001b[0m\u001b[0mrandom_state\u001b[0m\u001b[0;34m=\u001b[0m\u001b[0;36m1\u001b[0m\u001b[0;34m)\u001b[0m\u001b[0;34m\u001b[0m\u001b[0;34m\u001b[0m\u001b[0m\n\u001b[0;32m----> 3\u001b[0;31m \u001b[0mX_smote\u001b[0m \u001b[0;34m=\u001b[0m \u001b[0msm\u001b[0m\u001b[0;34m.\u001b[0m\u001b[0mfit_resample\u001b[0m\u001b[0;34m(\u001b[0m\u001b[0mtrain_set\u001b[0m\u001b[0;34m)\u001b[0m\u001b[0;34m\u001b[0m\u001b[0;34m\u001b[0m\u001b[0m\n\u001b[0m\u001b[1;32m      4\u001b[0m \u001b[0;34m\u001b[0m\u001b[0m\n",
            "\u001b[0;31mTypeError\u001b[0m: fit_resample() missing 1 required positional argument: 'y'"
          ]
        }
      ]
    },
    {
      "cell_type": "code",
      "source": [
        "def create_log_dir(log_dir, checkpoint_dir):\n",
        "    if not os.path.exists(log_dir):\n",
        "        os.mkdir(log_dir)\n",
        "    if not os.path.exists(checkpoint_dir):\n",
        "        os.mkdir(checkpoint_dir)"
      ],
      "metadata": {
        "id": "zNVgWRnZ_mu3"
      },
      "execution_count": null,
      "outputs": []
    },
    {
      "cell_type": "code",
      "source": [
        "BATCH_SIZE = 32\n",
        "LR = 0.005\n",
        "EPOCHS = 20"
      ],
      "metadata": {
        "id": "fJlyQxma4kB5"
      },
      "execution_count": null,
      "outputs": []
    },
    {
      "cell_type": "code",
      "source": [
        "from tensorflow.keras.applications.resnet50 import ResNet50\n",
        "from tensorflow.keras.applications.vgg16 import VGG16\n"
      ],
      "metadata": {
        "id": "nTC6EAgp4_I3"
      },
      "execution_count": null,
      "outputs": []
    },
    {
      "cell_type": "code",
      "source": [
        "def build_model():\n",
        "    model = tf.keras.Sequential()\n",
        "    model.add(kl.InputLayer(input_shape=(224, 224, 3)))\n",
        "    if use_pretrained:\n",
        "        if pretrained_name == 'vgg':\n",
        "            vgg = VGG16(weights='imagenet', input_shape=(224, 224, 3), include_top=False)\n",
        "            vgg.trainable = False\n",
        "            model.add(vgg)\n",
        "        if pretrained_name == 'mobilenet':\n",
        "            mobnet = MobileNetV2(weights='imagenet', input_shape=(224, 224, 3), include_top=False)\n",
        "            mobnet.trainable = False\n",
        "            model.add(mobnet)\n",
        "    else:\n",
        "        # First conv block\n",
        "        model.add(kl.Conv2D(filters=128, kernel_size=3, padding='same', strides=2))\n",
        "        model.add(tf.keras.layers.ReLU())\n",
        "        model.add(kl.MaxPooling2D(pool_size=(2, 2)))\n",
        "        # Second conv block\n",
        "        model.add(kl.Conv2D(filters=256, kernel_size=3, padding='same', strides=2))\n",
        "        model.add(tf.keras.layers.ReLU())\n",
        "        model.add(kl.MaxPooling2D(pool_size=(2, 2)))\n",
        "        # Third conv block\n",
        "        model.add(kl.Conv2D(filters=512, kernel_size=3, padding='same', strides=2))\n",
        "        model.add(tf.keras.layers.ReLU())\n",
        "        model.add(kl.MaxPooling2D(pool_size=(2, 2)))\n",
        "    # Flatten\n",
        "    model.add(kl.Flatten())\n",
        "    # First FC\n",
        "    model.add(kl.Dense(1024))\n",
        "    # Second Fc\n",
        "    model.add(kl.Dense(256))\n",
        "    # Output FC with sigmoid at the end\n",
        "    model.add(kl.Dense(4, activation='sigmoid', name='prediction'))\n",
        "\n",
        "    optimizer = keras.optimizers.RMSprop(learning_rate=LR)\n",
        "\n",
        "    loss = keras.losses.CategoricalCrossentropy(from_logits=False)\n",
        "\n",
        "    model.compile(optimizer=optimizer, loss=loss, metrics=['accuracy'])\n",
        "\n",
        "\n",
        "    return model"
      ],
      "metadata": {
        "id": "B6u1hinj5Lhy"
      },
      "execution_count": null,
      "outputs": []
    },
    {
      "cell_type": "code",
      "source": [
        "# Loading the necessary libraries\n",
        "import numpy as np\n",
        "import matplotlib.pyplot as plt\n",
        "import os \n",
        "import tensorflow as tf\n",
        "from tensorflow import keras\n",
        "from tensorflow.keras.applications.xception import Xception\n",
        "from tensorflow.keras.applications.xception import preprocess_input\n",
        "from tensorflow.keras.applications.xception import decode_predictions\n",
        "import visualkeras\n",
        "import pandas as pd\n",
        "import seaborn as sns\n",
        "\n",
        "from tensorflow.keras.preprocessing.image import ImageDataGenerator\n",
        "from tensorflow.keras.applications.xception import preprocess_input\n"
      ],
      "metadata": {
        "id": "dAbQQAEHRYbp"
      },
      "execution_count": null,
      "outputs": []
    },
    {
      "cell_type": "code",
      "source": [
        "def build_model(alpha=0.01):\n",
        "    base_model = Xception(\n",
        "        weights='imagenet',\n",
        "        include_top=False,\n",
        "        input_shape=(224, 224, 3)\n",
        "    )\n",
        "\n",
        "    base_model.trainable = False\n",
        "\n",
        "    # actual model \n",
        "\n",
        "\n",
        "\n",
        "    inputs = keras.Input(shape=(224, 224, 3))\n",
        "    base = base_model(inputs, training=False)\n",
        "    vectors = keras.layers.GlobalAveragePooling2D()(base)\n",
        "    outputs = keras.layers.Dense(4,activation='softmax')(vectors)\n",
        "    model = keras.Model(inputs, outputs)\n",
        "    optimizer = keras.optimizers.RMSprop(learning_rate=alpha)\n",
        "\n",
        "    loss = keras.losses.CategoricalCrossentropy(from_logits=False)\n",
        "    model.compile(optimizer=optimizer, loss=loss, metrics=['accuracy'])\n",
        "\n",
        "\n",
        "\n",
        "    return model"
      ],
      "metadata": {
        "id": "wvp5E9OuRTOi"
      },
      "execution_count": null,
      "outputs": []
    },
    {
      "cell_type": "code",
      "source": [
        ""
      ],
      "metadata": {
        "id": "_UFU7MytKtVL"
      },
      "execution_count": null,
      "outputs": []
    },
    {
      "cell_type": "code",
      "source": [
        "use_pretrained = True\n",
        "pretrained_name = 'vgg'\n"
      ],
      "metadata": {
        "id": "C61z84AA5Xso"
      },
      "execution_count": null,
      "outputs": []
    },
    {
      "cell_type": "code",
      "source": [
        "model = build_model()"
      ],
      "metadata": {
        "id": "XppD67nO32by"
      },
      "execution_count": null,
      "outputs": []
    },
    {
      "cell_type": "code",
      "source": [
        "model.summary()"
      ],
      "metadata": {
        "colab": {
          "base_uri": "https://localhost:8080/"
        },
        "id": "aPj_kvae5dV5",
        "outputId": "d7e1b29c-5f3e-43b2-e0c6-c1c0d6c2878b"
      },
      "execution_count": null,
      "outputs": [
        {
          "output_type": "stream",
          "name": "stdout",
          "text": [
            "Model: \"model\"\n",
            "_________________________________________________________________\n",
            " Layer (type)                Output Shape              Param #   \n",
            "=================================================================\n",
            " input_12 (InputLayer)       [(None, 100, 100, 3)]     0         \n",
            "                                                                 \n",
            " xception (Functional)       (None, 3, 3, 2048)        20861480  \n",
            "                                                                 \n",
            " global_average_pooling2d (G  (None, 2048)             0         \n",
            " lobalAveragePooling2D)                                          \n",
            "                                                                 \n",
            " dense_15 (Dense)            (None, 131)               268419    \n",
            "                                                                 \n",
            "=================================================================\n",
            "Total params: 21,129,899\n",
            "Trainable params: 268,419\n",
            "Non-trainable params: 20,861,480\n",
            "_________________________________________________________________\n"
          ]
        }
      ]
    },
    {
      "cell_type": "code",
      "source": [
        "history = model.fit(\n",
        "    train_set, \n",
        "    epochs=EPOCHS, \n",
        "    validation_data=val_set)"
      ],
      "metadata": {
        "colab": {
          "base_uri": "https://localhost:8080/"
        },
        "id": "CgNoM0F04rgE",
        "outputId": "38ce66c6-ec1b-4cdb-b519-9ef404b1d4c6"
      },
      "execution_count": null,
      "outputs": [
        {
          "output_type": "stream",
          "name": "stdout",
          "text": [
            "Epoch 1/20\n",
            "834/834 [==============================] - 115s 139ms/step - loss: 226.1175 - accuracy: 0.4749 - val_loss: 201.5798 - val_accuracy: 0.3083\n",
            "Epoch 2/20\n",
            "834/834 [==============================] - 114s 136ms/step - loss: 214.4299 - accuracy: 0.4621 - val_loss: 252.2291 - val_accuracy: 0.3083\n",
            "Epoch 3/20\n",
            "834/834 [==============================] - 113s 136ms/step - loss: 223.0627 - accuracy: 0.4685 - val_loss: 221.0346 - val_accuracy: 0.0509\n",
            "Epoch 4/20\n",
            "834/834 [==============================] - 113s 136ms/step - loss: 224.6670 - accuracy: 0.4583 - val_loss: 291.4684 - val_accuracy: 0.3083\n",
            "Epoch 5/20\n",
            "834/834 [==============================] - 113s 136ms/step - loss: 226.0584 - accuracy: 0.4603 - val_loss: 194.8815 - val_accuracy: 0.3083\n",
            "Epoch 6/20\n",
            "834/834 [==============================] - 114s 136ms/step - loss: 224.4773 - accuracy: 0.4646 - val_loss: 84.0669 - val_accuracy: 0.6043\n",
            "Epoch 7/20\n",
            "834/834 [==============================] - 114s 136ms/step - loss: 227.3481 - accuracy: 0.4690 - val_loss: 101.9899 - val_accuracy: 0.5618\n",
            "Epoch 8/20\n",
            "834/834 [==============================] - 114s 137ms/step - loss: 226.7308 - accuracy: 0.4681 - val_loss: 122.5790 - val_accuracy: 0.4243\n",
            "Epoch 9/20\n",
            "834/834 [==============================] - 114s 136ms/step - loss: 220.3036 - accuracy: 0.4533 - val_loss: 298.6852 - val_accuracy: 0.3083\n",
            "Epoch 10/20\n",
            "834/834 [==============================] - 113s 136ms/step - loss: 220.8066 - accuracy: 0.4723 - val_loss: 289.5652 - val_accuracy: 0.1403\n",
            "Epoch 11/20\n",
            "834/834 [==============================] - 113s 136ms/step - loss: 223.3954 - accuracy: 0.4534 - val_loss: 169.3396 - val_accuracy: 0.2654\n",
            "Epoch 12/20\n",
            "834/834 [==============================] - 113s 136ms/step - loss: 220.5525 - accuracy: 0.4675 - val_loss: 157.6697 - val_accuracy: 0.1072\n",
            "Epoch 13/20\n",
            "834/834 [==============================] - 114s 136ms/step - loss: 228.8020 - accuracy: 0.4691 - val_loss: 86.3966 - val_accuracy: 0.4890\n",
            "Epoch 14/20\n",
            "834/834 [==============================] - 115s 138ms/step - loss: 228.7372 - accuracy: 0.4699 - val_loss: 265.3646 - val_accuracy: 0.2594\n",
            "Epoch 15/20\n",
            "834/834 [==============================] - 113s 136ms/step - loss: 230.8014 - accuracy: 0.4679 - val_loss: 215.6278 - val_accuracy: 0.2988\n",
            "Epoch 16/20\n",
            "834/834 [==============================] - 114s 136ms/step - loss: 234.1323 - accuracy: 0.4716 - val_loss: 180.8042 - val_accuracy: 0.2320\n",
            "Epoch 17/20\n",
            "834/834 [==============================] - 113s 136ms/step - loss: 232.7621 - accuracy: 0.4664 - val_loss: 138.9124 - val_accuracy: 0.2227\n",
            "Epoch 18/20\n",
            "834/834 [==============================] - 113s 136ms/step - loss: 237.4559 - accuracy: 0.4619 - val_loss: 192.9937 - val_accuracy: 0.2459\n",
            "Epoch 19/20\n",
            "834/834 [==============================] - 113s 136ms/step - loss: 230.6560 - accuracy: 0.4675 - val_loss: 291.5169 - val_accuracy: 0.3082\n",
            "Epoch 20/20\n",
            "834/834 [==============================] - 113s 136ms/step - loss: 231.6643 - accuracy: 0.4613 - val_loss: 183.3337 - val_accuracy: 0.2895\n"
          ]
        }
      ]
    },
    {
      "cell_type": "code",
      "source": [
        "#plt.plot(history.history['accuracy'], label='train')\n",
        "plt.plot(history.history['accuracy'], label='train accuracy')\n",
        "\n",
        "plt.plot(history.history['val_accuracy'], label='validation accuracy')\n",
        "plt.xticks(np.arange(10))\n",
        "plt.legend()\n"
      ],
      "metadata": {
        "colab": {
          "base_uri": "https://localhost:8080/",
          "height": 518
        },
        "id": "fVeJ3848FCJ5",
        "outputId": "ed702524-7217-4753-ccd9-681a477e0472"
      },
      "execution_count": null,
      "outputs": [
        {
          "output_type": "execute_result",
          "data": {
            "text/plain": [
              "<matplotlib.legend.Legend at 0x7fc98f20a490>"
            ]
          },
          "metadata": {},
          "execution_count": 111
        },
        {
          "output_type": "display_data",
          "data": {
            "image/png": "[encoded data removed]",
            "text/plain": [
              "<Figure size 842.4x595.44 with 1 Axes>"
            ]
          },
          "metadata": {}
        }
      ]
    },
    {
      "cell_type": "code",
      "source": [
        "model = network()"
      ],
      "metadata": {
        "id": "QgRv9HTU_u96"
      },
      "execution_count": null,
      "outputs": []
    },
    {
      "cell_type": "code",
      "source": [
        "!pip install visualkeras ; ! pip install ThreadedFileLoader # module for CNN visualization\n"
      ],
      "metadata": {
        "colab": {
          "base_uri": "https://localhost:8080/"
        },
        "id": "RdAJdoSX_3jg",
        "outputId": "5a702f2d-1347-4d86-e4af-39c2f3fac96c"
      },
      "execution_count": null,
      "outputs": [
        {
          "output_type": "stream",
          "name": "stdout",
          "text": [
            "Requirement already satisfied: visualkeras in /usr/local/lib/python3.7/dist-packages (0.0.2)\n",
            "Requirement already satisfied: pillow>=6.2.0 in /usr/local/lib/python3.7/dist-packages (from visualkeras) (7.1.2)\n",
            "Requirement already satisfied: aggdraw>=1.3.11 in /usr/local/lib/python3.7/dist-packages (from visualkeras) (1.3.12)\n",
            "Requirement already satisfied: numpy>=1.18.1 in /usr/local/lib/python3.7/dist-packages (from visualkeras) (1.19.5)\n",
            "Collecting ThreadedFileLoader\n",
            "  Downloading ThreadedFileLoader-1.0.0.11-py3-none-any.whl (3.0 kB)\n",
            "Requirement already satisfied: imageio in /usr/local/lib/python3.7/dist-packages (from ThreadedFileLoader) (2.4.1)\n",
            "Requirement already satisfied: wheel in /usr/local/lib/python3.7/dist-packages (from ThreadedFileLoader) (0.37.0)\n",
            "Requirement already satisfied: pillow in /usr/local/lib/python3.7/dist-packages (from imageio->ThreadedFileLoader) (7.1.2)\n",
            "Requirement already satisfied: numpy in /usr/local/lib/python3.7/dist-packages (from imageio->ThreadedFileLoader) (1.19.5)\n",
            "Installing collected packages: ThreadedFileLoader\n",
            "Successfully installed ThreadedFileLoader-1.0.0.11\n"
          ]
        }
      ]
    },
    {
      "cell_type": "code",
      "source": [
        "visualkeras.layered_view(model).show()\n",
        "visualkeras.layered_view(model,legend=True)"
      ],
      "metadata": {
        "colab": {
          "base_uri": "https://localhost:8080/",
          "height": 370
        },
        "id": "45v0kh9t_w6Q",
        "outputId": "96377f47-8120-4403-e33e-1c2f5b643481"
      },
      "execution_count": null,
      "outputs": [
        {
          "output_type": "execute_result",
          "data": {
            "image/png": "[encoded data removed]",
            "text/plain": [
              "<PIL.Image.Image image mode=RGBA size=2004x634 at 0x7F3DACF12F90>"
            ]
          },
          "metadata": {},
          "execution_count": 53
        }
      ]
    },
    {
      "cell_type": "code",
      "source": [
        "@tf.function\n",
        "def train_step(x, y):\n",
        "    with tf.GradientTape() as tape:\n",
        "        logits = model(x)\n",
        "        loss_value = tf.nn.sigmoid_cross_entropy_with_logits(labels=y, logits=logits)\n",
        "    grads = tape.gradient(loss_value, model.trainable_weights)\n",
        "    optimizer.apply_gradients(zip(grads, model.trainable_weights))\n",
        "    # Track progress\n",
        "    train_loss_avg.update_state(loss_value)\n",
        "    train_accuracy.update_state(y, logits)\n",
        "    return loss_value"
      ],
      "metadata": {
        "id": "YB0e6EkFAHM9"
      },
      "execution_count": null,
      "outputs": []
    },
    {
      "cell_type": "code",
      "source": [
        "@tf.function\n",
        "def test_step(x, y, set_name):\n",
        "    logits = model(x)\n",
        "    if set_name == 'val':\n",
        "        val_accuracy.update_state(y, logits)\n",
        "    else:\n",
        "        test_accuracy.update_state(y, logits)"
      ],
      "metadata": {
        "id": "76Nn6dZmAXoK"
      },
      "execution_count": null,
      "outputs": []
    },
    {
      "cell_type": "code",
      "source": [
        "optimizer = tf.keras.optimizers.Adam(learning_rate=LR)\n",
        "create_log_dir(log_dir, checkpoint_dir)\n",
        "train_summary_writer = tf.summary.create_file_writer(log_dir)"
      ],
      "metadata": {
        "id": "GN68-47IAcTH"
      },
      "execution_count": null,
      "outputs": []
    },
    {
      "cell_type": "code",
      "source": [
        "train_loss_avg = tf.keras.metrics.Mean()\n",
        "train_accuracy = tf.keras.metrics.MeanAbsoluteError()\n",
        "val_accuracy = tf.keras.metrics.MeanAbsoluteError()\n",
        "test_accuracy = tf.keras.metrics.MeanAbsoluteError()"
      ],
      "metadata": {
        "id": "5Wa7uX1SAeix"
      },
      "execution_count": null,
      "outputs": []
    },
    {
      "cell_type": "code",
      "source": [
        "for epoch in range(EPOCHS):\n",
        "    # Training loop\n",
        "    for x_batch_train, y_batch_train in tqdm(train_set, total=1517):\n",
        "        # Do step\n",
        "        loss_value = train_step(x_batch_train, y_batch_train)\n",
        "        \n",
        "    # Test on validation set\n",
        "    for x_batch_val, y_batch_val in val_set:\n",
        "        test_step(x_batch_val, y_batch_val, 'val')\n",
        "    \n",
        "    # Reset training metrics at the end of each epoch\n",
        "    train_acc = train_accuracy.result()\n",
        "    train_accuracy.reset_states()\n",
        "    val_acc = val_accuracy.result()\n",
        "    val_accuracy.reset_states()\n",
        "    \n",
        "    with train_summary_writer.as_default():\n",
        "        tf.summary.scalar('Train loss', train_loss_avg.result(), step=epoch)\n",
        "        tf.summary.scalar('Train MAE', train_acc, step=epoch)\n",
        "        tf.summary.scalar('Val MAE', val_acc, step=epoch)\n",
        "        \n",
        "    if epoch % 10 == 0:\n",
        "        tf.keras.models.save_model(model, '{}/Epoch_{}_model.hp5'.format(checkpoint_dir, str(epoch)), save_format=\"h5\")"
      ],
      "metadata": {
        "colab": {
          "base_uri": "https://localhost:8080/"
        },
        "id": "c5Jf2xVkAgu5",
        "outputId": "c4be040f-2cc3-4f98-84ea-fa24714b4308"
      },
      "execution_count": null,
      "outputs": [
        {
          "output_type": "stream",
          "name": "stderr",
          "text": [
            " 55%|█████▍    | 833/1517 [00:39<00:32, 20.84it/s]\n"
          ]
        },
        {
          "output_type": "stream",
          "name": "stdout",
          "text": [
            "WARNING:tensorflow:Compiled the loaded model, but the compiled metrics have yet to be built. `model.compile_metrics` will be empty until you train or evaluate the model.\n"
          ]
        },
        {
          "output_type": "stream",
          "name": "stderr",
          "text": [
            " 55%|█████▍    | 833/1517 [00:39<00:32, 20.88it/s]\n",
            " 55%|█████▍    | 833/1517 [00:39<00:32, 20.86it/s]\n",
            " 55%|█████▍    | 833/1517 [00:39<00:32, 20.88it/s]\n",
            " 55%|█████▍    | 833/1517 [00:39<00:32, 20.87it/s]\n",
            " 55%|█████▍    | 833/1517 [00:39<00:32, 20.89it/s]\n",
            " 55%|█████▍    | 833/1517 [00:39<00:32, 20.89it/s]\n",
            " 55%|█████▍    | 833/1517 [00:39<00:32, 20.88it/s]\n",
            " 55%|█████▍    | 833/1517 [00:39<00:32, 20.87it/s]\n",
            " 55%|█████▍    | 833/1517 [00:39<00:32, 20.88it/s]\n"
          ]
        }
      ]
    },
    {
      "cell_type": "code",
      "source": [
        "%load_ext tensorboard"
      ],
      "metadata": {
        "colab": {
          "base_uri": "https://localhost:8080/"
        },
        "id": "D1A50WEcBTQM",
        "outputId": "104d597b-dade-4528-f62f-6af382ae4e2f"
      },
      "execution_count": null,
      "outputs": [
        {
          "output_type": "stream",
          "name": "stdout",
          "text": [
            "The tensorboard extension is already loaded. To reload it, use:\n",
            "  %reload_ext tensorboard\n"
          ]
        }
      ]
    },
    {
      "cell_type": "code",
      "source": [
        "%tensorboard --logdir /content/logs"
      ],
      "metadata": {
        "id": "GFRx33bLBXob"
      },
      "execution_count": null,
      "outputs": []
    },
    {
      "cell_type": "markdown",
      "source": [
        "### Saving Models"
      ],
      "metadata": {
        "id": "U-lvnZHv7pjd"
      }
    },
    {
      "cell_type": "code",
      "source": [
        "!zip -r scratch_models.zip /content/checkpoints/scratch_aug"
      ],
      "metadata": {
        "colab": {
          "base_uri": "https://localhost:8080/"
        },
        "id": "xKRrtP8CeDDe",
        "outputId": "3b4cab63-9c7f-415a-8201-4282a8da0857"
      },
      "execution_count": null,
      "outputs": [
        {
          "output_type": "stream",
          "name": "stdout",
          "text": [
            "  adding: content/checkpoints/scratch_aug/ (stored 0%)\n",
            "  adding: content/checkpoints/scratch_aug/Epoch_250_model.hp5 (deflated 7%)\n",
            "  adding: content/checkpoints/scratch_aug/Epoch_0_model.hp5 (deflated 7%)\n",
            "  adding: content/checkpoints/scratch_aug/Epoch_350_model.hp5 (deflated 7%)\n",
            "  adding: content/checkpoints/scratch_aug/Epoch_450_model.hp5 (deflated 7%)\n",
            "  adding: content/checkpoints/scratch_aug/Epoch_100_model.hp5 (deflated 7%)\n",
            "  adding: content/checkpoints/scratch_aug/Epoch_200_model.hp5 (deflated 7%)\n",
            "  adding: content/checkpoints/scratch_aug/Epoch_50_model.hp5 (deflated 7%)\n",
            "  adding: content/checkpoints/scratch_aug/Epoch_400_model.hp5 (deflated 7%)\n",
            "  adding: content/checkpoints/scratch_aug/Epoch_150_model.hp5 (deflated 7%)\n",
            "  adding: content/checkpoints/scratch_aug/Epoch_300_model.hp5 (deflated 7%)\n",
            "  adding: content/checkpoints/scratch_aug/Epoch_500_model.hp5 (deflated 7%)\n"
          ]
        }
      ]
    },
    {
      "cell_type": "code",
      "source": [
        "import tensorflow as tf \n",
        "raw_dataset = tf.data.TFRecordDataset(\"/content/tfrecords/train.tfrecords\")\n",
        "\n",
        "for raw_record in raw_dataset.take(1):\n",
        "    example = tf.train.Example()\n",
        "    example.ParseFromString(raw_record.numpy())\n",
        "    print(example)"
      ],
      "metadata": {
        "id": "pz0kTxW9fO9e"
      },
      "execution_count": null,
      "outputs": []
    },
    {
      "cell_type": "code",
      "source": [
        "example\n"
      ],
      "metadata": {
        "colab": {
          "base_uri": "https://localhost:8080/"
        },
        "id": "o1Aeiv11gAre",
        "outputId": "67ac3f2d-16c9-42c4-e090-7319f107e188"
      },
      "execution_count": null,
      "outputs": [
        {
          "output_type": "execute_result",
          "data": {
            "text/plain": [
              ""
            ]
          },
          "metadata": {},
          "execution_count": 32
        }
      ]
    }
  ]
}